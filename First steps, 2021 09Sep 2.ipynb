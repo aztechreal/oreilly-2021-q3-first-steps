{
 "cells": [
  {
   "cell_type": "markdown",
   "metadata": {},
   "source": [
    "# Week 4: Functions!\n",
    "\n",
    "1. What are functions?\n",
    "2. Defining functions\n",
    "3. Arguments and parameters\n",
    "4. Return values\n",
    "5. Default argument values\n",
    "6. Complex return values\n",
    "7. Unpacking\n",
    "8. Locals and globals"
   ]
  },
  {
   "cell_type": "code",
   "execution_count": 3,
   "metadata": {
    "scrolled": true
   },
   "outputs": [
    {
     "name": "stdout",
     "output_type": "stream",
     "text": [
      "('a', 1)\n",
      "a: 1\n",
      "\n",
      "\n",
      "('b', 2)\n",
      "b: 2\n",
      "\n",
      "\n",
      "('c', 3)\n",
      "c: 3\n",
      "\n",
      "\n"
     ]
    }
   ],
   "source": [
    "d = {'a':1, 'b':2, 'c':3}    # dictionary\n",
    "\n",
    "for t in d.items():          # iterating over d.items(), which gives us key-value pairs (two-element tuples)\n",
    "    print(t)\n",
    "    print(f'{t[0]}: {t[1]}') # in each tuple, index 0 is the key and index 1 is the value\n",
    "    print('\\n')\n",
    "\n",
    "\n"
   ]
  },
  {
   "cell_type": "code",
   "execution_count": 4,
   "metadata": {},
   "outputs": [
    {
     "data": {
      "text/plain": [
       "('a', 1)"
      ]
     },
     "execution_count": 4,
     "metadata": {},
     "output_type": "execute_result"
    }
   ],
   "source": [
    "t = ('a', 1)\n",
    "t"
   ]
  },
  {
   "cell_type": "code",
   "execution_count": 5,
   "metadata": {},
   "outputs": [],
   "source": [
    "# two values (on the right) are assigned to two variables (on the left)\n",
    "\n",
    "key, value = t   # tuple unpacking / unpacking "
   ]
  },
  {
   "cell_type": "code",
   "execution_count": 6,
   "metadata": {},
   "outputs": [
    {
     "data": {
      "text/plain": [
       "'a'"
      ]
     },
     "execution_count": 6,
     "metadata": {},
     "output_type": "execute_result"
    }
   ],
   "source": [
    "key"
   ]
  },
  {
   "cell_type": "code",
   "execution_count": 7,
   "metadata": {},
   "outputs": [
    {
     "data": {
      "text/plain": [
       "1"
      ]
     },
     "execution_count": 7,
     "metadata": {},
     "output_type": "execute_result"
    }
   ],
   "source": [
    "value"
   ]
  },
  {
   "cell_type": "code",
   "execution_count": 8,
   "metadata": {},
   "outputs": [
    {
     "name": "stdout",
     "output_type": "stream",
     "text": [
      "a: 1\n",
      "b: 2\n",
      "c: 3\n"
     ]
    }
   ],
   "source": [
    "d = {'a':1, 'b':2, 'c':3}    # dictionary\n",
    "\n",
    "for key, value in d.items():  # with each iteration, our tuple will be unpacked into key, value\n",
    "    print(f'{key}: {value}')\n"
   ]
  },
  {
   "cell_type": "markdown",
   "metadata": {},
   "source": [
    "# DRY (Don't Repeat Yourself) rule\n",
    "\n",
    "If I have code that repeats itself, several lines in a row, then I can use a loop.\n",
    "\n",
    "So instead of saying\n",
    "\n",
    "```python\n",
    "s = 'abcd'\n",
    "print(s[0])\n",
    "print(s[1])\n",
    "print(s[2])\n",
    "print(s[3])\n",
    "```\n",
    "\n",
    "Instead, I can say:\n",
    "\n",
    "```python\n",
    "for one_item in s:\n",
    "    print(one_item)\n",
    "```\n",
    "\n",
    "What happens if I have repeated code in multiple places in my program?  I want to DRY up my code there, too... and for this, I can use a function."
   ]
  },
  {
   "cell_type": "markdown",
   "metadata": {},
   "source": [
    "# Another reason to use functions: Abstraction\n",
    "\n",
    "\"Abstraction\" means that I can take many ideas, and compress them into a single term.  Then I don't need to worry about the complexity of the idea, implementation, etc.\n",
    "\n",
    "- Example 1: Driving a car -- abstraction allows me to focus on what's important \n",
    "- Example 2: Making a scrambled egg -- abstraction allows me to describe a complex series of tasks with one term\n",
    "\n",
    "Functions accomplish both of these. They allow us to compress a lot of actions into a single term. And they also hide the complexity, allowing us to think at a higher level."
   ]
  },
  {
   "cell_type": "markdown",
   "metadata": {},
   "source": [
    "# Another way to think about functions: They are verbs\n",
    "\n",
    "Data (ints, strings, lists, etc.) are the nouns of programming.\n",
    "\n",
    "Functions are the verbs of programming.\n",
    "\n",
    "We've already seen a bunch of functions (and methods, which I'll lump in with them):\n",
    "- `len`\n",
    "- `print`\n",
    "- `input`\n",
    "- `str.isdigit`\n",
    "\n",
    "When we want to use a function, we execute it, or call it, or run it.  All of these terms are totally OK."
   ]
  },
  {
   "cell_type": "code",
   "execution_count": 9,
   "metadata": {},
   "outputs": [],
   "source": [
    "# To write a function in Python, we use the keyword \"def\" (short for \"define\")\n",
    "# Here is a simple function:\n",
    "\n",
    "def hello():         # start with \"def\", then the name of the function we're defining, then (), then :\n",
    "    print('Hello!')  # indentation for as many lines of the \"function body\" as we want\n",
    "    \n",
    "# What code can be in a function body?  ABSOLUTELY ANYTHING."
   ]
  },
  {
   "cell_type": "code",
   "execution_count": 10,
   "metadata": {},
   "outputs": [
    {
     "name": "stdout",
     "output_type": "stream",
     "text": [
      "Hello!\n"
     ]
    }
   ],
   "source": [
    "# How do I execute my function?  I give its name, and then use parentheses\n",
    "\n",
    "hello()  # call the function"
   ]
  },
  {
   "cell_type": "code",
   "execution_count": 11,
   "metadata": {},
   "outputs": [
    {
     "data": {
      "text/plain": [
       "function"
      ]
     },
     "execution_count": 11,
     "metadata": {},
     "output_type": "execute_result"
    }
   ],
   "source": [
    "# Python knows it's a function\n",
    "type(hello)"
   ]
  },
  {
   "cell_type": "code",
   "execution_count": 12,
   "metadata": {},
   "outputs": [],
   "source": [
    "def greet_me():   # here, I define the function\n",
    "    name = input('Enter your name: ').strip()\n",
    "    print(f'Hello, {name}!')"
   ]
  },
  {
   "cell_type": "code",
   "execution_count": 13,
   "metadata": {},
   "outputs": [
    {
     "name": "stdout",
     "output_type": "stream",
     "text": [
      "Enter your name: Reuven\n",
      "Hello, Reuven!\n"
     ]
    }
   ],
   "source": [
    "greet_me()        # here, I run the function"
   ]
  },
  {
   "cell_type": "code",
   "execution_count": 14,
   "metadata": {
    "scrolled": true
   },
   "outputs": [
    {
     "name": "stdout",
     "output_type": "stream",
     "text": [
      "Enter your name: a\n",
      "Hello, a!\n",
      "Enter your name: b\n",
      "Hello, b!\n",
      "Enter your name: c\n",
      "Hello, c!\n"
     ]
    }
   ],
   "source": [
    "# once I have the function defined, I can run it multiple times\n",
    "for i in range(3):\n",
    "    greet_me()"
   ]
  },
  {
   "cell_type": "code",
   "execution_count": null,
   "metadata": {},
   "outputs": [],
   "source": []
  },
  {
   "cell_type": "markdown",
   "metadata": {},
   "source": [
    "# Exercise: Calculator\n",
    "\n",
    "1. Write a function, `calc`.  When the function is called, it asks the user to enter three different strings:\n",
    "    - `first`, a number\n",
    "    - `op`, a string (should be either `+` or `-`)\n",
    "    - `second`, a number\n",
    "2. `calc` should turn `first` and `second` into integers, and then check `op` to see what operation we should run.\n",
    "3. `calc` should print the result of the appropriate operation.\n",
    "\n",
    "Example:\n",
    "\n",
    "    Enter first: 10\n",
    "    Enter op: +\n",
    "    Enter second: 5\n",
    "    10 + 5 = 15"
   ]
  },
  {
   "cell_type": "code",
   "execution_count": 15,
   "metadata": {},
   "outputs": [
    {
     "data": {
      "text/plain": [
       "7"
      ]
     },
     "execution_count": 15,
     "metadata": {},
     "output_type": "execute_result"
    }
   ],
   "source": [
    "x = 5\n",
    "x = 7    # obviously, x=5 has been lost.  It doesn't remember that x was once 5\n",
    "\n",
    "x"
   ]
  },
  {
   "cell_type": "code",
   "execution_count": 16,
   "metadata": {},
   "outputs": [],
   "source": [
    "# In the same way, when we define a function that has already been defined, \n",
    "# the older one goes away."
   ]
  },
  {
   "cell_type": "code",
   "execution_count": null,
   "metadata": {},
   "outputs": [],
   "source": [
    "def calc():\n",
    "    first = input('Enter first: ').strip()\n",
    "    op = input('Enter op: ').strip()\n",
    "    second = input('Enter second: ').strip()\n",
    "    \n",
    "    first = int(first)\n",
    "    second = int(second)\n",
    "    \n",
    "    if op == '+':\n",
    "        result = first + second\n",
    "    elif op == '-':\n",
    "        result = first - second\n",
    "    else:\n",
    "        result = f'Operator {op} is not supported'\n",
    "        \n",
    "    print(f'{firs}')"
   ]
  }
 ],
 "metadata": {
  "kernelspec": {
   "display_name": "Python 3",
   "language": "python",
   "name": "python3"
  },
  "language_info": {
   "codemirror_mode": {
    "name": "ipython",
    "version": 3
   },
   "file_extension": ".py",
   "mimetype": "text/x-python",
   "name": "python",
   "nbconvert_exporter": "python",
   "pygments_lexer": "ipython3",
   "version": "3.9.6"
  }
 },
 "nbformat": 4,
 "nbformat_minor": 4
}
