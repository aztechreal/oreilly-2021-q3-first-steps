{
 "cells": [
  {
   "cell_type": "markdown",
   "metadata": {},
   "source": [
    "# Week 3: Dictionaries and files"
   ]
  },
  {
   "cell_type": "code",
   "execution_count": 1,
   "metadata": {},
   "outputs": [
    {
     "name": "stdout",
     "output_type": "stream",
     "text": [
      "Hello!\n"
     ]
    }
   ],
   "source": [
    "print('Hello!')"
   ]
  },
  {
   "cell_type": "code",
   "execution_count": 2,
   "metadata": {},
   "outputs": [],
   "source": [
    "# to create executable Python programs, you can use Pyinstaller\n",
    "# go to https://pyinstaller.org/ for more details"
   ]
  },
  {
   "cell_type": "code",
   "execution_count": 3,
   "metadata": {},
   "outputs": [
    {
     "data": {
      "text/plain": [
       "tuple"
      ]
     },
     "execution_count": 3,
     "metadata": {},
     "output_type": "execute_result"
    }
   ],
   "source": [
    "# we talked a bit at the end about tuples\n",
    "# tuples are basically immutable lists\n",
    "\n",
    "t = (10, 20, 30, 40, 50)\n",
    "type(t)"
   ]
  },
  {
   "cell_type": "code",
   "execution_count": 5,
   "metadata": {},
   "outputs": [
    {
     "data": {
      "text/plain": [
       "tuple"
      ]
     },
     "execution_count": 5,
     "metadata": {},
     "output_type": "execute_result"
    }
   ],
   "source": [
    "# no parentheses needed for tuples!  The comma is the most important thing\n",
    "t = 10, 20, 30, 40, 50\n",
    "type(t)"
   ]
  },
  {
   "cell_type": "code",
   "execution_count": 6,
   "metadata": {},
   "outputs": [
    {
     "data": {
      "text/plain": [
       "[10, 20, 30]"
      ]
     },
     "execution_count": 6,
     "metadata": {},
     "output_type": "execute_result"
    }
   ],
   "source": [
    "mylist = [10, 20, 30]\n",
    "x = mylist\n",
    "\n",
    "x  # it'll be [10, 20, 30], of course"
   ]
  },
  {
   "cell_type": "code",
   "execution_count": 7,
   "metadata": {},
   "outputs": [],
   "source": [
    "x,y,z = mylist"
   ]
  },
  {
   "cell_type": "code",
   "execution_count": 8,
   "metadata": {},
   "outputs": [
    {
     "data": {
      "text/plain": [
       "10"
      ]
     },
     "execution_count": 8,
     "metadata": {},
     "output_type": "execute_result"
    }
   ],
   "source": [
    "x"
   ]
  },
  {
   "cell_type": "code",
   "execution_count": 9,
   "metadata": {},
   "outputs": [
    {
     "data": {
      "text/plain": [
       "20"
      ]
     },
     "execution_count": 9,
     "metadata": {},
     "output_type": "execute_result"
    }
   ],
   "source": [
    "y"
   ]
  },
  {
   "cell_type": "code",
   "execution_count": 10,
   "metadata": {},
   "outputs": [
    {
     "data": {
      "text/plain": [
       "30"
      ]
     },
     "execution_count": 10,
     "metadata": {},
     "output_type": "execute_result"
    }
   ],
   "source": [
    "z"
   ]
  },
  {
   "cell_type": "code",
   "execution_count": 11,
   "metadata": {},
   "outputs": [
    {
     "data": {
      "text/plain": [
       "'a'"
      ]
     },
     "execution_count": 11,
     "metadata": {},
     "output_type": "execute_result"
    }
   ],
   "source": [
    "# this is known as \"tuple unpacking,\" because the variables on the left\n",
    "# are in a tuple\n",
    "\n",
    "# so long as the data on the right is iterable (i.e., can run in a for loop)\n",
    "# and so long as the number of elements on the right == number of variables on the left\n",
    "# then we're OK!\n",
    "\n",
    "x,y,z = 'abc'\n",
    "\n",
    "x"
   ]
  },
  {
   "cell_type": "code",
   "execution_count": 12,
   "metadata": {},
   "outputs": [
    {
     "data": {
      "text/plain": [
       "'b'"
      ]
     },
     "execution_count": 12,
     "metadata": {},
     "output_type": "execute_result"
    }
   ],
   "source": [
    "y"
   ]
  },
  {
   "cell_type": "code",
   "execution_count": 13,
   "metadata": {},
   "outputs": [
    {
     "data": {
      "text/plain": [
       "'c'"
      ]
     },
     "execution_count": 13,
     "metadata": {},
     "output_type": "execute_result"
    }
   ],
   "source": [
    "z"
   ]
  },
  {
   "cell_type": "code",
   "execution_count": 14,
   "metadata": {},
   "outputs": [],
   "source": [
    "person = ('Reuven', 'Lerner', 46)\n",
    "\n",
    "# this is a tuple describing a person's information (first, last, shoe_size)"
   ]
  },
  {
   "cell_type": "code",
   "execution_count": 15,
   "metadata": {},
   "outputs": [],
   "source": [
    "first_name, last_name, shoe_size = person"
   ]
  },
  {
   "cell_type": "code",
   "execution_count": 16,
   "metadata": {},
   "outputs": [
    {
     "data": {
      "text/plain": [
       "'Reuven'"
      ]
     },
     "execution_count": 16,
     "metadata": {},
     "output_type": "execute_result"
    }
   ],
   "source": [
    "first_name"
   ]
  },
  {
   "cell_type": "code",
   "execution_count": 17,
   "metadata": {},
   "outputs": [
    {
     "data": {
      "text/plain": [
       "'Lerner'"
      ]
     },
     "execution_count": 17,
     "metadata": {},
     "output_type": "execute_result"
    }
   ],
   "source": [
    "last_name"
   ]
  },
  {
   "cell_type": "code",
   "execution_count": 18,
   "metadata": {},
   "outputs": [
    {
     "data": {
      "text/plain": [
       "46"
      ]
     },
     "execution_count": 18,
     "metadata": {},
     "output_type": "execute_result"
    }
   ],
   "source": [
    "shoe_size"
   ]
  },
  {
   "cell_type": "code",
   "execution_count": 20,
   "metadata": {},
   "outputs": [],
   "source": [
    "x = 222   # x is an integer, 222\n",
    "y = 444   # y is an integer, 444\n",
    "\n",
    "# (1) in assignment, right side before left side\n",
    "# (2) on the right, we're creating a new tuple from (y,x)\n",
    "# (3) on the left, we're using unpacking to grab two values and assign them to x and y\n",
    "# (4) it's a complete coincidence that x,y is on the left and y,x is on the right\n",
    "# The effect?  We have swapped the variables' values\n",
    "\n",
    "x,y = y,x"
   ]
  },
  {
   "cell_type": "code",
   "execution_count": 21,
   "metadata": {},
   "outputs": [
    {
     "data": {
      "text/plain": [
       "444"
      ]
     },
     "execution_count": 21,
     "metadata": {},
     "output_type": "execute_result"
    }
   ],
   "source": [
    "x"
   ]
  },
  {
   "cell_type": "code",
   "execution_count": 22,
   "metadata": {},
   "outputs": [
    {
     "data": {
      "text/plain": [
       "222"
      ]
     },
     "execution_count": 22,
     "metadata": {},
     "output_type": "execute_result"
    }
   ],
   "source": [
    "y"
   ]
  },
  {
   "cell_type": "markdown",
   "metadata": {},
   "source": [
    "# Dictionaries\n",
    "\n",
    "Dictionaries (aka \"dicts\" in Python) are not unique to Python.  They have other names in other languages:\n",
    "\n",
    "- Associative arrays\n",
    "- Hash tables\n",
    "- Hash maps\n",
    "- Hashes\n",
    "- Key value pairs\n",
    "- Name value pairs\n",
    "\n",
    "And some other names, too...\n",
    "\n",
    "Dicts give us a combination of benefits."
   ]
  },
  {
   "cell_type": "code",
   "execution_count": 24,
   "metadata": {},
   "outputs": [],
   "source": [
    "# define a new dictionary using {}  (curly braces)\n",
    "# a dict always has pairs of data -- key-value pairs, \n",
    "\n",
    "# (1) use curly braces\n",
    "# (2) the pairs are separated by commas\n",
    "# (3) the keys and values are separated by colons\n",
    "# (4) you can use any type (more or less) for keys and values\n",
    "#   values can be ABSOLUTELY ANYTHING AT ALL -- strings, lists, dicts, etc.\n",
    "\n",
    "d = {'a':1, 'b':2, 'c':3}"
   ]
  },
  {
   "cell_type": "code",
   "execution_count": 25,
   "metadata": {},
   "outputs": [
    {
     "data": {
      "text/plain": [
       "1"
      ]
     },
     "execution_count": 25,
     "metadata": {},
     "output_type": "execute_result"
    }
   ],
   "source": [
    "# to retrieve from a dict, we use [] and the key\n",
    "d['a']"
   ]
  },
  {
   "cell_type": "code",
   "execution_count": 26,
   "metadata": {},
   "outputs": [
    {
     "data": {
      "text/plain": [
       "2"
      ]
     },
     "execution_count": 26,
     "metadata": {},
     "output_type": "execute_result"
    }
   ],
   "source": [
    "d['b']"
   ]
  },
  {
   "cell_type": "code",
   "execution_count": 27,
   "metadata": {},
   "outputs": [
    {
     "data": {
      "text/plain": [
       "3"
      ]
     },
     "execution_count": 27,
     "metadata": {},
     "output_type": "execute_result"
    }
   ],
   "source": [
    "d['c']"
   ]
  },
  {
   "cell_type": "code",
   "execution_count": 29,
   "metadata": {},
   "outputs": [
    {
     "ename": "KeyError",
     "evalue": "'x'",
     "output_type": "error",
     "traceback": [
      "\u001b[0;31m---------------------------------------------------------------------------\u001b[0m",
      "\u001b[0;31mKeyError\u001b[0m                                  Traceback (most recent call last)",
      "\u001b[0;32m<ipython-input-29-b6bef55424fe>\u001b[0m in \u001b[0;36m<module>\u001b[0;34m\u001b[0m\n\u001b[0;32m----> 1\u001b[0;31m \u001b[0md\u001b[0m\u001b[0;34m[\u001b[0m\u001b[0;34m'x'\u001b[0m\u001b[0;34m]\u001b[0m  \u001b[0;31m# the key 'x' does not exist, so we get an error\u001b[0m\u001b[0;34m\u001b[0m\u001b[0;34m\u001b[0m\u001b[0m\n\u001b[0m",
      "\u001b[0;31mKeyError\u001b[0m: 'x'"
     ]
    }
   ],
   "source": [
    "d['x']  # the key 'x' does not exist, so we get an error"
   ]
  },
  {
   "cell_type": "code",
   "execution_count": 30,
   "metadata": {},
   "outputs": [],
   "source": [
    "# what if I want to find out if a key exists in a dict?\n",
    "# I can use the \"in\" operator\n",
    "# \"in\" *ONLY* looks in the keys!  It never looks at the values!"
   ]
  },
  {
   "cell_type": "code",
   "execution_count": 31,
   "metadata": {},
   "outputs": [
    {
     "data": {
      "text/plain": [
       "True"
      ]
     },
     "execution_count": 31,
     "metadata": {},
     "output_type": "execute_result"
    }
   ],
   "source": [
    "'a' in d"
   ]
  },
  {
   "cell_type": "code",
   "execution_count": 32,
   "metadata": {},
   "outputs": [
    {
     "data": {
      "text/plain": [
       "False"
      ]
     },
     "execution_count": 32,
     "metadata": {},
     "output_type": "execute_result"
    }
   ],
   "source": [
    "'x' in d"
   ]
  },
  {
   "cell_type": "code",
   "execution_count": 33,
   "metadata": {},
   "outputs": [
    {
     "data": {
      "text/plain": [
       "False"
      ]
     },
     "execution_count": 33,
     "metadata": {},
     "output_type": "execute_result"
    }
   ],
   "source": [
    "1 in d"
   ]
  },
  {
   "cell_type": "code",
   "execution_count": 34,
   "metadata": {},
   "outputs": [
    {
     "data": {
      "text/plain": [
       "{'a': 3, 'b': 4}"
      ]
     },
     "execution_count": 34,
     "metadata": {},
     "output_type": "execute_result"
    }
   ],
   "source": [
    "# Keys must be unique.  If you try to create a dict with a key \n",
    "# that repeats, Python will enforce the uniqueness.\n",
    "\n",
    "# there is no restriction on the values, and how often they repeat\n",
    "\n",
    "d = {'a':1, 'b':2, 'a':3, 'b':4}\n",
    "d"
   ]
  },
  {
   "cell_type": "code",
   "execution_count": 35,
   "metadata": {},
   "outputs": [],
   "source": [
    "# the keys of a dict can be any IMMUTABLE type -- strings, ints, floats, even tuples\n",
    "# but *not* lists or dicts"
   ]
  },
  {
   "cell_type": "code",
   "execution_count": 36,
   "metadata": {},
   "outputs": [],
   "source": [
    "# a list or tuple can contain anything, but its indexes are always going to be\n",
    "# integers, starting at 0\n",
    "\n",
    "# a dict's keys can be any ints, or any string, giving us more semantic power\n",
    "# -- our data structure can feel more human"
   ]
  },
  {
   "cell_type": "markdown",
   "metadata": {},
   "source": [
    "# Summary of dicts, so far\n",
    "\n",
    "- We create a dict with `{}`, and key-value pairs inside of the `{}`\n",
    "- Pairs are separated with commas\n",
    "- Keys and values are separated by `:`\n",
    "- Keys must be immutable (strings, ints, floats, tuples)\n",
    "- Keys are unique -- only once in each dict\n",
    "- Values can be absolutely anything at all, of any type, and can repeat\n",
    "- Search for a key in a dict with `in`: `k in d`\n",
    "- Retrieve from a dict with `[]`\n",
    "- Every key must have a value, and every value must have a key.\n",
    "\n",
    "- You can use variables, as well:\n"
   ]
  },
  {
   "cell_type": "code",
   "execution_count": 37,
   "metadata": {},
   "outputs": [
    {
     "data": {
      "text/plain": [
       "1"
      ]
     },
     "execution_count": 37,
     "metadata": {},
     "output_type": "execute_result"
    }
   ],
   "source": [
    "d = {'a':1, 'b':2, 'c':3}\n",
    "k = 'a'\n",
    "d[k]   # this will retrieve d['a'], because the variable k contains 'a'"
   ]
  },
  {
   "cell_type": "markdown",
   "metadata": {},
   "source": [
    "# Exercise: Restaurant\n",
    "\n",
    "1. Define a variable, `total`, to be 0.\n",
    "2. Define a variable, `menu`, to be a dict. The keys in the dict will be the items on the menu, and the values will be the prices.\n",
    "3. Ask the user, repeatedly, to enter their order.\n",
    "    - If they enter an empty string, stop looping and print the total\n",
    "    - If they enter a string, and that item is on the menu, then print the price, the new total, and ask again\n",
    "    - If they enter a string, and that item is *not* on the menu, then scold them, and ask again\n",
    "4. Print the final total.\n",
    "\n",
    "Example:\n",
    "\n",
    "    Order: sandwich\n",
    "    sandwich costs 10, total is 10\n",
    "    Order: tea\n",
    "    tea costs 5, total is 15\n",
    "    Order: elephant\n",
    "    We are fresh out of elephant today!\n",
    "    Order: [ENTER]\n",
    "    Total is 15\n",
    "    \n",
    "### Hints and reminders\n",
    "- Use a `while True` loop to loop infinitely\n",
    "- Check if the user entered an empty string, and then `break` from the loop\n"
   ]
  },
  {
   "cell_type": "code",
   "execution_count": null,
   "metadata": {},
   "outputs": [],
   "source": [
    "total = 0\n",
    "menu = {'sandwich':10, 'tea':5, 'cake':3, 'apple':2}\n",
    "\n",
    "while True:\n",
    "    order = input('Order: ').strip()  # get input, remove surrounding whitespace\n",
    "    \n",
    "    if order == '':      # did we get nothing at all? break from the \"while\" loop\n",
    "        break\n",
    "        \n",
    "    if order in menu:    # is the user's input a key in our \"menu\" dict?\n",
    "        price = menu[order]  \n",
    "        total += price\n",
    "        print(f'{order} costs {price}; total is now {total}')"
   ]
  }
 ],
 "metadata": {
  "kernelspec": {
   "display_name": "Python 3",
   "language": "python",
   "name": "python3"
  },
  "language_info": {
   "codemirror_mode": {
    "name": "ipython",
    "version": 3
   },
   "file_extension": ".py",
   "mimetype": "text/x-python",
   "name": "python",
   "nbconvert_exporter": "python",
   "pygments_lexer": "ipython3",
   "version": "3.9.6"
  }
 },
 "nbformat": 4,
 "nbformat_minor": 4
}
