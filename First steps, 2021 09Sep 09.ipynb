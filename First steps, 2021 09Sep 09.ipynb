{
 "cells": [
  {
   "cell_type": "markdown",
   "metadata": {},
   "source": [
    "# Modules!\n",
    "\n",
    "1. Challenge question\n",
    "2. What are modules?\n",
    "3. What is `import`, and how does it work?\n",
    "4. Developing a module\n",
    "5. Python's standard library\n",
    "6. Modules vs. packages\n",
    "7. PyPI\n",
    "8. `pip` and installing packages from PyPI"
   ]
  },
  {
   "cell_type": "code",
   "execution_count": 2,
   "metadata": {},
   "outputs": [
    {
     "name": "stdout",
     "output_type": "stream",
     "text": [
      "reuven\r\n"
     ]
    }
   ],
   "source": [
    "!whoami"
   ]
  },
  {
   "cell_type": "markdown",
   "metadata": {},
   "source": [
    "# Python Skills Challenge: Functions\n",
    "\n",
    "In this challenge, you are to write a function `count_ips`. The function will take a single argument, a string naming a logfile from a Web server.  The function will return a Python dict, in which the keys are IP addresses from the file, and the values represent the number of times each IP address made a request from the site.\n",
    "\n",
    "Here are the first few lines from the sort of logfile the function should expect:\n",
    "\n",
    "```\n",
    "67.218.116.165 - - [30/Jan/2010:00:03:18 +0200] \"GET /robots.txt HTTP/1.0\" 200 99 \"-\" \"Mozilla/5.0 (Twiceler-0.9 http://www.cuil.com/twiceler/robot.html)\"\n",
    "66.249.71.65 - - [30/Jan/2010:00:12:06 +0200] \"GET /browse/one_node/1557 HTTP/1.1\" 200 39208 \"-\" \"Mozilla/5.0 (compatible; Googlebot/2.1; +http://www.google.com/bot.html)\"\n",
    "65.55.106.183 - - [30/Jan/2010:01:29:23 +0200] \"GET /robots.txt HTTP/1.1\" 200 99 \"-\" \"msnbot/2.0b (+http://search.msn.com/msnbot.htm)\"\n",
    "65.55.106.183 - - [30/Jan/2010:01:30:06 +0200] \"GET /browse/one_model/2162 HTTP/1.1\" 200 2181 \"-\" \"msnbot/2.0b (+http://search.msn.com/msnbot.htm)\"\n",
    "66.249.71.65 - - [30/Jan/2010:02:07:14 +0200] \"GET /browse/browse_applet_tab/2593 HTTP/1.1\" 200 10305 \"-\" \"Mozilla/5.0 (compatible; Googlebot/2.1; +http://www.google.com/bot.html)\"\n",
    "```\n",
    "\n",
    "Notice that each line of the file starts with an IP address, and then has (among other things) the timestamp at which the request was made, the actual request, and an indication of what browser was used to make the request.\n",
    "\n",
    "If the file is empty, then the returned dictionary should be empty.\n",
    "\n",
    "This Katacoda challenge system will test your function against a file, `logfile.txt`, that is in the current `/root` directory. When the function returns the correct values, you will see an indication of this.\n",
    "\n",
    "Good luck!\n"
   ]
  },
  {
   "cell_type": "code",
   "execution_count": 7,
   "metadata": {},
   "outputs": [
    {
     "name": "stdout",
     "output_type": "stream",
     "text": [
      "155 172 135 148 181 187 159 172 178 170 172 135 148 178 189 177 177 178 177 177 135 139 178 178 177 155 169 159 150 164 177 176 171 171 172 171 134 127 178 171 172 191 191 176 178 134 146 178 134 176 163 178 198 176 190 187 183 193 183 199 196 187 195 184 184 187 196 190 192 190 195 196 192 192 197 190 195 177 178 135 148 178 176 166 177 320 320 176 178 176 156 176 168 177 177 177 135 145 177 173 176 133 178 134 147 174 155 172 228 176 177 125 176 159 176 166 177 176 152 134 148 154 147 139 148 156 156 156 156 156 156 150 149 155 156 156 156 155 151 142 178 176 156 177 179 171 180 179 125 177 180 178 178 178 177 177 179 172 176 177 176 177 178 177 181 176 178 178 176 171 178 240 236 249 252 284 282 274 272 272 277 274 277 278 279 178 134 125 139 177 176 177 177 179 178 134 141 176 178 178 178 176 178 178 172 171 "
     ]
    },
    {
     "data": {
      "text/plain": [
       "{}"
      ]
     },
     "execution_count": 7,
     "metadata": {},
     "output_type": "execute_result"
    }
   ],
   "source": [
    "# set the filename we're reading from\n",
    "# (same as logfile.txt in the challenge -- this is the name on my system and GitHub)\n",
    "filename = 'mini-access-log.txt'  \n",
    "\n",
    "# define the function \n",
    "def count_ips(infilename):\n",
    "\n",
    "    # setup\n",
    "    output = {}\n",
    "    \n",
    "    # processing\n",
    "    for one_line in open(infilename):\n",
    "        print(len(one_line), end=' ')   # don't go down one line after each print\n",
    "    \n",
    "    # output\n",
    "    return output\n",
    "\n",
    "# run the function\n",
    "count_ips(filename)"
   ]
  },
  {
   "cell_type": "code",
   "execution_count": 9,
   "metadata": {
    "scrolled": false
   },
   "outputs": [
    {
     "name": "stdout",
     "output_type": "stream",
     "text": [
      "67.218.116.165\n",
      "66.249.71.65\n",
      "65.55.106.183\n",
      "65.55.106.183\n",
      "66.249.71.65\n",
      "66.249.71.65\n",
      "66.249.65.12\n",
      "66.249.65.12\n",
      "66.249.65.12\n",
      "66.249.65.12\n",
      "66.249.65.12\n",
      "65.55.106.131\n",
      "65.55.106.131\n",
      "66.249.65.12\n",
      "66.249.65.12\n",
      "66.249.65.12\n",
      "66.249.65.12\n",
      "66.249.65.12\n",
      "66.249.65.12\n",
      "66.249.65.12\n",
      "65.55.106.186\n",
      "65.55.106.186\n",
      "66.249.65.12\n",
      "66.249.65.12\n",
      "66.249.65.12\n",
      "74.52.245.146\n",
      "74.52.245.146\n",
      "66.249.65.43\n",
      "66.249.65.43\n",
      "66.249.65.43\n",
      "66.249.65.12\n",
      "66.249.65.12\n",
      "66.249.65.12\n",
      "66.249.65.12\n",
      "66.249.65.12\n",
      "66.249.65.12\n",
      "65.55.207.25\n",
      "65.55.207.25\n",
      "66.249.65.12\n",
      "66.249.65.12\n",
      "66.249.65.12\n",
      "66.249.65.12\n",
      "66.249.65.12\n",
      "66.249.65.12\n",
      "66.249.65.12\n",
      "65.55.207.94\n",
      "65.55.207.94\n",
      "66.249.65.12\n",
      "65.55.207.71\n",
      "66.249.65.12\n",
      "66.249.65.12\n",
      "66.249.65.12\n",
      "98.242.170.241\n",
      "66.249.65.38\n",
      "66.249.65.38\n",
      "66.249.65.38\n",
      "66.249.65.38\n",
      "66.249.65.38\n",
      "66.249.65.38\n",
      "66.249.65.38\n",
      "66.249.65.38\n",
      "66.249.65.38\n",
      "66.249.65.38\n",
      "66.249.65.38\n",
      "66.249.65.38\n",
      "66.249.65.38\n",
      "66.249.65.38\n",
      "66.249.65.38\n",
      "66.249.65.38\n",
      "66.249.65.38\n",
      "66.249.65.38\n",
      "66.249.65.38\n",
      "66.249.65.38\n",
      "66.249.65.38\n",
      "66.249.65.38\n",
      "66.249.65.38\n",
      "66.249.65.38\n",
      "66.249.65.38\n",
      "66.249.65.38\n",
      "65.55.207.126\n",
      "65.55.207.126\n",
      "66.249.65.38\n",
      "66.249.65.38\n",
      "66.249.65.38\n",
      "66.249.65.38\n",
      "82.34.9.20\n",
      "82.34.9.20\n",
      "66.249.65.38\n",
      "66.249.65.38\n",
      "66.249.65.38\n",
      "66.249.65.38\n",
      "66.249.65.38\n",
      "66.249.65.38\n",
      "66.249.65.38\n",
      "66.249.65.38\n",
      "66.249.65.38\n",
      "65.55.106.155\n",
      "65.55.106.155\n",
      "66.249.65.38\n",
      "66.249.65.38\n",
      "66.249.65.38\n",
      "66.249.65.38\n",
      "66.249.65.38\n",
      "65.55.207.77\n",
      "65.55.207.77\n",
      "66.249.65.38\n",
      "67.218.116.165\n",
      "66.249.65.38\n",
      "208.80.193.28\n",
      "66.249.65.38\n",
      "66.249.65.38\n",
      "66.249.65.38\n",
      "66.249.65.38\n",
      "66.249.65.38\n",
      "66.249.65.38\n",
      "66.249.65.38\n",
      "66.249.65.38\n",
      "66.249.65.38\n",
      "89.248.172.58\n",
      "89.248.172.58\n",
      "89.248.172.58\n",
      "89.248.172.58\n",
      "89.248.172.58\n",
      "89.248.172.58\n",
      "89.248.172.58\n",
      "89.248.172.58\n",
      "89.248.172.58\n",
      "89.248.172.58\n",
      "89.248.172.58\n",
      "89.248.172.58\n",
      "89.248.172.58\n",
      "89.248.172.58\n",
      "89.248.172.58\n",
      "89.248.172.58\n",
      "89.248.172.58\n",
      "89.248.172.58\n",
      "89.248.172.58\n",
      "89.248.172.58\n",
      "89.248.172.58\n",
      "89.248.172.58\n",
      "66.249.65.38\n",
      "66.249.65.38\n",
      "66.249.65.38\n",
      "66.249.65.38\n",
      "66.249.65.38\n",
      "66.249.65.38\n",
      "66.249.65.38\n",
      "66.249.65.38\n",
      "66.249.65.38\n",
      "66.249.65.38\n",
      "66.249.65.38\n",
      "66.249.65.38\n",
      "66.249.65.38\n",
      "66.249.65.38\n",
      "66.249.65.38\n",
      "66.249.65.38\n",
      "66.249.65.38\n",
      "66.249.65.38\n",
      "66.249.65.38\n",
      "66.249.65.38\n",
      "66.249.65.38\n",
      "66.249.65.38\n",
      "66.249.65.38\n",
      "66.249.65.38\n",
      "66.249.65.38\n",
      "66.249.65.38\n",
      "66.249.65.38\n",
      "66.249.65.38\n",
      "66.249.65.38\n",
      "67.195.112.35\n",
      "67.195.112.35\n",
      "67.195.112.35\n",
      "67.195.112.35\n",
      "67.195.112.35\n",
      "67.195.112.35\n",
      "67.195.112.35\n",
      "67.195.112.35\n",
      "67.195.112.35\n",
      "67.195.112.35\n",
      "67.195.112.35\n",
      "67.195.112.35\n",
      "67.195.112.35\n",
      "67.195.112.35\n",
      "67.195.112.35\n",
      "67.195.112.35\n",
      "66.249.65.38\n",
      "65.55.207.50\n",
      "65.55.207.50\n",
      "65.55.207.50\n",
      "66.249.65.38\n",
      "66.249.65.38\n",
      "66.249.65.38\n",
      "66.249.65.38\n",
      "66.249.65.38\n",
      "66.249.65.38\n",
      "65.55.215.75\n",
      "65.55.215.75\n",
      "66.249.65.38\n",
      "66.249.65.38\n",
      "66.249.65.38\n",
      "66.249.65.38\n",
      "66.249.65.38\n",
      "66.249.65.38\n",
      "66.249.65.38\n",
      "66.249.65.38\n",
      "66.249.65.38\n"
     ]
    },
    {
     "data": {
      "text/plain": [
       "{}"
      ]
     },
     "execution_count": 9,
     "metadata": {},
     "output_type": "execute_result"
    }
   ],
   "source": [
    "# set the filename we're reading from\n",
    "# (same as logfile.txt in the challenge -- this is the name on my system and GitHub)\n",
    "filename = 'mini-access-log.txt'  \n",
    "\n",
    "# define the function \n",
    "def count_ips(infilename):\n",
    "\n",
    "    # setup\n",
    "    output = {}\n",
    "    \n",
    "    # processing\n",
    "    for one_line in open(infilename):\n",
    "        print(one_line.split()[0])  # split without an argument == split on whitespace of any length\n",
    "    \n",
    "    # output\n",
    "    return output\n",
    "\n",
    "# run the function\n",
    "count_ips(filename)"
   ]
  },
  {
   "cell_type": "code",
   "execution_count": 11,
   "metadata": {
    "scrolled": true
   },
   "outputs": [
    {
     "name": "stdout",
     "output_type": "stream",
     "text": [
      "friendly_traceback 0.4.5; friendly 0.4.6.\n",
      "Type 'Friendly' for information.\n"
     ]
    }
   ],
   "source": [
    "from friendly import jupyter"
   ]
  },
  {
   "cell_type": "code",
   "execution_count": 13,
   "metadata": {},
   "outputs": [
    {
     "data": {
      "text/html": [
       "<pre style=\"white-space:pre;overflow-x:auto;line-height:normal;font-family:Menlo,'DejaVu Sans Mono',consolas,'Courier New',monospace\">\n",
       "<span style=\"font-weight: bold\">{</span>\n",
       "<span style=\"color: #808080; text-decoration-color: #808080\">│   </span><span style=\"color: #8b008b; text-decoration-color: #8b008b\">'67.218.116.165'</span>: <span style=\"color: #101010; text-decoration-color: #101010\">2</span>,\n",
       "<span style=\"color: #808080; text-decoration-color: #808080\">│   </span><span style=\"color: #8b008b; text-decoration-color: #8b008b\">'66.249.71.65'</span>: <span style=\"color: #101010; text-decoration-color: #101010\">3</span>,\n",
       "<span style=\"color: #808080; text-decoration-color: #808080\">│   </span><span style=\"color: #8b008b; text-decoration-color: #8b008b\">'65.55.106.183'</span>: <span style=\"color: #101010; text-decoration-color: #101010\">2</span>,\n",
       "<span style=\"color: #808080; text-decoration-color: #808080\">│   </span><span style=\"color: #8b008b; text-decoration-color: #8b008b\">'66.249.65.12'</span>: <span style=\"color: #101010; text-decoration-color: #101010\">32</span>,\n",
       "<span style=\"color: #808080; text-decoration-color: #808080\">│   </span><span style=\"color: #8b008b; text-decoration-color: #8b008b\">'65.55.106.131'</span>: <span style=\"color: #101010; text-decoration-color: #101010\">2</span>,\n",
       "<span style=\"color: #808080; text-decoration-color: #808080\">│   </span><span style=\"color: #8b008b; text-decoration-color: #8b008b\">'65.55.106.186'</span>: <span style=\"color: #101010; text-decoration-color: #101010\">2</span>,\n",
       "<span style=\"color: #808080; text-decoration-color: #808080\">│   </span><span style=\"color: #8b008b; text-decoration-color: #8b008b\">'74.52.245.146'</span>: <span style=\"color: #101010; text-decoration-color: #101010\">2</span>,\n",
       "<span style=\"color: #808080; text-decoration-color: #808080\">│   </span><span style=\"color: #8b008b; text-decoration-color: #8b008b\">'66.249.65.43'</span>: <span style=\"color: #101010; text-decoration-color: #101010\">3</span>,\n",
       "<span style=\"color: #808080; text-decoration-color: #808080\">│   </span><span style=\"color: #8b008b; text-decoration-color: #8b008b\">'65.55.207.25'</span>: <span style=\"color: #101010; text-decoration-color: #101010\">2</span>,\n",
       "<span style=\"color: #808080; text-decoration-color: #808080\">│   </span><span style=\"color: #8b008b; text-decoration-color: #8b008b\">'65.55.207.94'</span>: <span style=\"color: #101010; text-decoration-color: #101010\">2</span>,\n",
       "<span style=\"color: #808080; text-decoration-color: #808080\">│   </span><span style=\"color: #8b008b; text-decoration-color: #8b008b\">'65.55.207.71'</span>: <span style=\"color: #101010; text-decoration-color: #101010\">1</span>,\n",
       "<span style=\"color: #808080; text-decoration-color: #808080\">│   </span><span style=\"color: #8b008b; text-decoration-color: #8b008b\">'98.242.170.241'</span>: <span style=\"color: #101010; text-decoration-color: #101010\">1</span>,\n",
       "<span style=\"color: #808080; text-decoration-color: #808080\">│   </span><span style=\"color: #8b008b; text-decoration-color: #8b008b\">'66.249.65.38'</span>: <span style=\"color: #101010; text-decoration-color: #101010\">100</span>,\n",
       "<span style=\"color: #808080; text-decoration-color: #808080\">│   </span><span style=\"color: #8b008b; text-decoration-color: #8b008b\">'65.55.207.126'</span>: <span style=\"color: #101010; text-decoration-color: #101010\">2</span>,\n",
       "<span style=\"color: #808080; text-decoration-color: #808080\">│   </span><span style=\"color: #8b008b; text-decoration-color: #8b008b\">'82.34.9.20'</span>: <span style=\"color: #101010; text-decoration-color: #101010\">2</span>,\n",
       "<span style=\"color: #808080; text-decoration-color: #808080\">│   </span><span style=\"color: #8b008b; text-decoration-color: #8b008b\">'65.55.106.155'</span>: <span style=\"color: #101010; text-decoration-color: #101010\">2</span>,\n",
       "<span style=\"color: #808080; text-decoration-color: #808080\">│   </span><span style=\"color: #8b008b; text-decoration-color: #8b008b\">'65.55.207.77'</span>: <span style=\"color: #101010; text-decoration-color: #101010\">2</span>,\n",
       "<span style=\"color: #808080; text-decoration-color: #808080\">│   </span><span style=\"color: #8b008b; text-decoration-color: #8b008b\">'208.80.193.28'</span>: <span style=\"color: #101010; text-decoration-color: #101010\">1</span>,\n",
       "<span style=\"color: #808080; text-decoration-color: #808080\">│   </span><span style=\"color: #8b008b; text-decoration-color: #8b008b\">'89.248.172.58'</span>: <span style=\"color: #101010; text-decoration-color: #101010\">22</span>,\n",
       "<span style=\"color: #808080; text-decoration-color: #808080\">│   </span><span style=\"color: #8b008b; text-decoration-color: #8b008b\">'67.195.112.35'</span>: <span style=\"color: #101010; text-decoration-color: #101010\">16</span>,\n",
       "<span style=\"color: #808080; text-decoration-color: #808080\">│   </span><span style=\"color: #8b008b; text-decoration-color: #8b008b\">'65.55.207.50'</span>: <span style=\"color: #101010; text-decoration-color: #101010\">3</span>,\n",
       "<span style=\"color: #808080; text-decoration-color: #808080\">│   </span><span style=\"color: #8b008b; text-decoration-color: #8b008b\">'65.55.215.75'</span>: <span style=\"color: #101010; text-decoration-color: #101010\">2</span>\n",
       "<span style=\"font-weight: bold\">}</span>\n",
       "</pre>\n"
      ],
      "text/plain": [
       "\n",
       "\u001b[1m{\u001b[0m\n",
       "\u001b[38;2;128;128;128m│   \u001b[0m\u001b[38;2;139;0;139m'67.218.116.165'\u001b[0m: \u001b[38;2;16;16;16m2\u001b[0m,\n",
       "\u001b[38;2;128;128;128m│   \u001b[0m\u001b[38;2;139;0;139m'66.249.71.65'\u001b[0m: \u001b[38;2;16;16;16m3\u001b[0m,\n",
       "\u001b[38;2;128;128;128m│   \u001b[0m\u001b[38;2;139;0;139m'65.55.106.183'\u001b[0m: \u001b[38;2;16;16;16m2\u001b[0m,\n",
       "\u001b[38;2;128;128;128m│   \u001b[0m\u001b[38;2;139;0;139m'66.249.65.12'\u001b[0m: \u001b[38;2;16;16;16m32\u001b[0m,\n",
       "\u001b[38;2;128;128;128m│   \u001b[0m\u001b[38;2;139;0;139m'65.55.106.131'\u001b[0m: \u001b[38;2;16;16;16m2\u001b[0m,\n",
       "\u001b[38;2;128;128;128m│   \u001b[0m\u001b[38;2;139;0;139m'65.55.106.186'\u001b[0m: \u001b[38;2;16;16;16m2\u001b[0m,\n",
       "\u001b[38;2;128;128;128m│   \u001b[0m\u001b[38;2;139;0;139m'74.52.245.146'\u001b[0m: \u001b[38;2;16;16;16m2\u001b[0m,\n",
       "\u001b[38;2;128;128;128m│   \u001b[0m\u001b[38;2;139;0;139m'66.249.65.43'\u001b[0m: \u001b[38;2;16;16;16m3\u001b[0m,\n",
       "\u001b[38;2;128;128;128m│   \u001b[0m\u001b[38;2;139;0;139m'65.55.207.25'\u001b[0m: \u001b[38;2;16;16;16m2\u001b[0m,\n",
       "\u001b[38;2;128;128;128m│   \u001b[0m\u001b[38;2;139;0;139m'65.55.207.94'\u001b[0m: \u001b[38;2;16;16;16m2\u001b[0m,\n",
       "\u001b[38;2;128;128;128m│   \u001b[0m\u001b[38;2;139;0;139m'65.55.207.71'\u001b[0m: \u001b[38;2;16;16;16m1\u001b[0m,\n",
       "\u001b[38;2;128;128;128m│   \u001b[0m\u001b[38;2;139;0;139m'98.242.170.241'\u001b[0m: \u001b[38;2;16;16;16m1\u001b[0m,\n",
       "\u001b[38;2;128;128;128m│   \u001b[0m\u001b[38;2;139;0;139m'66.249.65.38'\u001b[0m: \u001b[38;2;16;16;16m100\u001b[0m,\n",
       "\u001b[38;2;128;128;128m│   \u001b[0m\u001b[38;2;139;0;139m'65.55.207.126'\u001b[0m: \u001b[38;2;16;16;16m2\u001b[0m,\n",
       "\u001b[38;2;128;128;128m│   \u001b[0m\u001b[38;2;139;0;139m'82.34.9.20'\u001b[0m: \u001b[38;2;16;16;16m2\u001b[0m,\n",
       "\u001b[38;2;128;128;128m│   \u001b[0m\u001b[38;2;139;0;139m'65.55.106.155'\u001b[0m: \u001b[38;2;16;16;16m2\u001b[0m,\n",
       "\u001b[38;2;128;128;128m│   \u001b[0m\u001b[38;2;139;0;139m'65.55.207.77'\u001b[0m: \u001b[38;2;16;16;16m2\u001b[0m,\n",
       "\u001b[38;2;128;128;128m│   \u001b[0m\u001b[38;2;139;0;139m'208.80.193.28'\u001b[0m: \u001b[38;2;16;16;16m1\u001b[0m,\n",
       "\u001b[38;2;128;128;128m│   \u001b[0m\u001b[38;2;139;0;139m'89.248.172.58'\u001b[0m: \u001b[38;2;16;16;16m22\u001b[0m,\n",
       "\u001b[38;2;128;128;128m│   \u001b[0m\u001b[38;2;139;0;139m'67.195.112.35'\u001b[0m: \u001b[38;2;16;16;16m16\u001b[0m,\n",
       "\u001b[38;2;128;128;128m│   \u001b[0m\u001b[38;2;139;0;139m'65.55.207.50'\u001b[0m: \u001b[38;2;16;16;16m3\u001b[0m,\n",
       "\u001b[38;2;128;128;128m│   \u001b[0m\u001b[38;2;139;0;139m'65.55.215.75'\u001b[0m: \u001b[38;2;16;16;16m2\u001b[0m\n",
       "\u001b[1m}\u001b[0m\n"
      ]
     },
     "metadata": {},
     "output_type": "display_data"
    }
   ],
   "source": [
    "# set the filename we're reading from\n",
    "# (same as logfile.txt in the challenge -- this is the name on my system and GitHub)\n",
    "filename = 'mini-access-log.txt'  \n",
    "\n",
    "# define the function \n",
    "def count_ips(infilename):\n",
    "\n",
    "    # setup\n",
    "    output = {}\n",
    "    \n",
    "    # processing\n",
    "    for one_line in open(infilename):\n",
    "        ip_address = one_line.split()[0]\n",
    "        \n",
    "        if ip_address in output:   # have we seen this key (ip_address) before?\n",
    "            output[ip_address] += 1\n",
    "        else:                      # first time seeing this IP address? set it to 1\n",
    "            output[ip_address] = 1  \n",
    "    \n",
    "    # output\n",
    "    return output\n",
    "\n",
    "# run the function\n",
    "count_ips(filename)"
   ]
  },
  {
   "cell_type": "code",
   "execution_count": 14,
   "metadata": {},
   "outputs": [
    {
     "data": {
      "text/html": [
       "<pre style=\"white-space:pre;overflow-x:auto;line-height:normal;font-family:Menlo,'DejaVu Sans Mono',consolas,'Courier New',monospace\"><span style=\"font-weight: bold\">{</span><span style=\"color: #8b008b; text-decoration-color: #8b008b\">'a'</span>: <span style=\"color: #101010; text-decoration-color: #101010\">11</span><span style=\"font-weight: bold\">}</span>\n",
       "</pre>\n"
      ],
      "text/plain": [
       "\u001b[1m{\u001b[0m\u001b[38;2;139;0;139m'a'\u001b[0m: \u001b[38;2;16;16;16m11\u001b[0m\u001b[1m}\u001b[0m\n"
      ]
     },
     "metadata": {},
     "output_type": "display_data"
    }
   ],
   "source": [
    "d = {}   # empty dictionary\n",
    "\n",
    "d['a'] = 5    # sets the new key-value pair, 'a':5\n",
    "d['a'] += 6   # updates the value for 'a' to be 5+6 == 11\n",
    "\n",
    "d"
   ]
  },
  {
   "cell_type": "code",
   "execution_count": 15,
   "metadata": {},
   "outputs": [
    {
     "data": {
      "text/html": [
       "<div id='friendly-message2'><pre style=\"white-space:pre;overflow-x:auto;line-height:normal;font-family:Menlo,'DejaVu Sans Mono',consolas,'Courier New',monospace\"><span style=\"color: #dd0000; text-decoration-color: #dd0000; background-color: #ffffff\">KeyError</span>: 'b'                                                                                \n",
       "</pre>\n",
       "</div>"
      ],
      "text/plain": [
       "\u001b[38;2;221;0;0;48;2;255;255;255mKeyError\u001b[0m: 'b'                                                                                \n"
      ]
     },
     "metadata": {},
     "output_type": "display_data"
    },
    {
     "data": {
      "text/html": [
       "\n",
       "        <button id='friendly-tb-btn-show2' onclick='friendly_toggle_more2()' style=''>\n",
       "        More ...\n",
       "        </button>\n",
       "        <script> function friendly_toggle_more2(){\n",
       "        var btn = document.getElementById('friendly-tb-btn-show2');\n",
       "        var btn_what = document.getElementById('friendly-tb-btn-show-what2');\n",
       "        var btn_where = document.getElementById('friendly-tb-btn-show-where2');\n",
       "        var btn_why = document.getElementById('friendly-tb-btn-show-why2');\n",
       "        var message = document.getElementById('friendly-message2');\n",
       "        var friendly_tb_content = document.getElementById('friendly-tb-friendly_tb-content2');\n",
       "        var what_content = document.getElementById('friendly-tb-what-content2');\n",
       "        var why_content = document.getElementById('friendly-tb-why-content2');\n",
       "        var where_content = document.getElementById('friendly-tb-where-content2');\n",
       "\n",
       "        if (btn_what.style.display == 'none'){\n",
       "            message.style.display = 'none';\n",
       "            btn_what.style.display = 'block';\n",
       "            btn_why.style.display = 'block';\n",
       "            btn_where.style.display = 'block';\n",
       "            friendly_tb_content.style.display = 'block';\n",
       "            btn.textContent = \"Show message only\";\n",
       "        } else {\n",
       "            btn_what.style.display = 'none';\n",
       "            btn_what.textContent = 'what()';\n",
       "            btn_why.style.display = 'none';\n",
       "            btn_why.textContent = 'why()';\n",
       "            btn_where.style.display = 'none';\n",
       "            btn_where.textContent = 'where()';\n",
       "            what_content.style.display = 'none';\n",
       "            why_content.style.display = 'none';\n",
       "            where_content.style.display = 'none';\n",
       "            friendly_tb_content.style.display = 'none';\n",
       "            message.style.display = 'block';\n",
       "            btn.textContent = \"More ...\";\n",
       "        }\n",
       "        };\n",
       "        </script>\n",
       "        "
      ]
     },
     "metadata": {},
     "output_type": "display_data"
    },
    {
     "data": {
      "text/html": [
       "<div id='friendly-tb-friendly_tb-content2' style='display:none'><pre style=\"white-space:pre;overflow-x:auto;line-height:normal;font-family:Menlo,'DejaVu Sans Mono',consolas,'Courier New',monospace\"><span style=\"color: #dd0000; text-decoration-color: #dd0000; background-color: #ffffff\">Traceback (most recent call last):</span><span style=\"background-color: #ffffff\">                                                           </span>\n",
       "<span style=\"color: #101010; text-decoration-color: #101010; background-color: #ffffff\">  Code block </span><span style=\"color: #783114; text-decoration-color: #783114; background-color: #ffffff\">[</span><span style=\"color: #101010; text-decoration-color: #101010; background-color: #ffffff\">15</span><span style=\"color: #783114; text-decoration-color: #783114; background-color: #ffffff\">]</span><span style=\"color: #101010; text-decoration-color: #101010; background-color: #ffffff\">, line 3, in </span><span style=\"color: #0011aa; text-decoration-color: #0011aa; background-color: #ffffff\">&lt;module&gt;</span><span style=\"background-color: #ffffff\">                                                       </span>\n",
       "<span style=\"color: #101010; text-decoration-color: #101010; background-color: #ffffff\">    </span><span style=\"color: #0011aa; text-decoration-color: #0011aa; background-color: #ffffff\">d</span><span style=\"color: #783114; text-decoration-color: #783114; background-color: #ffffff\">[</span><span style=\"color: #8b008b; text-decoration-color: #8b008b; background-color: #ffffff\">'b'</span><span style=\"color: #783114; text-decoration-color: #783114; background-color: #ffffff\">]</span><span style=\"color: #101010; text-decoration-color: #101010; background-color: #ffffff\"> </span><span style=\"color: #783114; text-decoration-color: #783114; background-color: #ffffff\">+=</span><span style=\"color: #101010; text-decoration-color: #101010; background-color: #ffffff\"> 7    </span><span style=\"color: #808080; text-decoration-color: #808080; background-color: #ffffff\"># add 7 to the current value associated with 'b'.... but 'b' isn't a key </span><span style=\"background-color: #ffffff\"> </span>\n",
       "<span style=\"color: #808080; text-decoration-color: #808080; background-color: #ffffff\">in d!</span><span style=\"background-color: #ffffff\">                                                                                        </span>\n",
       "<span style=\"color: #dd0000; text-decoration-color: #dd0000; background-color: #ffffff\">KeyError</span><span style=\"color: #101010; text-decoration-color: #101010; background-color: #ffffff\">: </span><span style=\"color: #0011aa; text-decoration-color: #0011aa; background-color: #ffffff\">'b'</span><span style=\"background-color: #ffffff\">                                                                                </span>\n",
       "</pre>\n",
       "</div>"
      ],
      "text/plain": [
       "\u001b[38;2;221;0;0;48;2;255;255;255mTraceback (most recent call last):\u001b[0m\u001b[48;2;255;255;255m                                                           \u001b[0m\n",
       "\u001b[38;2;16;16;16;48;2;255;255;255m  Code block \u001b[0m\u001b[38;2;120;49;20;48;2;255;255;255m[\u001b[0m\u001b[38;2;16;16;16;48;2;255;255;255m15\u001b[0m\u001b[38;2;120;49;20;48;2;255;255;255m]\u001b[0m\u001b[38;2;16;16;16;48;2;255;255;255m, line \u001b[0m\u001b[38;2;16;16;16;48;2;255;255;255m3\u001b[0m\u001b[38;2;16;16;16;48;2;255;255;255m, in \u001b[0m\u001b[38;2;0;17;170;48;2;255;255;255m<module>\u001b[0m\u001b[48;2;255;255;255m                                                       \u001b[0m\n",
       "\u001b[38;2;16;16;16;48;2;255;255;255m    \u001b[0m\u001b[38;2;0;17;170;48;2;255;255;255md\u001b[0m\u001b[38;2;120;49;20;48;2;255;255;255m[\u001b[0m\u001b[38;2;139;0;139;48;2;255;255;255m'\u001b[0m\u001b[38;2;139;0;139;48;2;255;255;255mb\u001b[0m\u001b[38;2;139;0;139;48;2;255;255;255m'\u001b[0m\u001b[38;2;120;49;20;48;2;255;255;255m]\u001b[0m\u001b[38;2;16;16;16;48;2;255;255;255m \u001b[0m\u001b[38;2;120;49;20;48;2;255;255;255m+\u001b[0m\u001b[38;2;120;49;20;48;2;255;255;255m=\u001b[0m\u001b[38;2;16;16;16;48;2;255;255;255m \u001b[0m\u001b[38;2;16;16;16;48;2;255;255;255m7\u001b[0m\u001b[38;2;16;16;16;48;2;255;255;255m    \u001b[0m\u001b[38;2;128;128;128;48;2;255;255;255m# add 7 to the current value associated with 'b'.... but 'b' isn't a key \u001b[0m\u001b[48;2;255;255;255m \u001b[0m\n",
       "\u001b[38;2;128;128;128;48;2;255;255;255min d!\u001b[0m\u001b[48;2;255;255;255m                                                                                        \u001b[0m\n",
       "\u001b[38;2;221;0;0;48;2;255;255;255mKeyError\u001b[0m\u001b[38;2;16;16;16;48;2;255;255;255m: \u001b[0m\u001b[38;2;0;17;170;48;2;255;255;255m'b'\u001b[0m\u001b[48;2;255;255;255m                                                                                \u001b[0m\n"
      ]
     },
     "metadata": {},
     "output_type": "display_data"
    },
    {
     "data": {
      "text/html": [
       "<script> function toggle_what2(){\n",
       "     var content = document.getElementById('friendly-tb-what-content2');\n",
       "     var btn = document.getElementById('friendly-tb-btn-show-what2');\n",
       "        if (content.style.display === 'none') {\n",
       "            content.style.display = 'block';\n",
       "            btn.textContent = \"Hide what()\";\n",
       "        } else {\n",
       "            content.style.display = 'none';\n",
       "            btn.textContent = \"what()\";\n",
       "       }\n",
       "    }\n",
       "     </script>\n",
       "     <button id='friendly-tb-btn-show-what2' onclick='toggle_what2()' style='display:none '>\n",
       "     what()\n",
       "     </button>\n",
       "    "
      ]
     },
     "metadata": {},
     "output_type": "display_data"
    },
    {
     "data": {
      "text/html": [
       "<div id='friendly-tb-what-content2' style='display:none'><pre style=\"white-space:pre;overflow-x:auto;line-height:normal;font-family:Menlo,'DejaVu Sans Mono',consolas,'Courier New',monospace\">A <span style=\"color: #dd0000; text-decoration-color: #dd0000; background-color: #ffffff\">KeyError</span> is raised when a value is not found as a key in a Python dict or in a similar     \n",
       "object.                                                                                      \n",
       "</pre>\n",
       "</div>"
      ],
      "text/plain": [
       "A \u001b[38;2;221;0;0;48;2;255;255;255mKeyError\u001b[0m is raised when a value is not found as a key in a Python dict or in a similar     \n",
       "object.                                                                                      \n"
      ]
     },
     "metadata": {},
     "output_type": "display_data"
    },
    {
     "data": {
      "text/html": [
       "<script> function toggle_why2(){\n",
       "     var content = document.getElementById('friendly-tb-why-content2');\n",
       "     var btn = document.getElementById('friendly-tb-btn-show-why2');\n",
       "        if (content.style.display === 'none') {\n",
       "            content.style.display = 'block';\n",
       "            btn.textContent = \"Hide why()\";\n",
       "        } else {\n",
       "            content.style.display = 'none';\n",
       "            btn.textContent = \"why()\";\n",
       "       }\n",
       "    }\n",
       "     </script>\n",
       "     <button id='friendly-tb-btn-show-why2' onclick='toggle_why2()' style='display:none '>\n",
       "     why()\n",
       "     </button>\n",
       "    "
      ]
     },
     "metadata": {},
     "output_type": "display_data"
    },
    {
     "data": {
      "text/html": [
       "<div id='friendly-tb-why-content2' style='display:none'><pre style=\"white-space:pre;overflow-x:auto;line-height:normal;font-family:Menlo,'DejaVu Sans Mono',consolas,'Courier New',monospace\">The key <span style=\"color: #8b008b; text-decoration-color: #8b008b; background-color: #ffffff\">'b'</span> cannot be found in the dict <span style=\"color: #0011aa; text-decoration-color: #0011aa; background-color: #ffffff\">d</span>.                                                   \n",
       "</pre>\n",
       "</div>"
      ],
      "text/plain": [
       "The key \u001b[38;2;139;0;139;48;2;255;255;255m'\u001b[0m\u001b[38;2;139;0;139;48;2;255;255;255mb\u001b[0m\u001b[38;2;139;0;139;48;2;255;255;255m'\u001b[0m cannot be found in the dict \u001b[38;2;0;17;170;48;2;255;255;255md\u001b[0m.                                                   \n"
      ]
     },
     "metadata": {},
     "output_type": "display_data"
    },
    {
     "data": {
      "text/html": [
       "<script> function toggle_where2(){\n",
       "     var content = document.getElementById('friendly-tb-where-content2');\n",
       "     var btn = document.getElementById('friendly-tb-btn-show-where2');\n",
       "        if (content.style.display === 'none') {\n",
       "            content.style.display = 'block';\n",
       "            btn.textContent = \"Hide where()\";\n",
       "        } else {\n",
       "            content.style.display = 'none';\n",
       "            btn.textContent = \"where()\";\n",
       "       }\n",
       "    }\n",
       "     </script>\n",
       "     <button id='friendly-tb-btn-show-where2' onclick='toggle_where2()' style='display:none '>\n",
       "     where()\n",
       "     </button>\n",
       "    "
      ]
     },
     "metadata": {},
     "output_type": "display_data"
    },
    {
     "data": {
      "text/html": [
       "<div id='friendly-tb-where-content2' style='display:none'><pre style=\"white-space:pre;overflow-x:auto;line-height:normal;font-family:Menlo,'DejaVu Sans Mono',consolas,'Courier New',monospace\"><span style=\"color: #dd0000; text-decoration-color: #dd0000\">Exception raised on line 3 of code block </span><span style=\"color: #783114; text-decoration-color: #783114; background-color: #ffffff\">[</span><span style=\"color: #101010; text-decoration-color: #101010; background-color: #ffffff\">15</span><span style=\"color: #783114; text-decoration-color: #783114; background-color: #ffffff\">]</span><span style=\"color: #dd0000; text-decoration-color: #dd0000\">.</span>                                               \n",
       "\n",
       "<span style=\"color: #101010; text-decoration-color: #101010; background-color: #ffffff\">       1</span><span style=\"color: #783114; text-decoration-color: #783114; background-color: #ffffff\">:</span><span style=\"color: #101010; text-decoration-color: #101010; background-color: #ffffff\"> </span><span style=\"color: #808080; text-decoration-color: #808080; background-color: #ffffff\"># try it with a key that doesn't exist</span><span style=\"background-color: #ffffff\">                                             </span>\n",
       "<span style=\"color: #101010; text-decoration-color: #101010; background-color: #ffffff\">    </span><span style=\"color: #783114; text-decoration-color: #783114; background-color: #ffffff\">--&gt;</span><span style=\"color: #101010; text-decoration-color: #101010; background-color: #ffffff\">3</span><span style=\"color: #783114; text-decoration-color: #783114; background-color: #ffffff\">:</span><span style=\"color: #101010; text-decoration-color: #101010; background-color: #ffffff\"> </span><span style=\"color: #0011aa; text-decoration-color: #0011aa; background-color: #ffffff\">d</span><span style=\"color: #783114; text-decoration-color: #783114; background-color: #ffffff\">[</span><span style=\"color: #8b008b; text-decoration-color: #8b008b; background-color: #ffffff\">'b'</span><span style=\"color: #783114; text-decoration-color: #783114; background-color: #ffffff\">]</span><span style=\"color: #101010; text-decoration-color: #101010; background-color: #ffffff\"> </span><span style=\"color: #783114; text-decoration-color: #783114; background-color: #ffffff\">+=</span><span style=\"color: #101010; text-decoration-color: #101010; background-color: #ffffff\"> 7    </span><span style=\"color: #808080; text-decoration-color: #808080; background-color: #ffffff\"># add 7 to the current value associated with 'b'.... but 'b' isn't a</span>\n",
       "<span style=\"color: #808080; text-decoration-color: #808080; background-color: #ffffff\">key in d!</span><span style=\"background-color: #ffffff\">                                                                                    </span>\n",
       "\n",
       "<span style=\"color: #101010; text-decoration-color: #101010; background-color: #ffffff\">    </span><span style=\"color: #0011aa; text-decoration-color: #0011aa; background-color: #ffffff\">d</span><span style=\"color: #783114; text-decoration-color: #783114; background-color: #ffffff\">:</span><span style=\"color: #101010; text-decoration-color: #101010; background-color: #ffffff\">  </span><span style=\"color: #783114; text-decoration-color: #783114; background-color: #ffffff\">{</span><span style=\"color: #8b008b; text-decoration-color: #8b008b; background-color: #ffffff\">'a'</span><span style=\"color: #783114; text-decoration-color: #783114; background-color: #ffffff\">:</span><span style=\"color: #101010; text-decoration-color: #101010; background-color: #ffffff\"> 11</span><span style=\"color: #783114; text-decoration-color: #783114; background-color: #ffffff\">}</span><span style=\"background-color: #ffffff\">                                                                            </span>\n",
       "</pre>\n",
       "</div>"
      ],
      "text/plain": [
       "\u001b[38;2;221;0;0mException raised on line 3 of code block \u001b[0m\u001b[38;2;120;49;20;48;2;255;255;255m[\u001b[0m\u001b[38;2;16;16;16;48;2;255;255;255m15\u001b[0m\u001b[38;2;120;49;20;48;2;255;255;255m]\u001b[0m\u001b[38;2;221;0;0m.\u001b[0m                                               \n",
       "\n",
       "\u001b[38;2;16;16;16;48;2;255;255;255m       \u001b[0m\u001b[38;2;16;16;16;48;2;255;255;255m1\u001b[0m\u001b[38;2;120;49;20;48;2;255;255;255m:\u001b[0m\u001b[38;2;16;16;16;48;2;255;255;255m \u001b[0m\u001b[38;2;128;128;128;48;2;255;255;255m# try it with a key that doesn't exist\u001b[0m\u001b[48;2;255;255;255m                                             \u001b[0m\n",
       "\u001b[38;2;16;16;16;48;2;255;255;255m    \u001b[0m\u001b[38;2;120;49;20;48;2;255;255;255m-\u001b[0m\u001b[38;2;120;49;20;48;2;255;255;255m-\u001b[0m\u001b[38;2;120;49;20;48;2;255;255;255m>\u001b[0m\u001b[38;2;16;16;16;48;2;255;255;255m3\u001b[0m\u001b[38;2;120;49;20;48;2;255;255;255m:\u001b[0m\u001b[38;2;16;16;16;48;2;255;255;255m \u001b[0m\u001b[38;2;0;17;170;48;2;255;255;255md\u001b[0m\u001b[38;2;120;49;20;48;2;255;255;255m[\u001b[0m\u001b[38;2;139;0;139;48;2;255;255;255m'\u001b[0m\u001b[38;2;139;0;139;48;2;255;255;255mb\u001b[0m\u001b[38;2;139;0;139;48;2;255;255;255m'\u001b[0m\u001b[38;2;120;49;20;48;2;255;255;255m]\u001b[0m\u001b[38;2;16;16;16;48;2;255;255;255m \u001b[0m\u001b[38;2;120;49;20;48;2;255;255;255m+\u001b[0m\u001b[38;2;120;49;20;48;2;255;255;255m=\u001b[0m\u001b[38;2;16;16;16;48;2;255;255;255m \u001b[0m\u001b[38;2;16;16;16;48;2;255;255;255m7\u001b[0m\u001b[38;2;16;16;16;48;2;255;255;255m    \u001b[0m\u001b[38;2;128;128;128;48;2;255;255;255m# add 7 to the current value associated with 'b'.... but 'b' isn't a\u001b[0m\n",
       "\u001b[38;2;128;128;128;48;2;255;255;255mkey in d!\u001b[0m\u001b[48;2;255;255;255m                                                                                    \u001b[0m\n",
       "\n",
       "\u001b[38;2;16;16;16;48;2;255;255;255m    \u001b[0m\u001b[38;2;0;17;170;48;2;255;255;255md\u001b[0m\u001b[38;2;120;49;20;48;2;255;255;255m:\u001b[0m\u001b[38;2;16;16;16;48;2;255;255;255m  \u001b[0m\u001b[38;2;120;49;20;48;2;255;255;255m{\u001b[0m\u001b[38;2;139;0;139;48;2;255;255;255m'\u001b[0m\u001b[38;2;139;0;139;48;2;255;255;255ma\u001b[0m\u001b[38;2;139;0;139;48;2;255;255;255m'\u001b[0m\u001b[38;2;120;49;20;48;2;255;255;255m:\u001b[0m\u001b[38;2;16;16;16;48;2;255;255;255m \u001b[0m\u001b[38;2;16;16;16;48;2;255;255;255m11\u001b[0m\u001b[38;2;120;49;20;48;2;255;255;255m}\u001b[0m\u001b[48;2;255;255;255m                                                                            \u001b[0m\n"
      ]
     },
     "metadata": {},
     "output_type": "display_data"
    }
   ],
   "source": [
    "# try it with a key that doesn't exist\n",
    "\n",
    "d['b'] += 7    # add 7 to the current value associated with 'b'.... but 'b' isn't a key in d!"
   ]
  },
  {
   "cell_type": "code",
   "execution_count": 13,
   "metadata": {
    "scrolled": true
   },
   "outputs": [
    {
     "data": {
      "text/html": [
       "<pre style=\"white-space:pre;overflow-x:auto;line-height:normal;font-family:Menlo,'DejaVu Sans Mono',consolas,'Courier New',monospace\">\n",
       "<span style=\"font-weight: bold\">{</span>\n",
       "<span style=\"color: #808080; text-decoration-color: #808080\">│   </span><span style=\"color: #8b008b; text-decoration-color: #8b008b\">'67.218.116.165'</span>: <span style=\"color: #101010; text-decoration-color: #101010\">2</span>,\n",
       "<span style=\"color: #808080; text-decoration-color: #808080\">│   </span><span style=\"color: #8b008b; text-decoration-color: #8b008b\">'66.249.71.65'</span>: <span style=\"color: #101010; text-decoration-color: #101010\">3</span>,\n",
       "<span style=\"color: #808080; text-decoration-color: #808080\">│   </span><span style=\"color: #8b008b; text-decoration-color: #8b008b\">'65.55.106.183'</span>: <span style=\"color: #101010; text-decoration-color: #101010\">2</span>,\n",
       "<span style=\"color: #808080; text-decoration-color: #808080\">│   </span><span style=\"color: #8b008b; text-decoration-color: #8b008b\">'66.249.65.12'</span>: <span style=\"color: #101010; text-decoration-color: #101010\">32</span>,\n",
       "<span style=\"color: #808080; text-decoration-color: #808080\">│   </span><span style=\"color: #8b008b; text-decoration-color: #8b008b\">'65.55.106.131'</span>: <span style=\"color: #101010; text-decoration-color: #101010\">2</span>,\n",
       "<span style=\"color: #808080; text-decoration-color: #808080\">│   </span><span style=\"color: #8b008b; text-decoration-color: #8b008b\">'65.55.106.186'</span>: <span style=\"color: #101010; text-decoration-color: #101010\">2</span>,\n",
       "<span style=\"color: #808080; text-decoration-color: #808080\">│   </span><span style=\"color: #8b008b; text-decoration-color: #8b008b\">'74.52.245.146'</span>: <span style=\"color: #101010; text-decoration-color: #101010\">2</span>,\n",
       "<span style=\"color: #808080; text-decoration-color: #808080\">│   </span><span style=\"color: #8b008b; text-decoration-color: #8b008b\">'66.249.65.43'</span>: <span style=\"color: #101010; text-decoration-color: #101010\">3</span>,\n",
       "<span style=\"color: #808080; text-decoration-color: #808080\">│   </span><span style=\"color: #8b008b; text-decoration-color: #8b008b\">'65.55.207.25'</span>: <span style=\"color: #101010; text-decoration-color: #101010\">2</span>,\n",
       "<span style=\"color: #808080; text-decoration-color: #808080\">│   </span><span style=\"color: #8b008b; text-decoration-color: #8b008b\">'65.55.207.94'</span>: <span style=\"color: #101010; text-decoration-color: #101010\">2</span>,\n",
       "<span style=\"color: #808080; text-decoration-color: #808080\">│   </span><span style=\"color: #8b008b; text-decoration-color: #8b008b\">'65.55.207.71'</span>: <span style=\"color: #101010; text-decoration-color: #101010\">1</span>,\n",
       "<span style=\"color: #808080; text-decoration-color: #808080\">│   </span><span style=\"color: #8b008b; text-decoration-color: #8b008b\">'98.242.170.241'</span>: <span style=\"color: #101010; text-decoration-color: #101010\">1</span>,\n",
       "<span style=\"color: #808080; text-decoration-color: #808080\">│   </span><span style=\"color: #8b008b; text-decoration-color: #8b008b\">'66.249.65.38'</span>: <span style=\"color: #101010; text-decoration-color: #101010\">100</span>,\n",
       "<span style=\"color: #808080; text-decoration-color: #808080\">│   </span><span style=\"color: #8b008b; text-decoration-color: #8b008b\">'65.55.207.126'</span>: <span style=\"color: #101010; text-decoration-color: #101010\">2</span>,\n",
       "<span style=\"color: #808080; text-decoration-color: #808080\">│   </span><span style=\"color: #8b008b; text-decoration-color: #8b008b\">'82.34.9.20'</span>: <span style=\"color: #101010; text-decoration-color: #101010\">2</span>,\n",
       "<span style=\"color: #808080; text-decoration-color: #808080\">│   </span><span style=\"color: #8b008b; text-decoration-color: #8b008b\">'65.55.106.155'</span>: <span style=\"color: #101010; text-decoration-color: #101010\">2</span>,\n",
       "<span style=\"color: #808080; text-decoration-color: #808080\">│   </span><span style=\"color: #8b008b; text-decoration-color: #8b008b\">'65.55.207.77'</span>: <span style=\"color: #101010; text-decoration-color: #101010\">2</span>,\n",
       "<span style=\"color: #808080; text-decoration-color: #808080\">│   </span><span style=\"color: #8b008b; text-decoration-color: #8b008b\">'208.80.193.28'</span>: <span style=\"color: #101010; text-decoration-color: #101010\">1</span>,\n",
       "<span style=\"color: #808080; text-decoration-color: #808080\">│   </span><span style=\"color: #8b008b; text-decoration-color: #8b008b\">'89.248.172.58'</span>: <span style=\"color: #101010; text-decoration-color: #101010\">22</span>,\n",
       "<span style=\"color: #808080; text-decoration-color: #808080\">│   </span><span style=\"color: #8b008b; text-decoration-color: #8b008b\">'67.195.112.35'</span>: <span style=\"color: #101010; text-decoration-color: #101010\">16</span>,\n",
       "<span style=\"color: #808080; text-decoration-color: #808080\">│   </span><span style=\"color: #8b008b; text-decoration-color: #8b008b\">'65.55.207.50'</span>: <span style=\"color: #101010; text-decoration-color: #101010\">3</span>,\n",
       "<span style=\"color: #808080; text-decoration-color: #808080\">│   </span><span style=\"color: #8b008b; text-decoration-color: #8b008b\">'65.55.215.75'</span>: <span style=\"color: #101010; text-decoration-color: #101010\">2</span>\n",
       "<span style=\"font-weight: bold\">}</span>\n",
       "</pre>\n"
      ],
      "text/plain": [
       "\n",
       "\u001b[1m{\u001b[0m\n",
       "\u001b[38;2;128;128;128m│   \u001b[0m\u001b[38;2;139;0;139m'67.218.116.165'\u001b[0m: \u001b[38;2;16;16;16m2\u001b[0m,\n",
       "\u001b[38;2;128;128;128m│   \u001b[0m\u001b[38;2;139;0;139m'66.249.71.65'\u001b[0m: \u001b[38;2;16;16;16m3\u001b[0m,\n",
       "\u001b[38;2;128;128;128m│   \u001b[0m\u001b[38;2;139;0;139m'65.55.106.183'\u001b[0m: \u001b[38;2;16;16;16m2\u001b[0m,\n",
       "\u001b[38;2;128;128;128m│   \u001b[0m\u001b[38;2;139;0;139m'66.249.65.12'\u001b[0m: \u001b[38;2;16;16;16m32\u001b[0m,\n",
       "\u001b[38;2;128;128;128m│   \u001b[0m\u001b[38;2;139;0;139m'65.55.106.131'\u001b[0m: \u001b[38;2;16;16;16m2\u001b[0m,\n",
       "\u001b[38;2;128;128;128m│   \u001b[0m\u001b[38;2;139;0;139m'65.55.106.186'\u001b[0m: \u001b[38;2;16;16;16m2\u001b[0m,\n",
       "\u001b[38;2;128;128;128m│   \u001b[0m\u001b[38;2;139;0;139m'74.52.245.146'\u001b[0m: \u001b[38;2;16;16;16m2\u001b[0m,\n",
       "\u001b[38;2;128;128;128m│   \u001b[0m\u001b[38;2;139;0;139m'66.249.65.43'\u001b[0m: \u001b[38;2;16;16;16m3\u001b[0m,\n",
       "\u001b[38;2;128;128;128m│   \u001b[0m\u001b[38;2;139;0;139m'65.55.207.25'\u001b[0m: \u001b[38;2;16;16;16m2\u001b[0m,\n",
       "\u001b[38;2;128;128;128m│   \u001b[0m\u001b[38;2;139;0;139m'65.55.207.94'\u001b[0m: \u001b[38;2;16;16;16m2\u001b[0m,\n",
       "\u001b[38;2;128;128;128m│   \u001b[0m\u001b[38;2;139;0;139m'65.55.207.71'\u001b[0m: \u001b[38;2;16;16;16m1\u001b[0m,\n",
       "\u001b[38;2;128;128;128m│   \u001b[0m\u001b[38;2;139;0;139m'98.242.170.241'\u001b[0m: \u001b[38;2;16;16;16m1\u001b[0m,\n",
       "\u001b[38;2;128;128;128m│   \u001b[0m\u001b[38;2;139;0;139m'66.249.65.38'\u001b[0m: \u001b[38;2;16;16;16m100\u001b[0m,\n",
       "\u001b[38;2;128;128;128m│   \u001b[0m\u001b[38;2;139;0;139m'65.55.207.126'\u001b[0m: \u001b[38;2;16;16;16m2\u001b[0m,\n",
       "\u001b[38;2;128;128;128m│   \u001b[0m\u001b[38;2;139;0;139m'82.34.9.20'\u001b[0m: \u001b[38;2;16;16;16m2\u001b[0m,\n",
       "\u001b[38;2;128;128;128m│   \u001b[0m\u001b[38;2;139;0;139m'65.55.106.155'\u001b[0m: \u001b[38;2;16;16;16m2\u001b[0m,\n",
       "\u001b[38;2;128;128;128m│   \u001b[0m\u001b[38;2;139;0;139m'65.55.207.77'\u001b[0m: \u001b[38;2;16;16;16m2\u001b[0m,\n",
       "\u001b[38;2;128;128;128m│   \u001b[0m\u001b[38;2;139;0;139m'208.80.193.28'\u001b[0m: \u001b[38;2;16;16;16m1\u001b[0m,\n",
       "\u001b[38;2;128;128;128m│   \u001b[0m\u001b[38;2;139;0;139m'89.248.172.58'\u001b[0m: \u001b[38;2;16;16;16m22\u001b[0m,\n",
       "\u001b[38;2;128;128;128m│   \u001b[0m\u001b[38;2;139;0;139m'67.195.112.35'\u001b[0m: \u001b[38;2;16;16;16m16\u001b[0m,\n",
       "\u001b[38;2;128;128;128m│   \u001b[0m\u001b[38;2;139;0;139m'65.55.207.50'\u001b[0m: \u001b[38;2;16;16;16m3\u001b[0m,\n",
       "\u001b[38;2;128;128;128m│   \u001b[0m\u001b[38;2;139;0;139m'65.55.215.75'\u001b[0m: \u001b[38;2;16;16;16m2\u001b[0m\n",
       "\u001b[1m}\u001b[0m\n"
      ]
     },
     "metadata": {},
     "output_type": "display_data"
    }
   ],
   "source": [
    "# same thing, but using dict.get\n",
    "\n",
    "# set the filename we're reading from\n",
    "# (same as logfile.txt in the challenge -- this is the name on my system and GitHub)\n",
    "filename = 'mini-access-log.txt'  \n",
    "\n",
    "# define the function \n",
    "def count_ips(infilename):\n",
    "\n",
    "    # setup\n",
    "    output = {}\n",
    "    \n",
    "    # processing\n",
    "    for one_line in open(infilename):\n",
    "        ip_address = one_line.split()[0]\n",
    "        \n",
    "        # add 1 to either (a) the current value associated with ip_address, if it exists, or\n",
    "        # (b) 0, if ip_address is *not* a key in output\n",
    "        output[ip_address] = output.get(ip_address, 0) + 1\n",
    "    \n",
    "    # output\n",
    "    return output\n",
    "\n",
    "# run the function\n",
    "count_ips(filename)"
   ]
  },
  {
   "cell_type": "code",
   "execution_count": 16,
   "metadata": {},
   "outputs": [
    {
     "name": "stdout",
     "output_type": "stream",
     "text": [
      "67.218.116.165: 2\n",
      "66.249.71.65: 3\n",
      "65.55.106.183: 2\n",
      "66.249.65.12: 32\n",
      "65.55.106.131: 2\n",
      "65.55.106.186: 2\n",
      "74.52.245.146: 2\n",
      "66.249.65.43: 3\n",
      "65.55.207.25: 2\n",
      "65.55.207.94: 2\n",
      "65.55.207.71: 1\n",
      "98.242.170.241: 1\n",
      "66.249.65.38: 100\n",
      "65.55.207.126: 2\n",
      "82.34.9.20: 2\n",
      "65.55.106.155: 2\n",
      "65.55.207.77: 2\n",
      "208.80.193.28: 1\n",
      "89.248.172.58: 22\n",
      "67.195.112.35: 16\n",
      "65.55.207.50: 3\n",
      "65.55.215.75: 2\n"
     ]
    }
   ],
   "source": [
    "# count_ips(filename) returns a dict\n",
    "# we can run .items() on a dict\n",
    "# it gives us back the keys and values\n",
    "\n",
    "for key, value in count_ips(filename).items():\n",
    "    print(f'{key}: {value}')\n"
   ]
  },
  {
   "cell_type": "markdown",
   "metadata": {},
   "source": [
    "# How to sort anything (including dicts)\n",
    "\n",
    "https://ep2020.europython.eu/talks/3dPHGm7-how-to-sort-anything/"
   ]
  },
  {
   "cell_type": "markdown",
   "metadata": {},
   "source": [
    "# Modules\n",
    "\n",
    "Remember the DRY (\"Don't repeat yourself\") rule? \n",
    "\n",
    "- If we have several lines in a row that are identical (or nearly identical), we can DRY up our code with a loop.\n",
    "- If we have the same code in several places in our program, we can DRY up our code with a function.\n",
    "- If we have the same code across several different programs, we can use a \"library,\" or as we call it in Python, a module.\n",
    "\n",
    "A \"library\" is a file containing data (variables), classes, and functions that we want to use in multiple programs.\n",
    "\n",
    "Libraries solve several problems:\n",
    "- Yes, they allow us to DRY up our code.\n",
    "- They allow us to ignore the implementation details of complex stuff. That way, we can work at a higher level of abstraction."
   ]
  },
  {
   "cell_type": "code",
   "execution_count": 17,
   "metadata": {},
   "outputs": [
    {
     "data": {
      "text/html": [
       "<pre style=\"white-space:pre;overflow-x:auto;line-height:normal;font-family:Menlo,'DejaVu Sans Mono',consolas,'Courier New',monospace\"><span style=\"color: #101010; text-decoration-color: #101010\">90</span>\n",
       "</pre>\n"
      ],
      "text/plain": [
       "\u001b[38;2;16;16;16m90\u001b[0m\n"
      ]
     },
     "metadata": {},
     "output_type": "display_data"
    }
   ],
   "source": [
    "import random            # loads the random module in Python\n",
    "random.randint(0, 100)   # returns a random int from 0 to 100"
   ]
  },
  {
   "cell_type": "markdown",
   "metadata": {},
   "source": [
    "# Python modules do two things\n",
    "\n",
    "1. They provide us with libraries.\n",
    "2. They provide us with *namespaces*.\n",
    "\n",
    "Namespaces are sort of like last names (surnames) in the programming world. They allow more than one part of a program to use the same variable names, without having to worry about \"namespace collisions.\"\n",
    "\n"
   ]
  },
  {
   "cell_type": "code",
   "execution_count": 18,
   "metadata": {},
   "outputs": [
    {
     "data": {
      "text/html": [
       "<pre style=\"white-space:pre;overflow-x:auto;line-height:normal;font-family:Menlo,'DejaVu Sans Mono',consolas,'Courier New',monospace\"><span style=\"font-weight: bold\">&lt;</span><span style=\"color: #0011aa; text-decoration-color: #0011aa\">module</span><span style=\"color: #000000; text-decoration-color: #000000\"> </span><span style=\"color: #8b008b; text-decoration-color: #8b008b\">'random'</span><span style=\"color: #000000; text-decoration-color: #000000\"> from </span><span style=\"color: #8b008b; text-decoration-color: #8b008b\">'/usr/local/Cellar/python@3.9/3.9.7/Frameworks/Python.framework/Versions/3.9/lib/python3.9/random.py'</span><span style=\"font-weight: bold\">&gt;</span>\n",
       "</pre>\n"
      ],
      "text/plain": [
       "\u001b[1m<\u001b[0m\u001b[38;2;0;17;170mmodule\u001b[0m\u001b[39m \u001b[0m\u001b[38;2;139;0;139m'random'\u001b[0m\u001b[39m from \u001b[0m\u001b[38;2;139;0;139m'/usr/local/Cellar/python@3.9/3.9.7/Frameworks/Python.framework/Versions/3.9/lib/python3.9/random.py'\u001b[0m\u001b[1m>\u001b[0m\n"
      ]
     },
     "metadata": {},
     "output_type": "display_data"
    }
   ],
   "source": [
    "random"
   ]
  },
  {
   "cell_type": "code",
   "execution_count": 20,
   "metadata": {},
   "outputs": [],
   "source": [
    "# special Jupyter trick!\n",
    "# use ?? after a function name to see its source code\n",
    "\n",
    "random.randrange??"
   ]
  },
  {
   "cell_type": "code",
   "execution_count": null,
   "metadata": {},
   "outputs": [],
   "source": []
  },
  {
   "cell_type": "markdown",
   "metadata": {},
   "source": [
    "# What can modules contain?\n",
    "\n",
    "- Functions\n",
    "- Data types (classes)\n",
    "- Data"
   ]
  },
  {
   "cell_type": "code",
   "execution_count": 23,
   "metadata": {},
   "outputs": [
    {
     "data": {
      "text/html": [
       "<pre style=\"white-space:pre;overflow-x:auto;line-height:normal;font-family:Menlo,'DejaVu Sans Mono',consolas,'Courier New',monospace\"><span style=\"color: #101010; text-decoration-color: #101010\">34</span>\n",
       "</pre>\n"
      ],
      "text/plain": [
       "\u001b[38;2;16;16;16m34\u001b[0m\n"
      ]
     },
     "metadata": {},
     "output_type": "display_data"
    }
   ],
   "source": [
    "random.randint(0, 100)"
   ]
  },
  {
   "cell_type": "code",
   "execution_count": 24,
   "metadata": {
    "collapsed": true
   },
   "outputs": [
    {
     "data": {
      "text/html": [
       "<pre style=\"white-space:pre;overflow-x:auto;line-height:normal;font-family:Menlo,'DejaVu Sans Mono',consolas,'Courier New',monospace\">\n",
       "<span style=\"font-weight: bold\">[</span>\n",
       "<span style=\"color: #808080; text-decoration-color: #808080\">│   </span><span style=\"color: #8b008b; text-decoration-color: #8b008b\">'myconfig.txt'</span>,\n",
       "<span style=\"color: #808080; text-decoration-color: #808080\">│   </span><span style=\"color: #8b008b; text-decoration-color: #8b008b\">'myplot.png'</span>,\n",
       "<span style=\"color: #808080; text-decoration-color: #808080\">│   </span><span style=\"color: #8b008b; text-decoration-color: #8b008b\">'mini-access-log.txt'</span>,\n",
       "<span style=\"color: #808080; text-decoration-color: #808080\">│   </span><span style=\"color: #8b008b; text-decoration-color: #8b008b\">'mysum.py~'</span>,\n",
       "<span style=\"color: #808080; text-decoration-color: #808080\">│   </span><span style=\"color: #8b008b; text-decoration-color: #8b008b\">'Office hours, 2021 09Sep 1.ipynb'</span>,\n",
       "<span style=\"color: #808080; text-decoration-color: #808080\">│   </span><span style=\"color: #8b008b; text-decoration-color: #8b008b\">'.DS_Store'</span>,\n",
       "<span style=\"color: #808080; text-decoration-color: #808080\">│   </span><span style=\"color: #8b008b; text-decoration-color: #8b008b\">'First steps, 2021 08Aug 12.html'</span>,\n",
       "<span style=\"color: #808080; text-decoration-color: #808080\">│   </span><span style=\"color: #8b008b; text-decoration-color: #8b008b\">'nums.txt'</span>,\n",
       "<span style=\"color: #808080; text-decoration-color: #808080\">│   </span><span style=\"color: #8b008b; text-decoration-color: #8b008b\">'First steps, 2021 08Aug 26.ipynb'</span>,\n",
       "<span style=\"color: #808080; text-decoration-color: #808080\">│   </span><span style=\"color: #8b008b; text-decoration-color: #8b008b\">'newwcfile.txt'</span>,\n",
       "<span style=\"color: #808080; text-decoration-color: #808080\">│   </span><span style=\"color: #8b008b; text-decoration-color: #8b008b\">'First steps, 2021 08Aug 19.ipynb'</span>,\n",
       "<span style=\"color: #808080; text-decoration-color: #808080\">│   </span><span style=\"color: #8b008b; text-decoration-color: #8b008b\">'First steps, 2021 08Aug 19.html'</span>,\n",
       "<span style=\"color: #808080; text-decoration-color: #808080\">│   </span><span style=\"color: #8b008b; text-decoration-color: #8b008b\">'shoe-data.txt'</span>,\n",
       "<span style=\"color: #808080; text-decoration-color: #808080\">│   </span><span style=\"color: #8b008b; text-decoration-color: #8b008b\">'linux-etc-passwd.txt'</span>,\n",
       "<span style=\"color: #808080; text-decoration-color: #808080\">│   </span><span style=\"color: #8b008b; text-decoration-color: #8b008b\">'myfile2.txt'</span>,\n",
       "<span style=\"color: #808080; text-decoration-color: #808080\">│   </span><span style=\"color: #8b008b; text-decoration-color: #8b008b\">'README.md'</span>,\n",
       "<span style=\"color: #808080; text-decoration-color: #808080\">│   </span><span style=\"color: #8b008b; text-decoration-color: #8b008b\">'wcfile.txt'</span>,\n",
       "<span style=\"color: #808080; text-decoration-color: #808080\">│   </span><span style=\"color: #8b008b; text-decoration-color: #8b008b\">'.mypy_cache'</span>,\n",
       "<span style=\"color: #808080; text-decoration-color: #808080\">│   </span><span style=\"color: #8b008b; text-decoration-color: #8b008b\">'README.md~'</span>,\n",
       "<span style=\"color: #808080; text-decoration-color: #808080\">│   </span><span style=\"color: #8b008b; text-decoration-color: #8b008b\">'profiles_settings.xml'</span>,\n",
       "<span style=\"color: #808080; text-decoration-color: #808080\">│   </span><span style=\"color: #8b008b; text-decoration-color: #8b008b\">'exercise-files.zip'</span>,\n",
       "<span style=\"color: #808080; text-decoration-color: #808080\">│   </span><span style=\"color: #8b008b; text-decoration-color: #8b008b\">'First steps, 2021 09Sep 09.ipynb'</span>,\n",
       "<span style=\"color: #808080; text-decoration-color: #808080\">│   </span><span style=\"color: #8b008b; text-decoration-color: #8b008b\">'mydata.csv'</span>,\n",
       "<span style=\"color: #808080; text-decoration-color: #808080\">│   </span><span style=\"color: #8b008b; text-decoration-color: #8b008b\">'myfile.txt'</span>,\n",
       "<span style=\"color: #808080; text-decoration-color: #808080\">│   </span><span style=\"color: #8b008b; text-decoration-color: #8b008b\">'.ipynb_checkpoints'</span>,\n",
       "<span style=\"color: #808080; text-decoration-color: #808080\">│   </span><span style=\"color: #8b008b; text-decoration-color: #8b008b\">'.git'</span>,\n",
       "<span style=\"color: #808080; text-decoration-color: #808080\">│   </span><span style=\"color: #8b008b; text-decoration-color: #8b008b\">'First steps, 2021 08Aug 12.ipynb'</span>,\n",
       "<span style=\"color: #808080; text-decoration-color: #808080\">│   </span><span style=\"color: #8b008b; text-decoration-color: #8b008b\">'First steps, 2021 09Sep 2.ipynb'</span>,\n",
       "<span style=\"color: #808080; text-decoration-color: #808080\">│   </span><span style=\"color: #8b008b; text-decoration-color: #8b008b\">'output.txt'</span>,\n",
       "<span style=\"color: #808080; text-decoration-color: #808080\">│   </span><span style=\"color: #8b008b; text-decoration-color: #8b008b\">'file with spaces in its name.txt'</span>,\n",
       "<span style=\"color: #808080; text-decoration-color: #808080\">│   </span><span style=\"color: #8b008b; text-decoration-color: #8b008b\">'mysum.py'</span>\n",
       "<span style=\"font-weight: bold\">]</span>\n",
       "</pre>\n"
      ],
      "text/plain": [
       "\n",
       "\u001b[1m[\u001b[0m\n",
       "\u001b[38;2;128;128;128m│   \u001b[0m\u001b[38;2;139;0;139m'myconfig.txt'\u001b[0m,\n",
       "\u001b[38;2;128;128;128m│   \u001b[0m\u001b[38;2;139;0;139m'myplot.png'\u001b[0m,\n",
       "\u001b[38;2;128;128;128m│   \u001b[0m\u001b[38;2;139;0;139m'mini-access-log.txt'\u001b[0m,\n",
       "\u001b[38;2;128;128;128m│   \u001b[0m\u001b[38;2;139;0;139m'mysum.py~'\u001b[0m,\n",
       "\u001b[38;2;128;128;128m│   \u001b[0m\u001b[38;2;139;0;139m'Office hours, 2021 09Sep 1.ipynb'\u001b[0m,\n",
       "\u001b[38;2;128;128;128m│   \u001b[0m\u001b[38;2;139;0;139m'.DS_Store'\u001b[0m,\n",
       "\u001b[38;2;128;128;128m│   \u001b[0m\u001b[38;2;139;0;139m'First steps, 2021 08Aug 12.html'\u001b[0m,\n",
       "\u001b[38;2;128;128;128m│   \u001b[0m\u001b[38;2;139;0;139m'nums.txt'\u001b[0m,\n",
       "\u001b[38;2;128;128;128m│   \u001b[0m\u001b[38;2;139;0;139m'First steps, 2021 08Aug 26.ipynb'\u001b[0m,\n",
       "\u001b[38;2;128;128;128m│   \u001b[0m\u001b[38;2;139;0;139m'newwcfile.txt'\u001b[0m,\n",
       "\u001b[38;2;128;128;128m│   \u001b[0m\u001b[38;2;139;0;139m'First steps, 2021 08Aug 19.ipynb'\u001b[0m,\n",
       "\u001b[38;2;128;128;128m│   \u001b[0m\u001b[38;2;139;0;139m'First steps, 2021 08Aug 19.html'\u001b[0m,\n",
       "\u001b[38;2;128;128;128m│   \u001b[0m\u001b[38;2;139;0;139m'shoe-data.txt'\u001b[0m,\n",
       "\u001b[38;2;128;128;128m│   \u001b[0m\u001b[38;2;139;0;139m'linux-etc-passwd.txt'\u001b[0m,\n",
       "\u001b[38;2;128;128;128m│   \u001b[0m\u001b[38;2;139;0;139m'myfile2.txt'\u001b[0m,\n",
       "\u001b[38;2;128;128;128m│   \u001b[0m\u001b[38;2;139;0;139m'README.md'\u001b[0m,\n",
       "\u001b[38;2;128;128;128m│   \u001b[0m\u001b[38;2;139;0;139m'wcfile.txt'\u001b[0m,\n",
       "\u001b[38;2;128;128;128m│   \u001b[0m\u001b[38;2;139;0;139m'.mypy_cache'\u001b[0m,\n",
       "\u001b[38;2;128;128;128m│   \u001b[0m\u001b[38;2;139;0;139m'README.md~'\u001b[0m,\n",
       "\u001b[38;2;128;128;128m│   \u001b[0m\u001b[38;2;139;0;139m'profiles_settings.xml'\u001b[0m,\n",
       "\u001b[38;2;128;128;128m│   \u001b[0m\u001b[38;2;139;0;139m'exercise-files.zip'\u001b[0m,\n",
       "\u001b[38;2;128;128;128m│   \u001b[0m\u001b[38;2;139;0;139m'First steps, 2021 09Sep 09.ipynb'\u001b[0m,\n",
       "\u001b[38;2;128;128;128m│   \u001b[0m\u001b[38;2;139;0;139m'mydata.csv'\u001b[0m,\n",
       "\u001b[38;2;128;128;128m│   \u001b[0m\u001b[38;2;139;0;139m'myfile.txt'\u001b[0m,\n",
       "\u001b[38;2;128;128;128m│   \u001b[0m\u001b[38;2;139;0;139m'.ipynb_checkpoints'\u001b[0m,\n",
       "\u001b[38;2;128;128;128m│   \u001b[0m\u001b[38;2;139;0;139m'.git'\u001b[0m,\n",
       "\u001b[38;2;128;128;128m│   \u001b[0m\u001b[38;2;139;0;139m'First steps, 2021 08Aug 12.ipynb'\u001b[0m,\n",
       "\u001b[38;2;128;128;128m│   \u001b[0m\u001b[38;2;139;0;139m'First steps, 2021 09Sep 2.ipynb'\u001b[0m,\n",
       "\u001b[38;2;128;128;128m│   \u001b[0m\u001b[38;2;139;0;139m'output.txt'\u001b[0m,\n",
       "\u001b[38;2;128;128;128m│   \u001b[0m\u001b[38;2;139;0;139m'file with spaces in its name.txt'\u001b[0m,\n",
       "\u001b[38;2;128;128;128m│   \u001b[0m\u001b[38;2;139;0;139m'mysum.py'\u001b[0m\n",
       "\u001b[1m]\u001b[0m\n"
      ]
     },
     "metadata": {},
     "output_type": "display_data"
    }
   ],
   "source": [
    "import os\n",
    "os.listdir('.')   # return a list of strings (filenames) for the current directory"
   ]
  },
  {
   "cell_type": "code",
   "execution_count": null,
   "metadata": {},
   "outputs": [],
   "source": [
    "# modules can contain classes (new data types)\n",
    "# example: Counter class\n",
    "# a version of dictionary whose keys are what we want to count, and whose values are those counts\n",
    "\n",
    "import collections   # a module\n",
    "c = collections.C"
   ]
  }
 ],
 "metadata": {
  "kernelspec": {
   "display_name": "Python 3",
   "language": "python",
   "name": "python3"
  },
  "language_info": {
   "codemirror_mode": {
    "name": "ipython",
    "version": 3
   },
   "file_extension": ".py",
   "mimetype": "text/x-python",
   "name": "python",
   "nbconvert_exporter": "python",
   "pygments_lexer": "ipython3",
   "version": "3.9.7"
  }
 },
 "nbformat": 4,
 "nbformat_minor": 4
}
