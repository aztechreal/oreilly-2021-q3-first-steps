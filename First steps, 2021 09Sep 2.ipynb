{
 "cells": [
  {
   "cell_type": "markdown",
   "metadata": {},
   "source": [
    "# Week 4: Functions!\n",
    "\n",
    "1. What are functions?\n",
    "2. Defining functions\n",
    "3. Arguments and parameters\n",
    "4. Return values\n",
    "5. Default argument values\n",
    "6. Complex return values\n",
    "7. Unpacking\n",
    "8. Locals and globals"
   ]
  },
  {
   "cell_type": "code",
   "execution_count": 3,
   "metadata": {
    "scrolled": true
   },
   "outputs": [
    {
     "name": "stdout",
     "output_type": "stream",
     "text": [
      "('a', 1)\n",
      "a: 1\n",
      "\n",
      "\n",
      "('b', 2)\n",
      "b: 2\n",
      "\n",
      "\n",
      "('c', 3)\n",
      "c: 3\n",
      "\n",
      "\n"
     ]
    }
   ],
   "source": [
    "d = {'a':1, 'b':2, 'c':3}    # dictionary\n",
    "\n",
    "for t in d.items():          # iterating over d.items(), which gives us key-value pairs (two-element tuples)\n",
    "    print(t)\n",
    "    print(f'{t[0]}: {t[1]}') # in each tuple, index 0 is the key and index 1 is the value\n",
    "    print('\\n')\n",
    "\n",
    "\n"
   ]
  },
  {
   "cell_type": "code",
   "execution_count": 4,
   "metadata": {},
   "outputs": [
    {
     "data": {
      "text/plain": [
       "('a', 1)"
      ]
     },
     "execution_count": 4,
     "metadata": {},
     "output_type": "execute_result"
    }
   ],
   "source": [
    "t = ('a', 1)\n",
    "t"
   ]
  },
  {
   "cell_type": "code",
   "execution_count": 5,
   "metadata": {},
   "outputs": [],
   "source": [
    "# two values (on the right) are assigned to two variables (on the left)\n",
    "\n",
    "key, value = t   # tuple unpacking / unpacking "
   ]
  },
  {
   "cell_type": "code",
   "execution_count": 6,
   "metadata": {},
   "outputs": [
    {
     "data": {
      "text/plain": [
       "'a'"
      ]
     },
     "execution_count": 6,
     "metadata": {},
     "output_type": "execute_result"
    }
   ],
   "source": [
    "key"
   ]
  },
  {
   "cell_type": "code",
   "execution_count": 7,
   "metadata": {},
   "outputs": [
    {
     "data": {
      "text/plain": [
       "1"
      ]
     },
     "execution_count": 7,
     "metadata": {},
     "output_type": "execute_result"
    }
   ],
   "source": [
    "value"
   ]
  },
  {
   "cell_type": "code",
   "execution_count": 8,
   "metadata": {},
   "outputs": [
    {
     "name": "stdout",
     "output_type": "stream",
     "text": [
      "a: 1\n",
      "b: 2\n",
      "c: 3\n"
     ]
    }
   ],
   "source": [
    "d = {'a':1, 'b':2, 'c':3}    # dictionary\n",
    "\n",
    "for key, value in d.items():  # with each iteration, our tuple will be unpacked into key, value\n",
    "    print(f'{key}: {value}')\n"
   ]
  },
  {
   "cell_type": "markdown",
   "metadata": {},
   "source": [
    "# DRY (Don't Repeat Yourself) rule\n",
    "\n",
    "If I have code that repeats itself, several lines in a row, then I can use a loop.\n",
    "\n",
    "So instead of saying\n",
    "\n",
    "```python\n",
    "s = 'abcd'\n",
    "print(s[0])\n",
    "print(s[1])\n",
    "print(s[2])\n",
    "print(s[3])\n",
    "```\n",
    "\n",
    "Instead, I can say:\n",
    "\n",
    "```python\n",
    "for one_item in s:\n",
    "    print(one_item)\n",
    "```\n",
    "\n",
    "What happens if I have repeated code in multiple places in my program?  I want to DRY up my code there, too... and for this, I can use a function."
   ]
  },
  {
   "cell_type": "markdown",
   "metadata": {},
   "source": [
    "# Another reason to use functions: Abstraction\n",
    "\n",
    "\"Abstraction\" means that I can take many ideas, and compress them into a single term.  Then I don't need to worry about the complexity of the idea, implementation, etc.\n",
    "\n",
    "- Example"
   ]
  }
 ],
 "metadata": {
  "kernelspec": {
   "display_name": "Python 3",
   "language": "python",
   "name": "python3"
  },
  "language_info": {
   "codemirror_mode": {
    "name": "ipython",
    "version": 3
   },
   "file_extension": ".py",
   "mimetype": "text/x-python",
   "name": "python",
   "nbconvert_exporter": "python",
   "pygments_lexer": "ipython3",
   "version": "3.9.6"
  }
 },
 "nbformat": 4,
 "nbformat_minor": 4
}
