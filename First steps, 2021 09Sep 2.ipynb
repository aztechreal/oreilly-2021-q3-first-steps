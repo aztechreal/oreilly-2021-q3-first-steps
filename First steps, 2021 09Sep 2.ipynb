{
 "cells": [
  {
   "cell_type": "markdown",
   "metadata": {},
   "source": [
    "# Week 4: Functions!\n",
    "\n",
    "1. What are functions?\n",
    "2. Defining functions\n",
    "3. Arguments and parameters\n",
    "4. Return values\n",
    "5. Default argument values\n",
    "6. Complex return values\n",
    "7. Unpacking\n",
    "8. Locals and globals"
   ]
  },
  {
   "cell_type": "code",
   "execution_count": 3,
   "metadata": {
    "scrolled": true
   },
   "outputs": [
    {
     "name": "stdout",
     "output_type": "stream",
     "text": [
      "('a', 1)\n",
      "a: 1\n",
      "\n",
      "\n",
      "('b', 2)\n",
      "b: 2\n",
      "\n",
      "\n",
      "('c', 3)\n",
      "c: 3\n",
      "\n",
      "\n"
     ]
    }
   ],
   "source": [
    "d = {'a':1, 'b':2, 'c':3}    # dictionary\n",
    "\n",
    "for t in d.items():          # iterating over d.items(), which gives us key-value pairs (two-element tuples)\n",
    "    print(t)\n",
    "    print(f'{t[0]}: {t[1]}') # in each tuple, index 0 is the key and index 1 is the value\n",
    "    print('\\n')\n",
    "\n",
    "\n"
   ]
  },
  {
   "cell_type": "code",
   "execution_count": 4,
   "metadata": {},
   "outputs": [
    {
     "data": {
      "text/plain": [
       "('a', 1)"
      ]
     },
     "execution_count": 4,
     "metadata": {},
     "output_type": "execute_result"
    }
   ],
   "source": [
    "t = ('a', 1)\n",
    "t"
   ]
  },
  {
   "cell_type": "code",
   "execution_count": 5,
   "metadata": {},
   "outputs": [],
   "source": [
    "# two values (on the right) are assigned to two variables (on the left)\n",
    "\n",
    "key, value = t   # tuple unpacking / unpacking "
   ]
  },
  {
   "cell_type": "code",
   "execution_count": 6,
   "metadata": {},
   "outputs": [
    {
     "data": {
      "text/plain": [
       "'a'"
      ]
     },
     "execution_count": 6,
     "metadata": {},
     "output_type": "execute_result"
    }
   ],
   "source": [
    "key"
   ]
  },
  {
   "cell_type": "code",
   "execution_count": 7,
   "metadata": {},
   "outputs": [
    {
     "data": {
      "text/plain": [
       "1"
      ]
     },
     "execution_count": 7,
     "metadata": {},
     "output_type": "execute_result"
    }
   ],
   "source": [
    "value"
   ]
  },
  {
   "cell_type": "code",
   "execution_count": 8,
   "metadata": {},
   "outputs": [
    {
     "name": "stdout",
     "output_type": "stream",
     "text": [
      "a: 1\n",
      "b: 2\n",
      "c: 3\n"
     ]
    }
   ],
   "source": [
    "d = {'a':1, 'b':2, 'c':3}    # dictionary\n",
    "\n",
    "for key, value in d.items():  # with each iteration, our tuple will be unpacked into key, value\n",
    "    print(f'{key}: {value}')\n"
   ]
  },
  {
   "cell_type": "markdown",
   "metadata": {},
   "source": [
    "# DRY (Don't Repeat Yourself) rule\n",
    "\n",
    "If I have code that repeats itself, several lines in a row, then I can use a loop.\n",
    "\n",
    "So instead of saying\n",
    "\n",
    "```python\n",
    "s = 'abcd'\n",
    "print(s[0])\n",
    "print(s[1])\n",
    "print(s[2])\n",
    "print(s[3])\n",
    "```\n",
    "\n",
    "Instead, I can say:\n",
    "\n",
    "```python\n",
    "for one_item in s:\n",
    "    print(one_item)\n",
    "```\n",
    "\n",
    "What happens if I have repeated code in multiple places in my program?  I want to DRY up my code there, too... and for this, I can use a function."
   ]
  },
  {
   "cell_type": "markdown",
   "metadata": {},
   "source": [
    "# Another reason to use functions: Abstraction\n",
    "\n",
    "\"Abstraction\" means that I can take many ideas, and compress them into a single term.  Then I don't need to worry about the complexity of the idea, implementation, etc.\n",
    "\n",
    "- Example 1: Driving a car -- abstraction allows me to focus on what's important \n",
    "- Example 2: Making a scrambled egg -- abstraction allows me to describe a complex series of tasks with one term\n",
    "\n",
    "Functions accomplish both of these. They allow us to compress a lot of actions into a single term. And they also hide the complexity, allowing us to think at a higher level."
   ]
  },
  {
   "cell_type": "markdown",
   "metadata": {},
   "source": [
    "# Another way to think about functions: They are verbs\n",
    "\n",
    "Data (ints, strings, lists, etc.) are the nouns of programming.\n",
    "\n",
    "Functions are the verbs of programming.\n",
    "\n",
    "We've already seen a bunch of functions (and methods, which I'll lump in with them):\n",
    "- `len`\n",
    "- `print`\n",
    "- `input`\n",
    "- `str.isdigit`\n",
    "\n",
    "When we want to use a function, we execute it, or call it, or run it.  All of these terms are totally OK."
   ]
  },
  {
   "cell_type": "code",
   "execution_count": 9,
   "metadata": {},
   "outputs": [],
   "source": [
    "# To write a function in Python, we use the keyword \"def\" (short for \"define\")\n",
    "# Here is a simple function:\n",
    "\n",
    "def hello():         # start with \"def\", then the name of the function we're defining, then (), then :\n",
    "    print('Hello!')  # indentation for as many lines of the \"function body\" as we want\n",
    "    \n",
    "# What code can be in a function body?  ABSOLUTELY ANYTHING."
   ]
  },
  {
   "cell_type": "code",
   "execution_count": 10,
   "metadata": {},
   "outputs": [
    {
     "name": "stdout",
     "output_type": "stream",
     "text": [
      "Hello!\n"
     ]
    }
   ],
   "source": [
    "# How do I execute my function?  I give its name, and then use parentheses\n",
    "\n",
    "hello()  # call the function"
   ]
  },
  {
   "cell_type": "code",
   "execution_count": 11,
   "metadata": {},
   "outputs": [
    {
     "data": {
      "text/plain": [
       "function"
      ]
     },
     "execution_count": 11,
     "metadata": {},
     "output_type": "execute_result"
    }
   ],
   "source": [
    "# Python knows it's a function\n",
    "type(hello)"
   ]
  },
  {
   "cell_type": "code",
   "execution_count": 12,
   "metadata": {},
   "outputs": [],
   "source": [
    "def greet_me():   # here, I define the function\n",
    "    name = input('Enter your name: ').strip()\n",
    "    print(f'Hello, {name}!')"
   ]
  },
  {
   "cell_type": "code",
   "execution_count": 13,
   "metadata": {},
   "outputs": [
    {
     "name": "stdout",
     "output_type": "stream",
     "text": [
      "Enter your name: Reuven\n",
      "Hello, Reuven!\n"
     ]
    }
   ],
   "source": [
    "greet_me()        # here, I run the function"
   ]
  },
  {
   "cell_type": "code",
   "execution_count": 14,
   "metadata": {
    "scrolled": true
   },
   "outputs": [
    {
     "name": "stdout",
     "output_type": "stream",
     "text": [
      "Enter your name: a\n",
      "Hello, a!\n",
      "Enter your name: b\n",
      "Hello, b!\n",
      "Enter your name: c\n",
      "Hello, c!\n"
     ]
    }
   ],
   "source": [
    "# once I have the function defined, I can run it multiple times\n",
    "for i in range(3):\n",
    "    greet_me()"
   ]
  },
  {
   "cell_type": "code",
   "execution_count": null,
   "metadata": {},
   "outputs": [],
   "source": []
  },
  {
   "cell_type": "markdown",
   "metadata": {},
   "source": [
    "# Exercise: Calculator\n",
    "\n",
    "1. Write a function, `calc`.  When the function is called, it asks the user to enter three different strings:\n",
    "    - `first`, a number\n",
    "    - `op`, a string (should be either `+` or `-`)\n",
    "    - `second`, a number\n",
    "2. `calc` should turn `first` and `second` into integers, and then check `op` to see what operation we should run.\n",
    "3. `calc` should print the result of the appropriate operation.\n",
    "\n",
    "Example:\n",
    "\n",
    "    Enter first: 10\n",
    "    Enter op: +\n",
    "    Enter second: 5\n",
    "    10 + 5 = 15"
   ]
  },
  {
   "cell_type": "code",
   "execution_count": 15,
   "metadata": {},
   "outputs": [
    {
     "data": {
      "text/plain": [
       "7"
      ]
     },
     "execution_count": 15,
     "metadata": {},
     "output_type": "execute_result"
    }
   ],
   "source": [
    "x = 5\n",
    "x = 7    # obviously, x=5 has been lost.  It doesn't remember that x was once 5\n",
    "\n",
    "x"
   ]
  },
  {
   "cell_type": "code",
   "execution_count": 16,
   "metadata": {},
   "outputs": [],
   "source": [
    "# In the same way, when we define a function that has already been defined, \n",
    "# the older one goes away."
   ]
  },
  {
   "cell_type": "code",
   "execution_count": 17,
   "metadata": {},
   "outputs": [],
   "source": [
    "def calc():\n",
    "    first = input('Enter first: ').strip()\n",
    "    op = input('Enter op: ').strip()\n",
    "    second = input('Enter second: ').strip()\n",
    "    \n",
    "    first = int(first)\n",
    "    second = int(second)\n",
    "    \n",
    "    if op == '+':\n",
    "        result = first + second\n",
    "    elif op == '-':\n",
    "        result = first - second\n",
    "    else:\n",
    "        result = f'Operator {op} is not supported'\n",
    "        \n",
    "    print(f'{first} {op} {second} = {result}')"
   ]
  },
  {
   "cell_type": "code",
   "execution_count": 20,
   "metadata": {},
   "outputs": [
    {
     "name": "stdout",
     "output_type": "stream",
     "text": [
      "Enter first: 10\n",
      "Enter op: * \n",
      "Enter second: 8\n",
      "10 * 8 = Operator * is not supported\n"
     ]
    }
   ],
   "source": [
    "calc()"
   ]
  },
  {
   "cell_type": "code",
   "execution_count": 21,
   "metadata": {},
   "outputs": [
    {
     "ename": "NameError",
     "evalue": "name 'result' is not defined",
     "output_type": "error",
     "traceback": [
      "\u001b[0;31m---------------------------------------------------------------------------\u001b[0m",
      "\u001b[0;31mNameError\u001b[0m                                 Traceback (most recent call last)",
      "\u001b[0;32m<ipython-input-21-0ac921c19f1a>\u001b[0m in \u001b[0;36m<module>\u001b[0;34m\u001b[0m\n\u001b[0;32m----> 1\u001b[0;31m \u001b[0mresult\u001b[0m\u001b[0;34m\u001b[0m\u001b[0;34m\u001b[0m\u001b[0m\n\u001b[0m",
      "\u001b[0;31mNameError\u001b[0m: name 'result' is not defined"
     ]
    }
   ],
   "source": [
    "result"
   ]
  },
  {
   "cell_type": "code",
   "execution_count": 22,
   "metadata": {},
   "outputs": [
    {
     "name": "stdout",
     "output_type": "stream",
     "text": [
      "Enter first: 5\n",
      "Enter op: -\n",
      "Enter second: 1000\n",
      "5 - 1000 = -995\n"
     ]
    }
   ],
   "source": [
    "calc()"
   ]
  },
  {
   "cell_type": "code",
   "execution_count": 23,
   "metadata": {},
   "outputs": [
    {
     "data": {
      "text/plain": [
       "4"
      ]
     },
     "execution_count": 23,
     "metadata": {},
     "output_type": "execute_result"
    }
   ],
   "source": [
    "len('abcd')  # here, I pass the argument 'abcd' to len"
   ]
  },
  {
   "cell_type": "code",
   "execution_count": 24,
   "metadata": {},
   "outputs": [
    {
     "data": {
      "text/plain": [
       "3"
      ]
     },
     "execution_count": 24,
     "metadata": {},
     "output_type": "execute_result"
    }
   ],
   "source": [
    "len('qrs')"
   ]
  },
  {
   "cell_type": "markdown",
   "metadata": {},
   "source": [
    "# Remember (regarding `eval`)\n",
    "\n",
    "There is a 75% overlap between \"eval\" and \"evil\".  TRY TO AVOID IT AT ALMOST ALL COSTS."
   ]
  },
  {
   "cell_type": "markdown",
   "metadata": {},
   "source": [
    "# Function parameters (and arguments)\n",
    "\n",
    "First, some pedantic terminology that *MANY* professional developers get wrong:\n",
    "\n",
    "- *arguments* are the values that we pass to a function when we call it.  They go inside of the parentheses when we call our function.\n",
    "    - `print('hello')`\n",
    "    - `len('abcd')`\n",
    "    - `mylist.append('a')`\n",
    "- *parameters* are the variables in the function that get assigned the argument values. \n"
   ]
  },
  {
   "cell_type": "code",
   "execution_count": 25,
   "metadata": {},
   "outputs": [],
   "source": [
    "def hello(name):              # defining the function \"hello\", which has one parameter, called \"name\"\n",
    "    print(f'Hello, {name}!')  # the parameter contains the value of the argument we passed"
   ]
  },
  {
   "cell_type": "code",
   "execution_count": 26,
   "metadata": {},
   "outputs": [
    {
     "name": "stdout",
     "output_type": "stream",
     "text": [
      "Hello, world!\n"
     ]
    }
   ],
   "source": [
    "hello('world')   # 'world' is the argument, and it will be assigned to \"name\" in the function"
   ]
  },
  {
   "cell_type": "code",
   "execution_count": 27,
   "metadata": {},
   "outputs": [
    {
     "name": "stdout",
     "output_type": "stream",
     "text": [
      "Hello, out there!\n"
     ]
    }
   ],
   "source": [
    "hello('out there')"
   ]
  },
  {
   "cell_type": "code",
   "execution_count": 28,
   "metadata": {},
   "outputs": [
    {
     "name": "stdout",
     "output_type": "stream",
     "text": [
      "Hello, Reuven!\n"
     ]
    }
   ],
   "source": [
    "hello('Reuven')"
   ]
  },
  {
   "cell_type": "code",
   "execution_count": 29,
   "metadata": {},
   "outputs": [
    {
     "name": "stdout",
     "output_type": "stream",
     "text": [
      "Hello, 5!\n"
     ]
    }
   ],
   "source": [
    "hello(5)"
   ]
  },
  {
   "cell_type": "code",
   "execution_count": 30,
   "metadata": {},
   "outputs": [
    {
     "name": "stdout",
     "output_type": "stream",
     "text": [
      "Hello, [10, 20, 30]!\n"
     ]
    }
   ],
   "source": [
    "hello([10, 20, 30])"
   ]
  },
  {
   "cell_type": "code",
   "execution_count": 31,
   "metadata": {},
   "outputs": [
    {
     "name": "stdout",
     "output_type": "stream",
     "text": [
      "Hello, {'a': 1, 'b': 2, 'c': 3}!\n"
     ]
    }
   ],
   "source": [
    "hello({'a':1, 'b':2, 'c':3})"
   ]
  },
  {
   "cell_type": "code",
   "execution_count": 32,
   "metadata": {},
   "outputs": [
    {
     "name": "stdout",
     "output_type": "stream",
     "text": [
      "Hello, <function hello at 0x108593940>!\n"
     ]
    }
   ],
   "source": [
    "hello(hello)"
   ]
  },
  {
   "cell_type": "code",
   "execution_count": 33,
   "metadata": {},
   "outputs": [
    {
     "ename": "TypeError",
     "evalue": "hello() missing 1 required positional argument: 'name'",
     "output_type": "error",
     "traceback": [
      "\u001b[0;31m---------------------------------------------------------------------------\u001b[0m",
      "\u001b[0;31mTypeError\u001b[0m                                 Traceback (most recent call last)",
      "\u001b[0;32m<ipython-input-33-8ad2cce960cf>\u001b[0m in \u001b[0;36m<module>\u001b[0;34m\u001b[0m\n\u001b[1;32m      1\u001b[0m \u001b[0;31m# we had a version of \"hello\" before, and we were able to call it with 0 arguments.  Can we still do that?\u001b[0m\u001b[0;34m\u001b[0m\u001b[0;34m\u001b[0m\u001b[0;34m\u001b[0m\u001b[0m\n\u001b[0;32m----> 2\u001b[0;31m \u001b[0mhello\u001b[0m\u001b[0;34m(\u001b[0m\u001b[0;34m)\u001b[0m\u001b[0;34m\u001b[0m\u001b[0;34m\u001b[0m\u001b[0m\n\u001b[0m",
      "\u001b[0;31mTypeError\u001b[0m: hello() missing 1 required positional argument: 'name'"
     ]
    }
   ],
   "source": [
    "# we had a version of \"hello\" before, and we were able to call it with 0 arguments.  Can we still do that?\n",
    "hello()"
   ]
  },
  {
   "cell_type": "code",
   "execution_count": 34,
   "metadata": {},
   "outputs": [],
   "source": [
    "def hello(first, last):\n",
    "    print(f'Hello, {first} {last}!')"
   ]
  },
  {
   "cell_type": "code",
   "execution_count": 35,
   "metadata": {},
   "outputs": [
    {
     "name": "stdout",
     "output_type": "stream",
     "text": [
      "Hello, out there!\n"
     ]
    }
   ],
   "source": [
    "hello('out', 'there')"
   ]
  },
  {
   "cell_type": "code",
   "execution_count": 36,
   "metadata": {},
   "outputs": [
    {
     "ename": "TypeError",
     "evalue": "hello() missing 1 required positional argument: 'last'",
     "output_type": "error",
     "traceback": [
      "\u001b[0;31m---------------------------------------------------------------------------\u001b[0m",
      "\u001b[0;31mTypeError\u001b[0m                                 Traceback (most recent call last)",
      "\u001b[0;32m<ipython-input-36-a841438adc4d>\u001b[0m in \u001b[0;36m<module>\u001b[0;34m\u001b[0m\n\u001b[0;32m----> 1\u001b[0;31m \u001b[0mhello\u001b[0m\u001b[0;34m(\u001b[0m\u001b[0;34m'out'\u001b[0m\u001b[0;34m)\u001b[0m\u001b[0;34m\u001b[0m\u001b[0;34m\u001b[0m\u001b[0m\n\u001b[0m",
      "\u001b[0;31mTypeError\u001b[0m: hello() missing 1 required positional argument: 'last'"
     ]
    }
   ],
   "source": [
    "hello('out')"
   ]
  },
  {
   "cell_type": "markdown",
   "metadata": {},
   "source": [
    "# What does `def` do?\n",
    "\n",
    "It always does two things:\n",
    "\n",
    "1. It creates a new function object.\n",
    "2. It assigns that function object to a variable."
   ]
  },
  {
   "cell_type": "markdown",
   "metadata": {},
   "source": [
    "# Exercise: `mysum`\n",
    "\n",
    "Python comes with a `sum` function, which takes a list (or tuple) of numbers, and returns their sum.  So we can say:\n",
    "\n",
    "    sum([10, 20, 30])   # returns 60\n",
    "    \n",
    "I want you to write a function called `mysum` which does much the same thing.  It should `print` the result of summing these numbers.  \n",
    "\n",
    "Your function should be able to take any list or tuple of numbers, and then print the sum of those numbers.  We'll assume that all of the elements of the list/tuple are indeed numbers.\n",
    "\n",
    "Don't use the built-in `sum` function to implement your `mysum` function.  You should do sum-things all by yourself."
   ]
  },
  {
   "cell_type": "code",
   "execution_count": null,
   "metadata": {},
   "outputs": [],
   "source": [
    "mysum([3,4])  # calling the function with a list argument, should work\n",
    "mysum((3,4))  # calling the function with a tuple argument, should work\n",
    "\n",
    "mysum(3,4)   # this is different -- calling it with two int arguments, DO NOT WORRY ABOUT THIS\n"
   ]
  },
  {
   "cell_type": "code",
   "execution_count": 39,
   "metadata": {},
   "outputs": [],
   "source": [
    "def mysum(numbers):  # one parameter, which can take one argument -- which can have many elements\n",
    "    total = 0\n",
    "    \n",
    "    for one_number in numbers:\n",
    "        total += one_number\n",
    "        \n",
    "    print(total)\n",
    "    "
   ]
  },
  {
   "cell_type": "code",
   "execution_count": 40,
   "metadata": {},
   "outputs": [
    {
     "name": "stdout",
     "output_type": "stream",
     "text": [
      "60\n"
     ]
    }
   ],
   "source": [
    "mysum([10, 20, 30])"
   ]
  },
  {
   "cell_type": "code",
   "execution_count": 41,
   "metadata": {},
   "outputs": [
    {
     "name": "stdout",
     "output_type": "stream",
     "text": [
      "28\n"
     ]
    }
   ],
   "source": [
    "mysum([1,2,3,4,5,6,7])"
   ]
  },
  {
   "cell_type": "code",
   "execution_count": 42,
   "metadata": {},
   "outputs": [
    {
     "name": "stdout",
     "output_type": "stream",
     "text": [
      "12351831\n"
     ]
    }
   ],
   "source": [
    "mysum([100, 300, 12351431])"
   ]
  },
  {
   "cell_type": "code",
   "execution_count": 44,
   "metadata": {},
   "outputs": [
    {
     "name": "stdout",
     "output_type": "stream",
     "text": [
      "0\n"
     ]
    }
   ],
   "source": [
    "mysum(   ()    )  # I pass an empty tuple as an argument"
   ]
  },
  {
   "cell_type": "code",
   "execution_count": 45,
   "metadata": {
    "scrolled": true
   },
   "outputs": [
    {
     "ename": "TypeError",
     "evalue": "mysum() missing 1 required positional argument: 'numbers'",
     "output_type": "error",
     "traceback": [
      "\u001b[0;31m---------------------------------------------------------------------------\u001b[0m",
      "\u001b[0;31mTypeError\u001b[0m                                 Traceback (most recent call last)",
      "\u001b[0;32m<ipython-input-45-8a59286c8dbf>\u001b[0m in \u001b[0;36m<module>\u001b[0;34m\u001b[0m\n\u001b[0;32m----> 1\u001b[0;31m \u001b[0mmysum\u001b[0m\u001b[0;34m(\u001b[0m\u001b[0;34m)\u001b[0m    \u001b[0;31m# I call the function with zero arguments\u001b[0m\u001b[0;34m\u001b[0m\u001b[0;34m\u001b[0m\u001b[0m\n\u001b[0m",
      "\u001b[0;31mTypeError\u001b[0m: mysum() missing 1 required positional argument: 'numbers'"
     ]
    }
   ],
   "source": [
    "mysum()    # I call the function with zero arguments"
   ]
  },
  {
   "cell_type": "code",
   "execution_count": null,
   "metadata": {},
   "outputs": [],
   "source": [
    "(1,2,3) # tuple\n",
    "(1,2)   # tuple\n",
    "(1)     # integer\n",
    "(1,)    # tuple with 1 element!\n",
    "()      # tuple with 0 elements"
   ]
  },
  {
   "cell_type": "code",
   "execution_count": 47,
   "metadata": {},
   "outputs": [
    {
     "name": "stdout",
     "output_type": "stream",
     "text": [
      "1\n"
     ]
    }
   ],
   "source": [
    "mysum((1,))   # this won't work because of tuple syntax weirdness"
   ]
  },
  {
   "cell_type": "code",
   "execution_count": 48,
   "metadata": {},
   "outputs": [
    {
     "name": "stdout",
     "output_type": "stream",
     "text": [
      "Hello world. Lets start coding...\n",
      "enter: 10 20 30\n",
      "You entered 10\n",
      "You entered 20\n",
      "You entered 30\n",
      "Sum is: 60\n",
      "Execution is finished...\n"
     ]
    }
   ],
   "source": [
    "print(\"Hello world. Lets start coding...\")\n",
    "\n",
    "def mysum(arg1):\n",
    "    inp = arg1.split()  # take the string, arg1, and turn it into a list of strings\n",
    "    for i in range (3): # \n",
    "        print(f'You entered {inp[i]}')\n",
    "    out = int(inp[0]) + int(inp[1]) + int(inp[2])\n",
    "    print(f'Sum is: {out}')\n",
    "    \n",
    "mysum(input(f'enter: '))\n",
    "print (\"Execution is finished...\")"
   ]
  },
  {
   "cell_type": "code",
   "execution_count": 49,
   "metadata": {},
   "outputs": [],
   "source": [
    "# a function's parameters are directly in the (), and separated by ,\n",
    "\n",
    "def mysum(numbers):  \n",
    "    result = 0\n",
    "    \n",
    "    for one_number in numbers:\n",
    "        result += one_number\n",
    "        \n",
    "    print(result)"
   ]
  },
  {
   "cell_type": "code",
   "execution_count": 50,
   "metadata": {},
   "outputs": [
    {
     "data": {
      "text/plain": [
       "40"
      ]
     },
     "execution_count": 50,
     "metadata": {},
     "output_type": "execute_result"
    }
   ],
   "source": [
    "mylist = [10, 20, 30, 40, 50]\n",
    "\n",
    "mylist[3]  # I'm applying [3] to mylist... lists are \"subscriptable\" -- we can use [] on them"
   ]
  },
  {
   "cell_type": "code",
   "execution_count": 51,
   "metadata": {},
   "outputs": [
    {
     "ename": "TypeError",
     "evalue": "'function' object is not subscriptable",
     "output_type": "error",
     "traceback": [
      "\u001b[0;31m---------------------------------------------------------------------------\u001b[0m",
      "\u001b[0;31mTypeError\u001b[0m                                 Traceback (most recent call last)",
      "\u001b[0;32m<ipython-input-51-2ecce6d5001b>\u001b[0m in \u001b[0;36m<module>\u001b[0;34m\u001b[0m\n\u001b[0;32m----> 1\u001b[0;31m \u001b[0mmysum\u001b[0m\u001b[0;34m[\u001b[0m\u001b[0;36m3\u001b[0m\u001b[0;34m]\u001b[0m   \u001b[0;31m# here, I'm trying to get [3] from a function object?!??\u001b[0m\u001b[0;34m\u001b[0m\u001b[0;34m\u001b[0m\u001b[0m\n\u001b[0m",
      "\u001b[0;31mTypeError\u001b[0m: 'function' object is not subscriptable"
     ]
    }
   ],
   "source": [
    "mysum[3]   # here, I'm trying to get [3] from a function object?!??"
   ]
  },
  {
   "cell_type": "code",
   "execution_count": 53,
   "metadata": {},
   "outputs": [
    {
     "name": "stdout",
     "output_type": "stream",
     "text": [
      "12\n"
     ]
    }
   ],
   "source": [
    "# Use round parentheses to invoke a function\n",
    "\n",
    "mysum(   [3,4,5]   )"
   ]
  },
  {
   "cell_type": "markdown",
   "metadata": {},
   "source": [
    "# So far\n",
    "\n",
    "- We're able to define functions\n",
    "- Our functions can take arguments\n",
    "- Our function parameters can be used in loops, etc.\n",
    "\n",
    "# Next up\n",
    "- Return values vs. printing\n",
    "- More sophisticated parameter types"
   ]
  },
  {
   "cell_type": "code",
   "execution_count": 54,
   "metadata": {},
   "outputs": [
    {
     "name": "stdout",
     "output_type": "stream",
     "text": [
      "friendly_traceback 0.4.5; friendly 0.4.6.\n",
      "Type 'Friendly' for information.\n"
     ]
    }
   ],
   "source": [
    "# you first have to install friendly on your computer for this to work!\n",
    "\n",
    "from friendly import jupyter"
   ]
  },
  {
   "cell_type": "code",
   "execution_count": 55,
   "metadata": {},
   "outputs": [
    {
     "data": {
      "text/html": [
       "<div id='friendly-message1'><pre style=\"white-space:pre;overflow-x:auto;line-height:normal;font-family:Menlo,'DejaVu Sans Mono',consolas,'Courier New',monospace\"><span style=\"color: #dd0000; text-decoration-color: #dd0000; background-color: #ffffff\">TypeError</span>: 'function' object is not subscriptable                                            \n",
       "</pre>\n",
       "</div>"
      ],
      "text/plain": [
       "\u001b[38;2;221;0;0;48;2;255;255;255mTypeError\u001b[0m: 'function' object is not subscriptable                                            \n"
      ]
     },
     "metadata": {},
     "output_type": "display_data"
    },
    {
     "data": {
      "text/html": [
       "\n",
       "        <button id='friendly-tb-btn-show1' onclick='friendly_toggle_more1()' style=''>\n",
       "        More ...\n",
       "        </button>\n",
       "        <script> function friendly_toggle_more1(){\n",
       "        var btn = document.getElementById('friendly-tb-btn-show1');\n",
       "        var btn_what = document.getElementById('friendly-tb-btn-show-what1');\n",
       "        var btn_where = document.getElementById('friendly-tb-btn-show-where1');\n",
       "        var btn_why = document.getElementById('friendly-tb-btn-show-why1');\n",
       "        var message = document.getElementById('friendly-message1');\n",
       "        var friendly_tb_content = document.getElementById('friendly-tb-friendly_tb-content1');\n",
       "        var what_content = document.getElementById('friendly-tb-what-content1');\n",
       "        var why_content = document.getElementById('friendly-tb-why-content1');\n",
       "        var where_content = document.getElementById('friendly-tb-where-content1');\n",
       "\n",
       "        if (btn_what.style.display == 'none'){\n",
       "            message.style.display = 'none';\n",
       "            btn_what.style.display = 'block';\n",
       "            btn_why.style.display = 'block';\n",
       "            btn_where.style.display = 'block';\n",
       "            friendly_tb_content.style.display = 'block';\n",
       "            btn.textContent = \"Show message only\";\n",
       "        } else {\n",
       "            btn_what.style.display = 'none';\n",
       "            btn_what.textContent = 'what()';\n",
       "            btn_why.style.display = 'none';\n",
       "            btn_why.textContent = 'why()';\n",
       "            btn_where.style.display = 'none';\n",
       "            btn_where.textContent = 'where()';\n",
       "            what_content.style.display = 'none';\n",
       "            why_content.style.display = 'none';\n",
       "            where_content.style.display = 'none';\n",
       "            friendly_tb_content.style.display = 'none';\n",
       "            message.style.display = 'block';\n",
       "            btn.textContent = \"More ...\";\n",
       "        }\n",
       "        };\n",
       "        </script>\n",
       "        "
      ]
     },
     "metadata": {},
     "output_type": "display_data"
    },
    {
     "data": {
      "text/html": [
       "<div id='friendly-tb-friendly_tb-content1' style='display:none'><pre style=\"white-space:pre;overflow-x:auto;line-height:normal;font-family:Menlo,'DejaVu Sans Mono',consolas,'Courier New',monospace\"><span style=\"color: #dd0000; text-decoration-color: #dd0000; background-color: #ffffff\">Traceback (most recent call last):</span><span style=\"background-color: #ffffff\">                                                           </span>\n",
       "<span style=\"color: #101010; text-decoration-color: #101010; background-color: #ffffff\">  Code block </span><span style=\"color: #783114; text-decoration-color: #783114; background-color: #ffffff\">[</span><span style=\"color: #101010; text-decoration-color: #101010; background-color: #ffffff\">55</span><span style=\"color: #783114; text-decoration-color: #783114; background-color: #ffffff\">]</span><span style=\"color: #101010; text-decoration-color: #101010; background-color: #ffffff\">, line 1, in </span><span style=\"color: #0011aa; text-decoration-color: #0011aa; background-color: #ffffff\">&lt;module&gt;</span><span style=\"background-color: #ffffff\">                                                       </span>\n",
       "<span style=\"color: #101010; text-decoration-color: #101010; background-color: #ffffff\">    </span><span style=\"color: #0011aa; text-decoration-color: #0011aa; background-color: #ffffff\">mysum</span><span style=\"color: #783114; text-decoration-color: #783114; background-color: #ffffff\">[</span><span style=\"color: #101010; text-decoration-color: #101010; background-color: #ffffff\">3</span><span style=\"color: #783114; text-decoration-color: #783114; background-color: #ffffff\">]</span><span style=\"background-color: #ffffff\">                                                                                 </span>\n",
       "<span style=\"color: #dd0000; text-decoration-color: #dd0000; background-color: #ffffff\">TypeError</span><span style=\"color: #101010; text-decoration-color: #101010; background-color: #ffffff\">: </span><span style=\"color: #0011aa; text-decoration-color: #0011aa; background-color: #ffffff\">'function' object is not subscriptable</span><span style=\"background-color: #ffffff\">                                            </span>\n",
       "\n",
       "Did you mean <span style=\"color: #0011aa; text-decoration-color: #0011aa; background-color: #ffffff\">mysum</span><span style=\"color: #783114; text-decoration-color: #783114; background-color: #ffffff\">(</span><span style=\"color: #101010; text-decoration-color: #101010; background-color: #ffffff\">3</span><span style=\"color: #783114; text-decoration-color: #783114; background-color: #ffffff\">)</span>?                                                                       \n",
       "</pre>\n",
       "</div>"
      ],
      "text/plain": [
       "\u001b[38;2;221;0;0;48;2;255;255;255mTraceback (most recent call last):\u001b[0m\u001b[48;2;255;255;255m                                                           \u001b[0m\n",
       "\u001b[38;2;16;16;16;48;2;255;255;255m  Code block \u001b[0m\u001b[38;2;120;49;20;48;2;255;255;255m[\u001b[0m\u001b[38;2;16;16;16;48;2;255;255;255m55\u001b[0m\u001b[38;2;120;49;20;48;2;255;255;255m]\u001b[0m\u001b[38;2;16;16;16;48;2;255;255;255m, line \u001b[0m\u001b[38;2;16;16;16;48;2;255;255;255m1\u001b[0m\u001b[38;2;16;16;16;48;2;255;255;255m, in \u001b[0m\u001b[38;2;0;17;170;48;2;255;255;255m<module>\u001b[0m\u001b[48;2;255;255;255m                                                       \u001b[0m\n",
       "\u001b[38;2;16;16;16;48;2;255;255;255m    \u001b[0m\u001b[38;2;0;17;170;48;2;255;255;255mmysum\u001b[0m\u001b[38;2;120;49;20;48;2;255;255;255m[\u001b[0m\u001b[38;2;16;16;16;48;2;255;255;255m3\u001b[0m\u001b[38;2;120;49;20;48;2;255;255;255m]\u001b[0m\u001b[48;2;255;255;255m                                                                                 \u001b[0m\n",
       "\u001b[38;2;221;0;0;48;2;255;255;255mTypeError\u001b[0m\u001b[38;2;16;16;16;48;2;255;255;255m: \u001b[0m\u001b[38;2;0;17;170;48;2;255;255;255m'function' object is not subscriptable\u001b[0m\u001b[48;2;255;255;255m                                            \u001b[0m\n",
       "\n",
       "Did you mean \u001b[38;2;0;17;170;48;2;255;255;255mmysum\u001b[0m\u001b[38;2;120;49;20;48;2;255;255;255m(\u001b[0m\u001b[38;2;16;16;16;48;2;255;255;255m3\u001b[0m\u001b[38;2;120;49;20;48;2;255;255;255m)\u001b[0m?                                                                       \n"
      ]
     },
     "metadata": {},
     "output_type": "display_data"
    },
    {
     "data": {
      "text/html": [
       "<script> function toggle_what1(){\n",
       "     var content = document.getElementById('friendly-tb-what-content1');\n",
       "     var btn = document.getElementById('friendly-tb-btn-show-what1');\n",
       "        if (content.style.display === 'none') {\n",
       "            content.style.display = 'block';\n",
       "            btn.textContent = \"Hide what()\";\n",
       "        } else {\n",
       "            content.style.display = 'none';\n",
       "            btn.textContent = \"what()\";\n",
       "       }\n",
       "    }\n",
       "     </script>\n",
       "     <button id='friendly-tb-btn-show-what1' onclick='toggle_what1()' style='display:none '>\n",
       "     what()\n",
       "     </button>\n",
       "    "
      ]
     },
     "metadata": {},
     "output_type": "display_data"
    },
    {
     "data": {
      "text/html": [
       "<div id='friendly-tb-what-content1' style='display:none'><pre style=\"white-space:pre;overflow-x:auto;line-height:normal;font-family:Menlo,'DejaVu Sans Mono',consolas,'Courier New',monospace\">A <span style=\"color: #dd0000; text-decoration-color: #dd0000; background-color: #ffffff\">TypeError</span> is usually caused by trying to combine two incompatible types of objects, by     \n",
       "calling a function with the wrong type of object, or by trying to do an operation not allowed\n",
       "on a given type of object.                                                                   \n",
       "</pre>\n",
       "</div>"
      ],
      "text/plain": [
       "A \u001b[38;2;221;0;0;48;2;255;255;255mTypeError\u001b[0m is usually caused by trying to combine two incompatible types of objects, by     \n",
       "calling a function with the wrong type of object, or by trying to do an operation not allowed\n",
       "on a given type of object.                                                                   \n"
      ]
     },
     "metadata": {},
     "output_type": "display_data"
    },
    {
     "data": {
      "text/html": [
       "<script> function toggle_why1(){\n",
       "     var content = document.getElementById('friendly-tb-why-content1');\n",
       "     var btn = document.getElementById('friendly-tb-btn-show-why1');\n",
       "        if (content.style.display === 'none') {\n",
       "            content.style.display = 'block';\n",
       "            btn.textContent = \"Hide why()\";\n",
       "        } else {\n",
       "            content.style.display = 'none';\n",
       "            btn.textContent = \"why()\";\n",
       "       }\n",
       "    }\n",
       "     </script>\n",
       "     <button id='friendly-tb-btn-show-why1' onclick='toggle_why1()' style='display:none '>\n",
       "     why()\n",
       "     </button>\n",
       "    "
      ]
     },
     "metadata": {},
     "output_type": "display_data"
    },
    {
     "data": {
      "text/html": [
       "<div id='friendly-tb-why-content1' style='display:none'><pre style=\"white-space:pre;overflow-x:auto;line-height:normal;font-family:Menlo,'DejaVu Sans Mono',consolas,'Courier New',monospace\">Subscriptable objects are typically containers from which you can retrieve item using the    \n",
       "notation <span style=\"color: #783114; text-decoration-color: #783114; background-color: #ffffff\">[...]</span>.                                                                              \n",
       "\n",
       "Perhaps you meant to write <span style=\"color: #0011aa; text-decoration-color: #0011aa; background-color: #ffffff\">mysum</span><span style=\"color: #783114; text-decoration-color: #783114; background-color: #ffffff\">(</span><span style=\"color: #101010; text-decoration-color: #101010; background-color: #ffffff\">3</span><span style=\"color: #783114; text-decoration-color: #783114; background-color: #ffffff\">)</span>.                                                         \n",
       "</pre>\n",
       "</div>"
      ],
      "text/plain": [
       "Subscriptable objects are typically containers from which you can retrieve item using the    \n",
       "notation \u001b[38;2;120;49;20;48;2;255;255;255m[\u001b[0m\u001b[38;2;120;49;20;48;2;255;255;255m.\u001b[0m\u001b[38;2;120;49;20;48;2;255;255;255m.\u001b[0m\u001b[38;2;120;49;20;48;2;255;255;255m.\u001b[0m\u001b[38;2;120;49;20;48;2;255;255;255m]\u001b[0m.                                                                              \n",
       "\n",
       "Perhaps you meant to write \u001b[38;2;0;17;170;48;2;255;255;255mmysum\u001b[0m\u001b[38;2;120;49;20;48;2;255;255;255m(\u001b[0m\u001b[38;2;16;16;16;48;2;255;255;255m3\u001b[0m\u001b[38;2;120;49;20;48;2;255;255;255m)\u001b[0m.                                                         \n"
      ]
     },
     "metadata": {},
     "output_type": "display_data"
    },
    {
     "data": {
      "text/html": [
       "<script> function toggle_where1(){\n",
       "     var content = document.getElementById('friendly-tb-where-content1');\n",
       "     var btn = document.getElementById('friendly-tb-btn-show-where1');\n",
       "        if (content.style.display === 'none') {\n",
       "            content.style.display = 'block';\n",
       "            btn.textContent = \"Hide where()\";\n",
       "        } else {\n",
       "            content.style.display = 'none';\n",
       "            btn.textContent = \"where()\";\n",
       "       }\n",
       "    }\n",
       "     </script>\n",
       "     <button id='friendly-tb-btn-show-where1' onclick='toggle_where1()' style='display:none '>\n",
       "     where()\n",
       "     </button>\n",
       "    "
      ]
     },
     "metadata": {},
     "output_type": "display_data"
    },
    {
     "data": {
      "text/html": [
       "<div id='friendly-tb-where-content1' style='display:none'><pre style=\"white-space:pre;overflow-x:auto;line-height:normal;font-family:Menlo,'DejaVu Sans Mono',consolas,'Courier New',monospace\"><span style=\"color: #dd0000; text-decoration-color: #dd0000\">Exception raised on line 1 of code block </span><span style=\"color: #783114; text-decoration-color: #783114; background-color: #ffffff\">[</span><span style=\"color: #101010; text-decoration-color: #101010; background-color: #ffffff\">55</span><span style=\"color: #783114; text-decoration-color: #783114; background-color: #ffffff\">]</span><span style=\"color: #dd0000; text-decoration-color: #dd0000\">.</span>                                               \n",
       "\n",
       "<span style=\"color: #101010; text-decoration-color: #101010; background-color: #ffffff\">    </span><span style=\"color: #783114; text-decoration-color: #783114; background-color: #ffffff\">--&gt;</span><span style=\"color: #101010; text-decoration-color: #101010; background-color: #ffffff\">1</span><span style=\"color: #783114; text-decoration-color: #783114; background-color: #ffffff\">:</span><span style=\"color: #101010; text-decoration-color: #101010; background-color: #ffffff\"> </span><span style=\"color: #0011aa; text-decoration-color: #0011aa; background-color: #ffffff\">mysum</span><span style=\"color: #783114; text-decoration-color: #783114; background-color: #ffffff\">[</span><span style=\"color: #101010; text-decoration-color: #101010; background-color: #ffffff\">3</span><span style=\"color: #783114; text-decoration-color: #783114; background-color: #ffffff\">]</span><span style=\"background-color: #ffffff\">                                                                           </span>\n",
       "\n",
       "<span style=\"color: #101010; text-decoration-color: #101010; background-color: #ffffff\">    </span><span style=\"color: #0011aa; text-decoration-color: #0011aa; background-color: #ffffff\">mysum</span><span style=\"color: #783114; text-decoration-color: #783114; background-color: #ffffff\">:</span><span style=\"color: #101010; text-decoration-color: #101010; background-color: #ffffff\">  </span><span style=\"color: #783114; text-decoration-color: #783114; background-color: #ffffff\">&lt;</span><span style=\"color: #0011aa; text-decoration-color: #0011aa; background-color: #ffffff\">function</span><span style=\"color: #101010; text-decoration-color: #101010; background-color: #ffffff\"> </span><span style=\"color: #0011aa; text-decoration-color: #0011aa; background-color: #ffffff\">mysum</span><span style=\"color: #783114; text-decoration-color: #783114; background-color: #ffffff\">&gt;</span><span style=\"background-color: #ffffff\">                                                                 </span>\n",
       "</pre>\n",
       "</div>"
      ],
      "text/plain": [
       "\u001b[38;2;221;0;0mException raised on line 1 of code block \u001b[0m\u001b[38;2;120;49;20;48;2;255;255;255m[\u001b[0m\u001b[38;2;16;16;16;48;2;255;255;255m55\u001b[0m\u001b[38;2;120;49;20;48;2;255;255;255m]\u001b[0m\u001b[38;2;221;0;0m.\u001b[0m                                               \n",
       "\n",
       "\u001b[38;2;16;16;16;48;2;255;255;255m    \u001b[0m\u001b[38;2;120;49;20;48;2;255;255;255m-\u001b[0m\u001b[38;2;120;49;20;48;2;255;255;255m-\u001b[0m\u001b[38;2;120;49;20;48;2;255;255;255m>\u001b[0m\u001b[38;2;16;16;16;48;2;255;255;255m1\u001b[0m\u001b[38;2;120;49;20;48;2;255;255;255m:\u001b[0m\u001b[38;2;16;16;16;48;2;255;255;255m \u001b[0m\u001b[38;2;0;17;170;48;2;255;255;255mmysum\u001b[0m\u001b[38;2;120;49;20;48;2;255;255;255m[\u001b[0m\u001b[38;2;16;16;16;48;2;255;255;255m3\u001b[0m\u001b[38;2;120;49;20;48;2;255;255;255m]\u001b[0m\u001b[48;2;255;255;255m                                                                           \u001b[0m\n",
       "\n",
       "\u001b[38;2;16;16;16;48;2;255;255;255m    \u001b[0m\u001b[38;2;0;17;170;48;2;255;255;255mmysum\u001b[0m\u001b[38;2;120;49;20;48;2;255;255;255m:\u001b[0m\u001b[38;2;16;16;16;48;2;255;255;255m  \u001b[0m\u001b[38;2;120;49;20;48;2;255;255;255m<\u001b[0m\u001b[38;2;0;17;170;48;2;255;255;255mfunction\u001b[0m\u001b[38;2;16;16;16;48;2;255;255;255m \u001b[0m\u001b[38;2;0;17;170;48;2;255;255;255mmysum\u001b[0m\u001b[38;2;120;49;20;48;2;255;255;255m>\u001b[0m\u001b[48;2;255;255;255m                                                                 \u001b[0m\n"
      ]
     },
     "metadata": {},
     "output_type": "display_data"
    }
   ],
   "source": [
    "mysum[3]"
   ]
  },
  {
   "cell_type": "code",
   "execution_count": null,
   "metadata": {},
   "outputs": [],
   "source": []
  }
 ],
 "metadata": {
  "kernelspec": {
   "display_name": "Python 3",
   "language": "python",
   "name": "python3"
  },
  "language_info": {
   "codemirror_mode": {
    "name": "ipython",
    "version": 3
   },
   "file_extension": ".py",
   "mimetype": "text/x-python",
   "name": "python",
   "nbconvert_exporter": "python",
   "pygments_lexer": "ipython3",
   "version": "3.9.6"
  }
 },
 "nbformat": 4,
 "nbformat_minor": 4
}
