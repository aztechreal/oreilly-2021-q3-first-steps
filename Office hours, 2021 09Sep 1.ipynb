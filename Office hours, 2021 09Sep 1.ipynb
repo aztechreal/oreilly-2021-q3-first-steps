{
 "cells": [
  {
   "cell_type": "markdown",
   "metadata": {},
   "source": [
    "# Welcome!"
   ]
  },
  {
   "cell_type": "markdown",
   "metadata": {},
   "source": [
    "What is the difference between pd.read_csv and the with `open(file_to_open, ‘r’)` as this_csv_file (pandas vs non-pandas - when would you use one method vs another)?"
   ]
  },
  {
   "cell_type": "code",
   "execution_count": 1,
   "metadata": {},
   "outputs": [],
   "source": [
    "# CSV files -- comma-separated values"
   ]
  },
  {
   "cell_type": "code",
   "execution_count": 2,
   "metadata": {},
   "outputs": [],
   "source": [
    "s = '''abcd,efg,hijk\n",
    "lm,nopqr,st\n",
    "uv,wx,yz\n",
    "'''\n",
    "\n",
    "with open('mydata.csv', 'w') as outfile:\n",
    "    outfile.write(s)"
   ]
  },
  {
   "cell_type": "code",
   "execution_count": 3,
   "metadata": {},
   "outputs": [
    {
     "name": "stdout",
     "output_type": "stream",
     "text": [
      "abcd,efg,hijk\r\n",
      "lm,nopqr,st\r\n",
      "uv,wx,yz\r\n"
     ]
    }
   ],
   "source": [
    "!cat mydata.csv"
   ]
  },
  {
   "cell_type": "code",
   "execution_count": 4,
   "metadata": {},
   "outputs": [
    {
     "name": "stdout",
     "output_type": "stream",
     "text": [
      "['abcd', 'efg', 'hijk']\n",
      "['lm', 'nopqr', 'st']\n",
      "['uv', 'wx', 'yz']\n"
     ]
    }
   ],
   "source": [
    "# to read a CSV file into Python, we can (a) open the file normally and (b) use csv.reader to read from it\n",
    "\n",
    "import csv\n",
    "\n",
    "with open('mydata.csv', 'r') as infile:\n",
    "    r = csv.reader(infile)\n",
    "    for one_record in r:\n",
    "        print(one_record)\n",
    "    "
   ]
  },
  {
   "cell_type": "code",
   "execution_count": null,
   "metadata": {},
   "outputs": [],
   "source": []
  }
 ],
 "metadata": {
  "kernelspec": {
   "display_name": "Python 3",
   "language": "python",
   "name": "python3"
  },
  "language_info": {
   "codemirror_mode": {
    "name": "ipython",
    "version": 3
   },
   "file_extension": ".py",
   "mimetype": "text/x-python",
   "name": "python",
   "nbconvert_exporter": "python",
   "pygments_lexer": "ipython3",
   "version": "3.9.6"
  }
 },
 "nbformat": 4,
 "nbformat_minor": 4
}
