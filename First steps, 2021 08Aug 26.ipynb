{
 "cells": [
  {
   "cell_type": "markdown",
   "metadata": {},
   "source": [
    "# Week 3: Dictionaries and files"
   ]
  },
  {
   "cell_type": "code",
   "execution_count": 1,
   "metadata": {},
   "outputs": [
    {
     "name": "stdout",
     "output_type": "stream",
     "text": [
      "Hello!\n"
     ]
    }
   ],
   "source": [
    "print('Hello!')"
   ]
  },
  {
   "cell_type": "code",
   "execution_count": 2,
   "metadata": {},
   "outputs": [],
   "source": [
    "# to create executable Python programs, you can use Pyinstaller\n",
    "# go to https://pyinstaller.org/ for more details"
   ]
  },
  {
   "cell_type": "code",
   "execution_count": 3,
   "metadata": {},
   "outputs": [
    {
     "data": {
      "text/plain": [
       "tuple"
      ]
     },
     "execution_count": 3,
     "metadata": {},
     "output_type": "execute_result"
    }
   ],
   "source": [
    "# we talked a bit at the end about tuples\n",
    "# tuples are basically immutable lists\n",
    "\n",
    "t = (10, 20, 30, 40, 50)\n",
    "type(t)"
   ]
  },
  {
   "cell_type": "code",
   "execution_count": 5,
   "metadata": {},
   "outputs": [
    {
     "data": {
      "text/plain": [
       "tuple"
      ]
     },
     "execution_count": 5,
     "metadata": {},
     "output_type": "execute_result"
    }
   ],
   "source": [
    "# no parentheses needed for tuples!  The comma is the most important thing\n",
    "t = 10, 20, 30, 40, 50\n",
    "type(t)"
   ]
  },
  {
   "cell_type": "code",
   "execution_count": 6,
   "metadata": {},
   "outputs": [
    {
     "data": {
      "text/plain": [
       "[10, 20, 30]"
      ]
     },
     "execution_count": 6,
     "metadata": {},
     "output_type": "execute_result"
    }
   ],
   "source": [
    "mylist = [10, 20, 30]\n",
    "x = mylist\n",
    "\n",
    "x  # it'll be [10, 20, 30], of course"
   ]
  },
  {
   "cell_type": "code",
   "execution_count": 7,
   "metadata": {},
   "outputs": [],
   "source": [
    "x,y,z = mylist"
   ]
  },
  {
   "cell_type": "code",
   "execution_count": 8,
   "metadata": {},
   "outputs": [
    {
     "data": {
      "text/plain": [
       "10"
      ]
     },
     "execution_count": 8,
     "metadata": {},
     "output_type": "execute_result"
    }
   ],
   "source": [
    "x"
   ]
  },
  {
   "cell_type": "code",
   "execution_count": 9,
   "metadata": {},
   "outputs": [
    {
     "data": {
      "text/plain": [
       "20"
      ]
     },
     "execution_count": 9,
     "metadata": {},
     "output_type": "execute_result"
    }
   ],
   "source": [
    "y"
   ]
  },
  {
   "cell_type": "code",
   "execution_count": 10,
   "metadata": {},
   "outputs": [
    {
     "data": {
      "text/plain": [
       "30"
      ]
     },
     "execution_count": 10,
     "metadata": {},
     "output_type": "execute_result"
    }
   ],
   "source": [
    "z"
   ]
  },
  {
   "cell_type": "code",
   "execution_count": 11,
   "metadata": {},
   "outputs": [
    {
     "data": {
      "text/plain": [
       "'a'"
      ]
     },
     "execution_count": 11,
     "metadata": {},
     "output_type": "execute_result"
    }
   ],
   "source": [
    "# this is known as \"tuple unpacking,\" because the variables on the left\n",
    "# are in a tuple\n",
    "\n",
    "# so long as the data on the right is iterable (i.e., can run in a for loop)\n",
    "# and so long as the number of elements on the right == number of variables on the left\n",
    "# then we're OK!\n",
    "\n",
    "x,y,z = 'abc'\n",
    "\n",
    "x"
   ]
  },
  {
   "cell_type": "code",
   "execution_count": 12,
   "metadata": {},
   "outputs": [
    {
     "data": {
      "text/plain": [
       "'b'"
      ]
     },
     "execution_count": 12,
     "metadata": {},
     "output_type": "execute_result"
    }
   ],
   "source": [
    "y"
   ]
  },
  {
   "cell_type": "code",
   "execution_count": 13,
   "metadata": {},
   "outputs": [
    {
     "data": {
      "text/plain": [
       "'c'"
      ]
     },
     "execution_count": 13,
     "metadata": {},
     "output_type": "execute_result"
    }
   ],
   "source": [
    "z"
   ]
  },
  {
   "cell_type": "code",
   "execution_count": 14,
   "metadata": {},
   "outputs": [],
   "source": [
    "person = ('Reuven', 'Lerner', 46)\n",
    "\n",
    "# this is a tuple describing a person's information (first, last, shoe_size)"
   ]
  },
  {
   "cell_type": "code",
   "execution_count": 15,
   "metadata": {},
   "outputs": [],
   "source": [
    "first_name, last_name, shoe_size = person"
   ]
  },
  {
   "cell_type": "code",
   "execution_count": 16,
   "metadata": {},
   "outputs": [
    {
     "data": {
      "text/plain": [
       "'Reuven'"
      ]
     },
     "execution_count": 16,
     "metadata": {},
     "output_type": "execute_result"
    }
   ],
   "source": [
    "first_name"
   ]
  },
  {
   "cell_type": "code",
   "execution_count": 17,
   "metadata": {},
   "outputs": [
    {
     "data": {
      "text/plain": [
       "'Lerner'"
      ]
     },
     "execution_count": 17,
     "metadata": {},
     "output_type": "execute_result"
    }
   ],
   "source": [
    "last_name"
   ]
  },
  {
   "cell_type": "code",
   "execution_count": 18,
   "metadata": {},
   "outputs": [
    {
     "data": {
      "text/plain": [
       "46"
      ]
     },
     "execution_count": 18,
     "metadata": {},
     "output_type": "execute_result"
    }
   ],
   "source": [
    "shoe_size"
   ]
  },
  {
   "cell_type": "code",
   "execution_count": 20,
   "metadata": {},
   "outputs": [],
   "source": [
    "x = 222   # x is an integer, 222\n",
    "y = 444   # y is an integer, 444\n",
    "\n",
    "# (1) in assignment, right side before left side\n",
    "# (2) on the right, we're creating a new tuple from (y,x)\n",
    "# (3) on the left, we're using unpacking to grab two values and assign them to x and y\n",
    "# (4) it's a complete coincidence that x,y is on the left and y,x is on the right\n",
    "# The effect?  We have swapped the variables' values\n",
    "\n",
    "x,y = y,x"
   ]
  },
  {
   "cell_type": "code",
   "execution_count": 21,
   "metadata": {},
   "outputs": [
    {
     "data": {
      "text/plain": [
       "444"
      ]
     },
     "execution_count": 21,
     "metadata": {},
     "output_type": "execute_result"
    }
   ],
   "source": [
    "x"
   ]
  },
  {
   "cell_type": "code",
   "execution_count": 22,
   "metadata": {},
   "outputs": [
    {
     "data": {
      "text/plain": [
       "222"
      ]
     },
     "execution_count": 22,
     "metadata": {},
     "output_type": "execute_result"
    }
   ],
   "source": [
    "y"
   ]
  },
  {
   "cell_type": "markdown",
   "metadata": {},
   "source": [
    "# Dictionaries\n",
    "\n",
    "Dictionaries (aka \"dicts\" in Python) are not unique to Python.  They have other names in other languages:\n",
    "\n",
    "- Associative arrays\n",
    "- Hash tables\n",
    "- Hash maps\n",
    "- Hashes\n",
    "- Key value pairs\n",
    "- Name value pairs\n",
    "\n",
    "And some other names, too...\n",
    "\n",
    "Dicts give us a combination of benefits."
   ]
  },
  {
   "cell_type": "code",
   "execution_count": 24,
   "metadata": {},
   "outputs": [],
   "source": [
    "# define a new dictionary using {}  (curly braces)\n",
    "# a dict always has pairs of data -- key-value pairs, \n",
    "\n",
    "# (1) use curly braces\n",
    "# (2) the pairs are separated by commas\n",
    "# (3) the keys and values are separated by colons\n",
    "# (4) you can use any type (more or less) for keys and values\n",
    "#   values can be ABSOLUTELY ANYTHING AT ALL -- strings, lists, dicts, etc.\n",
    "\n",
    "d = {'a':1, 'b':2, 'c':3}"
   ]
  },
  {
   "cell_type": "code",
   "execution_count": 25,
   "metadata": {},
   "outputs": [
    {
     "data": {
      "text/plain": [
       "1"
      ]
     },
     "execution_count": 25,
     "metadata": {},
     "output_type": "execute_result"
    }
   ],
   "source": [
    "# to retrieve from a dict, we use [] and the key\n",
    "d['a']"
   ]
  },
  {
   "cell_type": "code",
   "execution_count": 26,
   "metadata": {},
   "outputs": [
    {
     "data": {
      "text/plain": [
       "2"
      ]
     },
     "execution_count": 26,
     "metadata": {},
     "output_type": "execute_result"
    }
   ],
   "source": [
    "d['b']"
   ]
  },
  {
   "cell_type": "code",
   "execution_count": 27,
   "metadata": {},
   "outputs": [
    {
     "data": {
      "text/plain": [
       "3"
      ]
     },
     "execution_count": 27,
     "metadata": {},
     "output_type": "execute_result"
    }
   ],
   "source": [
    "d['c']"
   ]
  },
  {
   "cell_type": "code",
   "execution_count": 29,
   "metadata": {},
   "outputs": [
    {
     "ename": "KeyError",
     "evalue": "'x'",
     "output_type": "error",
     "traceback": [
      "\u001b[0;31m---------------------------------------------------------------------------\u001b[0m",
      "\u001b[0;31mKeyError\u001b[0m                                  Traceback (most recent call last)",
      "\u001b[0;32m<ipython-input-29-b6bef55424fe>\u001b[0m in \u001b[0;36m<module>\u001b[0;34m\u001b[0m\n\u001b[0;32m----> 1\u001b[0;31m \u001b[0md\u001b[0m\u001b[0;34m[\u001b[0m\u001b[0;34m'x'\u001b[0m\u001b[0;34m]\u001b[0m  \u001b[0;31m# the key 'x' does not exist, so we get an error\u001b[0m\u001b[0;34m\u001b[0m\u001b[0;34m\u001b[0m\u001b[0m\n\u001b[0m",
      "\u001b[0;31mKeyError\u001b[0m: 'x'"
     ]
    }
   ],
   "source": [
    "d['x']  # the key 'x' does not exist, so we get an error"
   ]
  },
  {
   "cell_type": "code",
   "execution_count": 30,
   "metadata": {},
   "outputs": [],
   "source": [
    "# what if I want to find out if a key exists in a dict?\n",
    "# I can use the \"in\" operator\n",
    "# \"in\" *ONLY* looks in the keys!  It never looks at the values!"
   ]
  },
  {
   "cell_type": "code",
   "execution_count": 31,
   "metadata": {},
   "outputs": [
    {
     "data": {
      "text/plain": [
       "True"
      ]
     },
     "execution_count": 31,
     "metadata": {},
     "output_type": "execute_result"
    }
   ],
   "source": [
    "'a' in d"
   ]
  },
  {
   "cell_type": "code",
   "execution_count": 32,
   "metadata": {},
   "outputs": [
    {
     "data": {
      "text/plain": [
       "False"
      ]
     },
     "execution_count": 32,
     "metadata": {},
     "output_type": "execute_result"
    }
   ],
   "source": [
    "'x' in d"
   ]
  },
  {
   "cell_type": "code",
   "execution_count": 33,
   "metadata": {},
   "outputs": [
    {
     "data": {
      "text/plain": [
       "False"
      ]
     },
     "execution_count": 33,
     "metadata": {},
     "output_type": "execute_result"
    }
   ],
   "source": [
    "1 in d"
   ]
  },
  {
   "cell_type": "code",
   "execution_count": 34,
   "metadata": {},
   "outputs": [
    {
     "data": {
      "text/plain": [
       "{'a': 3, 'b': 4}"
      ]
     },
     "execution_count": 34,
     "metadata": {},
     "output_type": "execute_result"
    }
   ],
   "source": [
    "# Keys must be unique.  If you try to create a dict with a key \n",
    "# that repeats, Python will enforce the uniqueness.\n",
    "\n",
    "# there is no restriction on the values, and how often they repeat\n",
    "\n",
    "d = {'a':1, 'b':2, 'a':3, 'b':4}\n",
    "d"
   ]
  },
  {
   "cell_type": "code",
   "execution_count": 35,
   "metadata": {},
   "outputs": [],
   "source": [
    "# the keys of a dict can be any IMMUTABLE type -- strings, ints, floats, even tuples\n",
    "# but *not* lists or dicts"
   ]
  },
  {
   "cell_type": "code",
   "execution_count": 36,
   "metadata": {},
   "outputs": [],
   "source": [
    "# a list or tuple can contain anything, but its indexes are always going to be\n",
    "# integers, starting at 0\n",
    "\n",
    "# a dict's keys can be any ints, or any string, giving us more semantic power\n",
    "# -- our data structure can feel more human"
   ]
  },
  {
   "cell_type": "markdown",
   "metadata": {},
   "source": [
    "# Summary of dicts, so far\n",
    "\n",
    "- We create a dict with `{}`, and key-value pairs inside of the `{}`\n",
    "- Pairs are separated with commas\n",
    "- Keys and values are separated by `:`\n",
    "- Keys must be immutable (strings, ints, floats, tuples)\n",
    "- Keys are unique -- only once in each dict\n",
    "- Values can be absolutely anything at all, of any type, and can repeat\n",
    "- Search for a key in a dict with `in`: `k in d`\n",
    "- Retrieve from a dict with `[]`\n",
    "- Every key must have a value, and every value must have a key.\n",
    "\n",
    "- You can use variables, as well:\n"
   ]
  },
  {
   "cell_type": "code",
   "execution_count": 37,
   "metadata": {},
   "outputs": [
    {
     "data": {
      "text/plain": [
       "1"
      ]
     },
     "execution_count": 37,
     "metadata": {},
     "output_type": "execute_result"
    }
   ],
   "source": [
    "d = {'a':1, 'b':2, 'c':3}\n",
    "k = 'a'\n",
    "d[k]   # this will retrieve d['a'], because the variable k contains 'a'"
   ]
  },
  {
   "cell_type": "markdown",
   "metadata": {},
   "source": [
    "# Exercise: Restaurant\n",
    "\n",
    "1. Define a variable, `total`, to be 0.\n",
    "2. Define a variable, `menu`, to be a dict. The keys in the dict will be the items on the menu, and the values will be the prices.\n",
    "3. Ask the user, repeatedly, to enter their order.\n",
    "    - If they enter an empty string, stop looping and print the total\n",
    "    - If they enter a string, and that item is on the menu, then print the price, the new total, and ask again\n",
    "    - If they enter a string, and that item is *not* on the menu, then scold them, and ask again\n",
    "4. Print the final total.\n",
    "\n",
    "Example:\n",
    "\n",
    "    Order: sandwich\n",
    "    sandwich costs 10, total is 10\n",
    "    Order: tea\n",
    "    tea costs 5, total is 15\n",
    "    Order: elephant\n",
    "    We are fresh out of elephant today!\n",
    "    Order: [ENTER]\n",
    "    Total is 15\n",
    "    \n",
    "### Hints and reminders\n",
    "- Use a `while True` loop to loop infinitely\n",
    "- Check if the user entered an empty string, and then `break` from the loop\n"
   ]
  },
  {
   "cell_type": "code",
   "execution_count": 38,
   "metadata": {},
   "outputs": [
    {
     "name": "stdout",
     "output_type": "stream",
     "text": [
      "Order: sandwich\n",
      "sandwich costs 10; total is now 10\n",
      "Order: tea\n",
      "tea costs 5; total is now 15\n",
      "Order: apple\n",
      "apple costs 2; total is now 17\n",
      "Order: banana\n",
      "Sorry, we are out of banana today!\n",
      "Order: \n",
      "Total is 17.\n"
     ]
    }
   ],
   "source": [
    "total = 0\n",
    "menu = {'sandwich':10, 'tea':5, 'cake':3, 'apple':2}\n",
    "\n",
    "while True:\n",
    "    order = input('Order: ').strip()  # get input, remove surrounding whitespace\n",
    "    \n",
    "    if order == '':      # did we get nothing at all? break from the \"while\" loop\n",
    "        break\n",
    "        \n",
    "    if order in menu:        # is the user's input a key in our \"menu\" dict?\n",
    "        price = menu[order]  # retrieve the price of the user's order\n",
    "        total += price       # add price to total\n",
    "        print(f'{order} costs {price}; total is now {total}')\n",
    "    else:\n",
    "        print(f'Sorry, we are out of {order} today!')\n",
    "        \n",
    "print(f'Total is {total}.')"
   ]
  },
  {
   "cell_type": "code",
   "execution_count": 39,
   "metadata": {},
   "outputs": [
    {
     "data": {
      "text/plain": [
       "{'a': 1}"
      ]
     },
     "execution_count": 39,
     "metadata": {},
     "output_type": "execute_result"
    }
   ],
   "source": [
    "# can we modify dictionaries?\n",
    "# that is: are they mutable?\n",
    "\n",
    "# YES WE CAN!\n",
    "\n",
    "d = {}     # empty dict\n",
    "d['a'] = 1 # adds the key-value pair 'a':1 to our dict\n",
    "\n",
    "d"
   ]
  },
  {
   "cell_type": "code",
   "execution_count": 40,
   "metadata": {},
   "outputs": [
    {
     "data": {
      "text/plain": [
       "{'a': 1, 'b': 2}"
      ]
     },
     "execution_count": 40,
     "metadata": {},
     "output_type": "execute_result"
    }
   ],
   "source": [
    "d['b'] = 2\n",
    "d"
   ]
  },
  {
   "cell_type": "code",
   "execution_count": 41,
   "metadata": {},
   "outputs": [
    {
     "data": {
      "text/plain": [
       "{'a': 1, 'b': 2, 'c': 3}"
      ]
     },
     "execution_count": 41,
     "metadata": {},
     "output_type": "execute_result"
    }
   ],
   "source": [
    "d['c'] = 3\n",
    "d"
   ]
  },
  {
   "cell_type": "code",
   "execution_count": 42,
   "metadata": {},
   "outputs": [
    {
     "data": {
      "text/plain": [
       "{'a': 1, 'b': 2, 'c': 3}"
      ]
     },
     "execution_count": 42,
     "metadata": {},
     "output_type": "execute_result"
    }
   ],
   "source": [
    "# there isn't any \"append\" method for dicts, as we saw for lists\n",
    "# we just assign a new key-value pair, and it's added to the dict.\n",
    "\n",
    "# what if we want to revise an existing value?\n",
    "# same thing -- we just assign!\n",
    "\n",
    "d"
   ]
  },
  {
   "cell_type": "code",
   "execution_count": 43,
   "metadata": {},
   "outputs": [
    {
     "data": {
      "text/plain": [
       "{'a': 999, 'b': 2, 'c': 3}"
      ]
     },
     "execution_count": 43,
     "metadata": {},
     "output_type": "execute_result"
    }
   ],
   "source": [
    "d['a'] = 999\n",
    "d"
   ]
  },
  {
   "cell_type": "code",
   "execution_count": 44,
   "metadata": {},
   "outputs": [],
   "source": [
    "# keys must be unique in a dict!\n",
    "# so assigning a new value to an existing key updates the value"
   ]
  },
  {
   "cell_type": "code",
   "execution_count": 45,
   "metadata": {},
   "outputs": [
    {
     "data": {
      "text/plain": [
       "{'a': 999, 'b': 2, 'c': 3}"
      ]
     },
     "execution_count": 45,
     "metadata": {},
     "output_type": "execute_result"
    }
   ],
   "source": [
    "# can you remove key-value pairs from a dict? yes!\n",
    "# Use the \"pop\" method\n",
    "\n",
    "d"
   ]
  },
  {
   "cell_type": "code",
   "execution_count": 46,
   "metadata": {},
   "outputs": [
    {
     "data": {
      "text/plain": [
       "999"
      ]
     },
     "execution_count": 46,
     "metadata": {},
     "output_type": "execute_result"
    }
   ],
   "source": [
    "d.pop('a')  # removes the key-value pair with 'a' as the key, and returns the value"
   ]
  },
  {
   "cell_type": "code",
   "execution_count": 48,
   "metadata": {},
   "outputs": [
    {
     "data": {
      "text/plain": [
       "{'b': 2, 'c': 3}"
      ]
     },
     "execution_count": 48,
     "metadata": {},
     "output_type": "execute_result"
    }
   ],
   "source": [
    "d"
   ]
  },
  {
   "cell_type": "code",
   "execution_count": 49,
   "metadata": {},
   "outputs": [
    {
     "data": {
      "text/plain": [
       "2"
      ]
     },
     "execution_count": 49,
     "metadata": {},
     "output_type": "execute_result"
    }
   ],
   "source": [
    "d['b']"
   ]
  },
  {
   "cell_type": "code",
   "execution_count": 50,
   "metadata": {},
   "outputs": [
    {
     "ename": "KeyError",
     "evalue": "'B'",
     "output_type": "error",
     "traceback": [
      "\u001b[0;31m---------------------------------------------------------------------------\u001b[0m",
      "\u001b[0;31mKeyError\u001b[0m                                  Traceback (most recent call last)",
      "\u001b[0;32m<ipython-input-50-dcf2d105823e>\u001b[0m in \u001b[0;36m<module>\u001b[0;34m\u001b[0m\n\u001b[0;32m----> 1\u001b[0;31m \u001b[0md\u001b[0m\u001b[0;34m[\u001b[0m\u001b[0;34m'B'\u001b[0m\u001b[0;34m]\u001b[0m  \u001b[0;31m# completely different key!\u001b[0m\u001b[0;34m\u001b[0m\u001b[0;34m\u001b[0m\u001b[0m\n\u001b[0m",
      "\u001b[0;31mKeyError\u001b[0m: 'B'"
     ]
    }
   ],
   "source": [
    "d['B']  # completely different key!"
   ]
  },
  {
   "cell_type": "markdown",
   "metadata": {},
   "source": [
    "# Exercise: Vowels, digits, and others\n",
    "\n",
    "1. Create a dict, `counts`, in which you have three keys-value pairs. The keys will be `vowels`, `digits`, and `others`. The values will all be 0.\n",
    "2. Ask the user to enter a string.\n",
    "3. Iterate over the string, one character at a time.  Examine the character:\n",
    "    - If it's a digit (0-9), then add 1 to the `digits` value\n",
    "    - If it's a vowel (aeiou), then add 1 to the `vowels` value\n",
    "    - Otherwise, add 1 to the `others` value\n",
    "4. At the end, print the resulting dict.\n",
    "\n",
    "Example:\n",
    "\n",
    "    Enter a string: hello 123!!!\n",
    "    {'digits': 3 'vowels': 2 'others': 7}\n",
    "    \n",
    "### Hints and reminders    \n",
    "- The `.isdigit` method for strings returns `True` if all of the characters in the string are only 0 through 9.  So `123`.isdigit() will return `True`.\n"
   ]
  },
  {
   "cell_type": "code",
   "execution_count": 51,
   "metadata": {},
   "outputs": [
    {
     "name": "stdout",
     "output_type": "stream",
     "text": [
      "Your total is $5\n"
     ]
    }
   ],
   "source": [
    "total = 5\n",
    "print(f'Your total is ${total}')"
   ]
  },
  {
   "cell_type": "code",
   "execution_count": 52,
   "metadata": {},
   "outputs": [
    {
     "data": {
      "text/plain": [
       "5"
      ]
     },
     "execution_count": 52,
     "metadata": {},
     "output_type": "execute_result"
    }
   ],
   "source": [
    "x = '5'  # this is a string\n",
    " \n",
    "# how can I get an integer from it?  I call int()\n",
    "int(x)"
   ]
  },
  {
   "cell_type": "code",
   "execution_count": 53,
   "metadata": {},
   "outputs": [
    {
     "data": {
      "text/plain": [
       "'123'"
      ]
     },
     "execution_count": 53,
     "metadata": {},
     "output_type": "execute_result"
    }
   ],
   "source": [
    "x = 123  # this in int\n",
    "\n",
    "# how can I turn it into a string?\n",
    "str(x)   # I get a string back, based on x"
   ]
  },
  {
   "cell_type": "code",
   "execution_count": 54,
   "metadata": {},
   "outputs": [
    {
     "data": {
      "text/plain": [
       "\"{'b': 2, 'c': 3}\""
      ]
     },
     "execution_count": 54,
     "metadata": {},
     "output_type": "execute_result"
    }
   ],
   "source": [
    "# Turns out you can use str() on ANYTHING AT ALL in Python\n",
    "str(d)"
   ]
  },
  {
   "cell_type": "code",
   "execution_count": 55,
   "metadata": {},
   "outputs": [
    {
     "name": "stdout",
     "output_type": "stream",
     "text": [
      "Enter a string: hello 123!!!\n",
      "{'digits': 3, 'vowels': 2, 'others': 7}\n"
     ]
    }
   ],
   "source": [
    "counts = {'digits':0, 'vowels':0, 'others':0}\n",
    "\n",
    "s = input('Enter a string: ').strip()\n",
    "\n",
    "for one_character in s:  # go through s, one character at a time\n",
    "    if one_character.isdigit():   # is one_character one of 0, 1, 2...9?\n",
    "        counts['digits'] += 1\n",
    "    elif one_character in 'aeiou':\n",
    "        counts['vowels'] += 1\n",
    "    else:\n",
    "        counts['others'] += 1\n",
    "        \n",
    "print(counts)        "
   ]
  },
  {
   "cell_type": "code",
   "execution_count": 56,
   "metadata": {},
   "outputs": [
    {
     "data": {
      "text/plain": [
       "True"
      ]
     },
     "execution_count": 56,
     "metadata": {},
     "output_type": "execute_result"
    }
   ],
   "source": [
    "one_character = 'e'\n",
    "\n",
    "one_character in 'aeiou'  # search in a string"
   ]
  },
  {
   "cell_type": "code",
   "execution_count": 57,
   "metadata": {},
   "outputs": [
    {
     "data": {
      "text/plain": [
       "True"
      ]
     },
     "execution_count": 57,
     "metadata": {},
     "output_type": "execute_result"
    }
   ],
   "source": [
    "one_character in 'a,e,i,o,u'  # still searching in a string, but a longer string"
   ]
  },
  {
   "cell_type": "code",
   "execution_count": null,
   "metadata": {},
   "outputs": [],
   "source": [
    "one_character in ['a', 'e', 'i', 'o', 'u']   # searching in a listb"
   ]
  },
  {
   "cell_type": "code",
   "execution_count": 58,
   "metadata": {},
   "outputs": [
    {
     "data": {
      "text/plain": [
       "{'b': 2, 'c': 3}"
      ]
     },
     "execution_count": 58,
     "metadata": {},
     "output_type": "execute_result"
    }
   ],
   "source": [
    "d"
   ]
  },
  {
   "cell_type": "code",
   "execution_count": 59,
   "metadata": {},
   "outputs": [
    {
     "ename": "SyntaxError",
     "evalue": "f-string: unmatched '[' (<ipython-input-59-2eda18716e33>, line 1)",
     "output_type": "error",
     "traceback": [
      "\u001b[0;36m  File \u001b[0;32m\"<ipython-input-59-2eda18716e33>\"\u001b[0;36m, line \u001b[0;32m1\u001b[0m\n\u001b[0;31m    print(f'{d['b']}')   # this will not work!\u001b[0m\n\u001b[0m                     ^\u001b[0m\n\u001b[0;31mSyntaxError\u001b[0m\u001b[0;31m:\u001b[0m f-string: unmatched '['\n"
     ]
    }
   ],
   "source": [
    "print(f'{d['b']}')   # this will not work!"
   ]
  },
  {
   "cell_type": "code",
   "execution_count": 60,
   "metadata": {},
   "outputs": [
    {
     "name": "stdout",
     "output_type": "stream",
     "text": [
      "2\n"
     ]
    }
   ],
   "source": [
    "print(f\"{d['b']}\")"
   ]
  },
  {
   "cell_type": "markdown",
   "metadata": {},
   "source": [
    "# Next up:\n",
    "\n",
    "1. More methods on dicts\n",
    "2. Accumulating the unknown\n",
    "3. Looping over dicts"
   ]
  },
  {
   "cell_type": "code",
   "execution_count": 62,
   "metadata": {},
   "outputs": [
    {
     "ename": "SyntaxError",
     "evalue": "f-string expression part cannot include a backslash (<ipython-input-62-5d0c2d64ab05>, line 1)",
     "output_type": "error",
     "traceback": [
      "\u001b[0;36m  File \u001b[0;32m\"<ipython-input-62-5d0c2d64ab05>\"\u001b[0;36m, line \u001b[0;32m1\u001b[0m\n\u001b[0;31m    print(f'{d[\\'b\\']}')\u001b[0m\n\u001b[0m                       ^\u001b[0m\n\u001b[0;31mSyntaxError\u001b[0m\u001b[0;31m:\u001b[0m f-string expression part cannot include a backslash\n"
     ]
    }
   ],
   "source": [
    "print(f'{d['b']}')"
   ]
  },
  {
   "cell_type": "code",
   "execution_count": 64,
   "metadata": {},
   "outputs": [
    {
     "data": {
      "text/plain": [
       "dict_keys(['a', 'b', 'c'])"
      ]
     },
     "execution_count": 64,
     "metadata": {},
     "output_type": "execute_result"
    }
   ],
   "source": [
    "d = {'a':1, 'b':2, 'c':3}\n",
    "\n",
    "# when should you use this? almost never\n",
    "d.keys()  # this returns the keys -- not really a list, but sorta kinda like one"
   ]
  },
  {
   "cell_type": "code",
   "execution_count": 66,
   "metadata": {},
   "outputs": [
    {
     "data": {
      "text/plain": [
       "dict_values([1, 2, 3])"
      ]
     },
     "execution_count": 66,
     "metadata": {},
     "output_type": "execute_result"
    }
   ],
   "source": [
    "d.values()  # returns the values a list-like object"
   ]
  },
  {
   "cell_type": "code",
   "execution_count": 67,
   "metadata": {},
   "outputs": [],
   "source": [
    "d = {'c':3, 'b':2, 'a':1}"
   ]
  },
  {
   "cell_type": "code",
   "execution_count": 68,
   "metadata": {},
   "outputs": [
    {
     "data": {
      "text/plain": [
       "dict_keys(['c', 'b', 'a'])"
      ]
     },
     "execution_count": 68,
     "metadata": {},
     "output_type": "execute_result"
    }
   ],
   "source": [
    "d.keys()"
   ]
  },
  {
   "cell_type": "code",
   "execution_count": 69,
   "metadata": {},
   "outputs": [
    {
     "data": {
      "text/plain": [
       "dict_values([3, 2, 1])"
      ]
     },
     "execution_count": 69,
     "metadata": {},
     "output_type": "execute_result"
    }
   ],
   "source": [
    "d.values()"
   ]
  },
  {
   "cell_type": "code",
   "execution_count": 70,
   "metadata": {},
   "outputs": [
    {
     "data": {
      "text/plain": [
       "\"{'c': 3, 'b': 2, 'a': 1}\""
      ]
     },
     "execution_count": 70,
     "metadata": {},
     "output_type": "execute_result"
    }
   ],
   "source": [
    "str(d)  # returns a string based on the dict d"
   ]
  },
  {
   "cell_type": "code",
   "execution_count": 72,
   "metadata": {},
   "outputs": [
    {
     "data": {
      "text/plain": [
       "{'a': 1, 'b': 2, 'c': 3}"
      ]
     },
     "execution_count": 72,
     "metadata": {},
     "output_type": "execute_result"
    }
   ],
   "source": [
    "# what if I want to create a dict?  I can call dict()\n",
    "# I call it on a list of lists or a list of tuples\n",
    "\n",
    "stuff = [('a', 1), ('b', 2), ('c', 3)]\n",
    "d = dict(stuff)\n",
    "d"
   ]
  },
  {
   "cell_type": "markdown",
   "metadata": {},
   "source": [
    "Many times, we don't know what the user will enter for keys and/or values, but we know what we want to do with them.\n",
    "\n",
    "With vowels/digits/others, we knew that the user's inputs would fit into existing categories.  But sometimes, we need to handle more ambiguous data."
   ]
  },
  {
   "cell_type": "code",
   "execution_count": 73,
   "metadata": {},
   "outputs": [
    {
     "name": "stdout",
     "output_type": "stream",
     "text": [
      "Enter a string: hello\n"
     ]
    },
    {
     "ename": "KeyError",
     "evalue": "'h'",
     "output_type": "error",
     "traceback": [
      "\u001b[0;31m---------------------------------------------------------------------------\u001b[0m",
      "\u001b[0;31mKeyError\u001b[0m                                  Traceback (most recent call last)",
      "\u001b[0;32m<ipython-input-73-00800e5ad042>\u001b[0m in \u001b[0;36m<module>\u001b[0;34m\u001b[0m\n\u001b[1;32m      6\u001b[0m \u001b[0;34m\u001b[0m\u001b[0m\n\u001b[1;32m      7\u001b[0m \u001b[0;32mfor\u001b[0m \u001b[0mone_character\u001b[0m \u001b[0;32min\u001b[0m \u001b[0ms\u001b[0m\u001b[0;34m:\u001b[0m\u001b[0;34m\u001b[0m\u001b[0;34m\u001b[0m\u001b[0m\n\u001b[0;32m----> 8\u001b[0;31m     \u001b[0mcounts\u001b[0m\u001b[0;34m[\u001b[0m\u001b[0mone_character\u001b[0m\u001b[0;34m]\u001b[0m \u001b[0;34m+=\u001b[0m \u001b[0;36m1\u001b[0m  \u001b[0;31m# this won't work!\u001b[0m\u001b[0;34m\u001b[0m\u001b[0;34m\u001b[0m\u001b[0m\n\u001b[0m\u001b[1;32m      9\u001b[0m \u001b[0;34m\u001b[0m\u001b[0m\n\u001b[1;32m     10\u001b[0m \u001b[0mprint\u001b[0m\u001b[0;34m(\u001b[0m\u001b[0mcounts\u001b[0m\u001b[0;34m)\u001b[0m\u001b[0;34m\u001b[0m\u001b[0;34m\u001b[0m\u001b[0m\n",
      "\u001b[0;31mKeyError\u001b[0m: 'h'"
     ]
    }
   ],
   "source": [
    "# Example: Letter counter\n",
    "\n",
    "counts = {}   # empty dict\n",
    "\n",
    "s = input('Enter a string: ').strip()\n",
    "\n",
    "for one_character in s:\n",
    "    counts[one_character] += 1  # this won't work!\n",
    "    \n",
    "print(counts)    "
   ]
  },
  {
   "cell_type": "code",
   "execution_count": 74,
   "metadata": {},
   "outputs": [
    {
     "name": "stdout",
     "output_type": "stream",
     "text": [
      "Enter a string: hello\n",
      "{'h': 1, 'e': 1, 'l': 2, 'o': 1}\n"
     ]
    }
   ],
   "source": [
    "# Example: Letter counter\n",
    "\n",
    "counts = {}   # empty dict\n",
    "\n",
    "s = input('Enter a string: ').strip()\n",
    "\n",
    "for one_character in s:\n",
    "    if one_character in counts:\n",
    "        counts[one_character] += 1     # we've seen one_character before\n",
    "    else:\n",
    "        counts[one_character] = 1      # first time encountering one_character\n",
    "    \n",
    "print(counts)    "
   ]
  },
  {
   "cell_type": "code",
   "execution_count": 75,
   "metadata": {},
   "outputs": [
    {
     "name": "stdout",
     "output_type": "stream",
     "text": [
      "Enter a key: a\n",
      "d[a] is 1\n",
      "Enter a key: c\n",
      "d[c] is 3\n",
      "Enter a key: x\n",
      "x is not a key in {'a': 1, 'b': 2, 'c': 3}\n",
      "Enter a key: \n"
     ]
    }
   ],
   "source": [
    "d = {'a':1, 'b':2, 'c':3}\n",
    "\n",
    "while True:\n",
    "    k = input('Enter a key: ').strip()\n",
    "    \n",
    "    if k == '':\n",
    "        break\n",
    "        \n",
    "    elif k in d:\n",
    "        print(f'd[{k}] is {d[k]}')\n",
    "    else:\n",
    "        print(f'{k} is not a key in {d}')"
   ]
  },
  {
   "cell_type": "code",
   "execution_count": 76,
   "metadata": {},
   "outputs": [
    {
     "data": {
      "text/plain": [
       "1"
      ]
     },
     "execution_count": 76,
     "metadata": {},
     "output_type": "execute_result"
    }
   ],
   "source": [
    "# shortcut is : the dict.get method\n",
    "\n",
    "# If you call .get on a dict, passing an argument,\n",
    "# it tries to use [] on that argument\n",
    "# if the argument exists as a key, you get the value back\n",
    "# if it doesn't, you get None back\n",
    "\n",
    "d.get('a')   # just like d['a']"
   ]
  },
  {
   "cell_type": "code",
   "execution_count": 77,
   "metadata": {},
   "outputs": [
    {
     "data": {
      "text/plain": [
       "2"
      ]
     },
     "execution_count": 77,
     "metadata": {},
     "output_type": "execute_result"
    }
   ],
   "source": [
    "d.get('b')   # just like d['b']"
   ]
  },
  {
   "cell_type": "code",
   "execution_count": 78,
   "metadata": {},
   "outputs": [],
   "source": [
    "d.get('x')    # 'x' is not a key in d... so we get back None"
   ]
  },
  {
   "cell_type": "code",
   "execution_count": 79,
   "metadata": {},
   "outputs": [
    {
     "data": {
      "text/plain": [
       "12345"
      ]
     },
     "execution_count": 79,
     "metadata": {},
     "output_type": "execute_result"
    }
   ],
   "source": [
    "# the get method is a more forgiving way of retrieving values from dicts\n",
    "# if the key doesn't exist, the program won't blow up!\n",
    "\n",
    "# get is even better - you can pass a second argument!\n",
    "# if the key doesn't exist, we get back that argument\n",
    "\n",
    "d.get('x', 12345)   # ask for d['x'], but if 'x' is not in d as a key, return 12345"
   ]
  },
  {
   "cell_type": "code",
   "execution_count": 80,
   "metadata": {},
   "outputs": [
    {
     "name": "stdout",
     "output_type": "stream",
     "text": [
      "Enter a key: a\n",
      "d[a] is 1\n",
      "Enter a key: x\n",
      "d[x] is No such key x\n",
      "Enter a key: \n"
     ]
    }
   ],
   "source": [
    "# rewrite with dict.get\n",
    "d = {'a':1, 'b':2, 'c':3}\n",
    "\n",
    "while True:\n",
    "    k = input('Enter a key: ').strip()\n",
    "    \n",
    "    if k == '':\n",
    "        break\n",
    "        \n",
    "    print(f'd[{k}] is {d.get(k, f\"No such key {k}\")}')\n"
   ]
  },
  {
   "cell_type": "code",
   "execution_count": 81,
   "metadata": {},
   "outputs": [
    {
     "name": "stdout",
     "output_type": "stream",
     "text": [
      "Enter a string: hello\n",
      "{'h': 1, 'e': 1, 'l': 2, 'o': 1}\n"
     ]
    }
   ],
   "source": [
    "# Example: Letter counter\n",
    "\n",
    "counts = {}   # empty dict\n",
    "\n",
    "s = input('Enter a string: ').strip()\n",
    "\n",
    "for one_character in s:\n",
    "    counts[one_character] = counts.get(one_character, 0) + 1\n",
    "    \n",
    "print(counts)    "
   ]
  },
  {
   "cell_type": "code",
   "execution_count": 82,
   "metadata": {},
   "outputs": [
    {
     "data": {
      "text/plain": [
       "1"
      ]
     },
     "execution_count": 82,
     "metadata": {},
     "output_type": "execute_result"
    }
   ],
   "source": [
    "# the below code means:\n",
    "\n",
    "# (1) is 'a' a key in d?\n",
    "# (2) if so, then return d['a']\n",
    "# (3) if not, then return 0\n",
    "\n",
    "d.get('a', 0)    "
   ]
  },
  {
   "cell_type": "code",
   "execution_count": 83,
   "metadata": {},
   "outputs": [
    {
     "data": {
      "text/plain": [
       "1"
      ]
     },
     "execution_count": 83,
     "metadata": {},
     "output_type": "execute_result"
    }
   ],
   "source": [
    "# (1) is 'a' a key in d?\n",
    "# (2) If so, return d['a']\n",
    "# (3) if not, return [10, 20, 30]\n",
    "\n",
    "d.get('a', [10, 20, 30])"
   ]
  },
  {
   "cell_type": "code",
   "execution_count": 84,
   "metadata": {},
   "outputs": [
    {
     "data": {
      "text/plain": [
       "{'a': 1, 'b': 2, 'c': 3}"
      ]
     },
     "execution_count": 84,
     "metadata": {},
     "output_type": "execute_result"
    }
   ],
   "source": [
    "d"
   ]
  },
  {
   "cell_type": "code",
   "execution_count": 85,
   "metadata": {},
   "outputs": [
    {
     "data": {
      "text/plain": [
       "1"
      ]
     },
     "execution_count": 85,
     "metadata": {},
     "output_type": "execute_result"
    }
   ],
   "source": [
    "# 2nd argument to get means: give me this value if the key doesn't exist.\n",
    "\n",
    "d.get('a', 0)  # give me d['a'] if it exists. If it doesn't, give me 0"
   ]
  },
  {
   "cell_type": "markdown",
   "metadata": {},
   "source": [
    "# Exercise: Rainfall\n",
    "\n",
    "1. Create an empty dict, `rainfall`.\n",
    "2. Ask the user, again and again, to enter the name of a city.\n",
    "3. If the user enters an empty string, then stop asking, and print the contents of `rainfall`\n",
    "4. If we have the name of a city, then ask a 2nd question: How much rain fell there yesterday?  (Answer will be in mm of rain)\n",
    "5. Add the new city-rain amount to the dictionary, adding to an existing amount, if it's already there.\n",
    "6. At the end, print the dict.\n",
    "\n",
    "Example:\n",
    "\n",
    "    City: Jerusalem\n",
    "    Rain: 2\n",
    "    City: Tel Aviv\n",
    "    Rain: 3\n",
    "    City: Jerusalem\n",
    "    Rain: 4\n",
    "    City: [ENTER]\n",
    "    {'Jerusalem':6, 'Tel Aviv':3}"
   ]
  },
  {
   "cell_type": "code",
   "execution_count": 86,
   "metadata": {},
   "outputs": [
    {
     "name": "stdout",
     "output_type": "stream",
     "text": [
      "City: a\n",
      "Rain: 5\n",
      "City: b\n",
      "Rain: 4\n",
      "City: a\n",
      "Rain: 3\n",
      "City: \n",
      "{'a': 8, 'b': 4}\n"
     ]
    }
   ],
   "source": [
    "rainfall = {}\n",
    "\n",
    "while True:\n",
    "    city_name = input('City: ').strip()\n",
    "    \n",
    "    if city_name == '':\n",
    "        break\n",
    "        \n",
    "    mm_rain = input('Rain: ').strip()  # this is a string!\n",
    "    mm_rain = int(mm_rain)    # get an int, assume user input was valid\n",
    "    \n",
    "    if city_name in rainfall:\n",
    "        rainfall[city_name] += mm_rain\n",
    "    else:\n",
    "        rainfall[city_name] = mm_rain\n",
    "        \n",
    "print(rainfall)        \n",
    "    \n",
    "    "
   ]
  },
  {
   "cell_type": "code",
   "execution_count": null,
   "metadata": {},
   "outputs": [],
   "source": [
    "rainfall = {}\n",
    "\n",
    "while True:\n",
    "    city_name = input('City: ').strip()\n",
    "    \n",
    "#    if city_name == '':\n",
    "\n",
    "    if not city_name:   # same thing as saying \"if city_name == ''\"\n",
    "        break\n",
    "        \n",
    "    mm_rain = input('Rain: ').strip()  # this is a string!\n",
    "    mm_rain = int(mm_rain)    # get an int, assume user input was valid\n",
    "    \n",
    "    rainfall[city_name] = rainfall.get(city_name, 0) + mm_rain\n",
    "        \n",
    "print(rainfall)    "
   ]
  },
  {
   "cell_type": "code",
   "execution_count": 89,
   "metadata": {
    "scrolled": false
   },
   "outputs": [
    {
     "name": "stdout",
     "output_type": "stream",
     "text": [
      "City: a\n",
      "Rain: 5\n",
      "City: b\n",
      "Rain: 3\n",
      "City: \n",
      "{'a': 5, 'b': 3}\n"
     ]
    }
   ],
   "source": [
    "rainfall = {}\n",
    "\n",
    "# new operator in Python 3.8, the \"walrus\" -- assignment expression\n",
    "# both assigns *and* returns a value\n",
    "\n",
    "while city_name := input('City: ').strip():\n",
    "        \n",
    "    mm_rain = input('Rain: ').strip()  # this is a string!\n",
    "    mm_rain = int(mm_rain)    # get an int, assume user input was valid\n",
    "    \n",
    "    rainfall[city_name] = rainfall.get(city_name, 0) + mm_rain\n",
    "        \n",
    "print(rainfall)    "
   ]
  },
  {
   "cell_type": "code",
   "execution_count": 91,
   "metadata": {},
   "outputs": [],
   "source": [
    "# __main__   # pronounced \"dunder main\""
   ]
  },
  {
   "cell_type": "markdown",
   "metadata": {},
   "source": [
    "# Next up\n",
    "- Looping over dicts\n",
    "- How do dicts work?\n",
    "- Start to work with files (if you can download from https://files.lerner.co.il/)\n"
   ]
  },
  {
   "cell_type": "code",
   "execution_count": 88,
   "metadata": {
    "collapsed": true
   },
   "outputs": [
    {
     "data": {
      "text/plain": [
       "{'__name__': '__main__',\n",
       " '__doc__': 'Automatically created module for IPython interactive environment',\n",
       " '__package__': None,\n",
       " '__loader__': None,\n",
       " '__spec__': None,\n",
       " '__builtin__': <module 'builtins' (built-in)>,\n",
       " '__builtins__': <module 'builtins' (built-in)>,\n",
       " '_ih': ['',\n",
       "  \"print('Hello!')\",\n",
       "  '# to create executable Python programs, you can use Pyinstaller\\n# go to https://pyinstaller.org/ for more details',\n",
       "  '# we talked a bit at the end about tuples\\n# tuples are basically immutable lists\\n\\nt = (10, 20, 30, 40, 50)\\ntype(t)',\n",
       "  't = 10, 20, 30, 40, 50\\ntype(t)',\n",
       "  '# no parentheses needed for tuples!  The comma is the most important thing\\nt = 10, 20, 30, 40, 50\\ntype(t)',\n",
       "  \"mylist = [10, 20, 30]\\nx = mylist\\n\\nx  # it'll be [10, 20, 30], of course\",\n",
       "  'x,y,z = mylist',\n",
       "  'x',\n",
       "  'y',\n",
       "  'z',\n",
       "  '# this is known as \"tuple unpacking,\" because the variables on the left\\n# are in a tuple\\n\\n# so long as the data on the right is iterable (i.e., can run in a for loop)\\n# and so long as the number of elements on the right == number of variables on the left\\n# then we\\'re OK!\\n\\nx,y,z = \\'abc\\'\\n\\nx',\n",
       "  'y',\n",
       "  'z',\n",
       "  \"person = ('Reuven', 'Lerner', 46)\\n\\n# this is a tuple describing a person's information (first, last, shoe_size)\",\n",
       "  'first_name, last_name, shoe_size = person',\n",
       "  'first_name',\n",
       "  'last_name',\n",
       "  'shoe_size',\n",
       "  'x = 222\\ny = 444\\n\\nx,y = y,x',\n",
       "  \"x = 222\\ny = 444\\n\\n# (1) in assignment, right side before left side\\n# (2) on the right, we're creating a new tuple from (y,x)\\n# (3) on the left, we're using unpacking to grab two values and assign them to x and y\\n# (4) it's a complete coincidence that x,y is on the left and y,x is on the right\\n# The effect?  We have swapped the variables' values\\nx,y = y,x\",\n",
       "  'x',\n",
       "  'y',\n",
       "  \"# define a new dictionary using {}  (curly braces)\\n# a dict always has pairs of data -- key-value pairs, \\n\\n# (1) use curly braces\\n# (2) the pairs are separated by commas\\n# (3) the keys and values are separated by colons\\n# (4) you can use any type (more or less) for keys and values\\n\\nd = {'a':1, 'b':2, 'c':3}\",\n",
       "  \"# define a new dictionary using {}  (curly braces)\\n# a dict always has pairs of data -- key-value pairs, \\n\\n# (1) use curly braces\\n# (2) the pairs are separated by commas\\n# (3) the keys and values are separated by colons\\n# (4) you can use any type (more or less) for keys and values\\n#   values can be ABSOLUTELY ANYTHING AT ALL -- strings, lists, dicts, etc.\\n\\nd = {'a':1, 'b':2, 'c':3}\",\n",
       "  \"# to retrieve from a dict, we use [] and the key\\nd['a']\",\n",
       "  \"d['b']\",\n",
       "  \"d['c']\",\n",
       "  \"d['x']\",\n",
       "  \"d['x']  # the key 'x' does not exist, so we get an error\",\n",
       "  '# what if I want to find out if a key exists in a dict?\\n# I can use the \"in\" operator\\n# \"in\" *ONLY* looks in the keys!  It never looks at the values!',\n",
       "  \"'a' in d\",\n",
       "  \"'x' in d\",\n",
       "  '1 in d',\n",
       "  \"# Keys must be unique.  If you try to create a dict with a key \\n# that repeats, Python will enforce the uniqueness.\\n\\nd = {'a':1, 'b':2, 'a':3, 'b':4}\\nd\",\n",
       "  '# the keys of a dict can be any IMMUTABLE type -- strings, ints, floats, even tuples\\n# but *not* lists or dicts',\n",
       "  \"# a list or tuple can contain anything, but its indexes are always going to be\\n# integers, starting at 0\\n\\n# a dict's keys can be any ints, or any string, giving us more semantic power\\n# -- our data structure can feel more human\",\n",
       "  \"d = {'a':1, 'b':2, 'c':3}\\nk = 'a'\\nd[k]   # this will retrieve d['a'], because the variable k contains 'a'\",\n",
       "  'total = 0\\nmenu = {\\'sandwich\\':10, \\'tea\\':5, \\'cake\\':3, \\'apple\\':2}\\n\\nwhile True:\\n    order = input(\\'Order: \\').strip()  # get input, remove surrounding whitespace\\n    \\n    if order == \\'\\':      # did we get nothing at all? break from the \"while\" loop\\n        break\\n        \\n    if order in menu:        # is the user\\'s input a key in our \"menu\" dict?\\n        price = menu[order]  # retrieve the price of the user\\'s order\\n        total += price       # add price to total\\n        print(f\\'{order} costs {price}; total is now {total}\\')\\n    else:\\n        print(f\\'Sorry, we are out of {order} today!\\')\\n        \\nprint(f\\'Total is {total}.\\')',\n",
       "  \"# can we modify dictionaries?\\n# that is: are they mutable?\\n\\n# YES WE CAN!\\n\\nd = {}     # empty dict\\nd['a'] = 1 # adds the key-value pair 'a':1 to our dict\\n\\nd\",\n",
       "  \"d['b'] = 2\\nd\",\n",
       "  \"d['c'] = 3\\nd\",\n",
       "  '# there isn\\'t any \"append\" method for dicts, as we saw for lists\\n# we just assign a new key-value pair, and it\\'s added to the dict.\\n\\n# what if we want to revise an existing value?\\n# same thing -- we just assign!\\n\\nd',\n",
       "  \"d['a'] = 999\\nd\",\n",
       "  '# keys must be unique in a dict!\\n# so assigning a new value to an existing key updates the value',\n",
       "  '# can you remove key-value pairs from a dict? yes!\\n# Use the \"pop\" method\\n\\nd',\n",
       "  \"d.pop('a')  # removes the key-value pair with 'a' as the key, and returns the value\",\n",
       "  'a',\n",
       "  'd',\n",
       "  \"d['b']\",\n",
       "  \"d['B']  # completely different key!\",\n",
       "  \"total = 5\\nprint(f'Your total is ${total}')\",\n",
       "  \"x = '5'  # this is a string\\n \\n# how can I get an integer from it?  I call int()\\nint(x)\",\n",
       "  'x = 123  # this in int\\n\\n# how can I turn it into a string?\\nstr(x)   # I get a string back, based on x',\n",
       "  '# Turns out you can use str() on ANYTHING AT ALL in Python\\nstr(d)',\n",
       "  \"counts = {'digits':0, 'vowels':0, 'others':0}\\n\\ns = input('Enter a string: ').strip()\\n\\nfor one_character in s:  # go through s, one character at a time\\n    if one_character.isdigit():   # is one_character one of 0, 1, 2...9?\\n        counts['digits'] += 1\\n    elif one_character in 'aeiou':\\n        counts['vowels'] += 1\\n    else:\\n        counts['others'] += 1\\n        \\nprint(counts)        \",\n",
       "  \"one_character = 'e'\\n\\none_character in 'aeiou'  # search in a string\",\n",
       "  \"one_character in 'a,e,i,o,u'  # still searching in a string, but a longer string\",\n",
       "  'd',\n",
       "  \"print(f'{d['b']}')   # this will not work!\",\n",
       "  'print(f\"{d[\\'b\\']}\")',\n",
       "  \"print(f'{d['b']}')\",\n",
       "  \"print(f'{d[\\\\'b\\\\']}')\",\n",
       "  \"d = {'a':1, 'b':2, 'c':3}\\n\\nd.keys()  # this returns the keys\",\n",
       "  \"d = {'a':1, 'b':2, 'c':3}\\n\\nd.keys()  # this returns the keys -- not really a list, but sorta kinda like one\",\n",
       "  'd.values()',\n",
       "  'd.values()  # returns the values a list-like object',\n",
       "  \"d = {'c':3, 'b':2, 'a':1}\",\n",
       "  'd.keys()',\n",
       "  'd.values()',\n",
       "  'str(d)  # returns a string based on the dict d',\n",
       "  \"# what if I want to create a dict?  I can call dict()\\n# I call it on a list of lists or a list of tuples\\n\\nstuff = [('a', 1), ('b', 2), ('c', 3)]\\ndict(stuff)\",\n",
       "  \"# what if I want to create a dict?  I can call dict()\\n# I call it on a list of lists or a list of tuples\\n\\nstuff = [('a', 1), ('b', 2), ('c', 3)]\\nd = dict(stuff)\\nd\",\n",
       "  \"# Example: Letter counter\\n\\ncounts = {}   # empty dict\\n\\ns = input('Enter a string: ').strip()\\n\\nfor one_character in s:\\n    counts[one_character] += 1  # this won't work!\\n    \\nprint(counts)    \",\n",
       "  \"# Example: Letter counter\\n\\ncounts = {}   # empty dict\\n\\ns = input('Enter a string: ').strip()\\n\\nfor one_character in s:\\n    if one_character in counts:\\n        counts[one_character] += 1     # we've seen one_character before\\n    else:\\n        counts[one_character] = 1      # first time encountering one_character\\n    \\nprint(counts)    \",\n",
       "  \"d = {'a':1, 'b':2, 'c':3}\\n\\nwhile True:\\n    k = input('Enter a key: ').strip()\\n    \\n    if k == '':\\n        break\\n        \\n    elif k in d:\\n        print(f'd[{k}] is {d[k]}')\\n    else:\\n        print(f'{k} is not a key in {d}')\",\n",
       "  \"# shortcut is : the dict.get method\\n\\n# If you call .get on a dict, passing an argument,\\n# it tries to use [] on that argument\\n# if the argument exists as a key, you get the value back\\n# if it doesn't, you get None back\\n\\nd.get('a')   # just like d['a']\",\n",
       "  \"d.get('b')   # just like d['b']\",\n",
       "  \"d.get('x')    # 'x' is not a key in d... so we get back None\",\n",
       "  \"# the get method is a more forgiving way of retrieving values from dicts\\n# if the key doesn't exist, the program won't blow up!\\n\\n# get is even better - you can pass a second argument!\\n# if the key doesn't exist, we get back that argument\\n\\nd.get('x', 12345)\",\n",
       "  '# rewrite with dict.get\\nd = {\\'a\\':1, \\'b\\':2, \\'c\\':3}\\n\\nwhile True:\\n    k = input(\\'Enter a key: \\').strip()\\n    \\n    if k == \\'\\':\\n        break\\n        \\n    print(f\\'d[{k}] is {d.get(k, f\"No such key {k}\")}\\')',\n",
       "  \"# Example: Letter counter\\n\\ncounts = {}   # empty dict\\n\\ns = input('Enter a string: ').strip()\\n\\nfor one_character in s:\\n    counts[one_character] = counts.get(one_character, 0) + 1\\n    \\nprint(counts)    \",\n",
       "  \"# the below code means:\\n\\n# (1) is 'a' a key in d?\\n# (2) if so, then return d['a']\\n# (3) if not, then return 0\\n\\nd.get('a', 0)    \",\n",
       "  \"# (1) is 'a' a key in d?\\n# (2) If so, return d['a']\\n# (3) if not, return [10, 20, 30]\\n\\nd.get('a', [10, 20, 30])\",\n",
       "  'd',\n",
       "  \"d.get('a', 0)  # give me d['a'] if it exists. If it doesn't, give me 0\",\n",
       "  \"rainfall = {}\\n\\nwhile True:\\n    city_name = input('City: ').strip()\\n    \\n    if city_name == '':\\n        break\\n        \\n    mm_rain = input('Rain: ').strip()  # this is a string!\\n    mm_rain = int(mm_rain)    # get an int, assume user input was valid\\n    \\n    if city_name in rainfall:\\n        rainfall[city_name] += mm_rain\\n    else:\\n        rainfall[city_name] = mm_rain\\n        \\nprint(rainfall)        \\n    \\n    \",\n",
       "  \"rainfall = {}\\n\\nwhile city_name = input('City: ').strip():\\n        \\n    mm_rain = input('Rain: ').strip()  # this is a string!\\n    mm_rain = int(mm_rain)    # get an int, assume user input was valid\\n    \\n    rainfall[city_name] = rainfall.get(city_name, 0) + mm_rain\\n        \\nprint(rainfall)    \",\n",
       "  '# if I call the \"globals()\" function, it returns a dict\\n# with all of the global variables in Python!\\n\\n# keys are our variable names\\n# the values are our variable values\\n\\nglobals()'],\n",
       " '_oh': {3: tuple,\n",
       "  4: tuple,\n",
       "  5: tuple,\n",
       "  6: [10, 20, 30],\n",
       "  8: 10,\n",
       "  9: 20,\n",
       "  10: 30,\n",
       "  11: 'a',\n",
       "  12: 'b',\n",
       "  13: 'c',\n",
       "  16: 'Reuven',\n",
       "  17: 'Lerner',\n",
       "  18: 46,\n",
       "  21: 444,\n",
       "  22: 222,\n",
       "  25: 1,\n",
       "  26: 2,\n",
       "  27: 3,\n",
       "  31: True,\n",
       "  32: False,\n",
       "  33: False,\n",
       "  34: {'a': 3, 'b': 4},\n",
       "  37: 1,\n",
       "  39: {'b': 2, 'c': 3},\n",
       "  40: {'b': 2, 'c': 3},\n",
       "  41: {'b': 2, 'c': 3},\n",
       "  42: {'b': 2, 'c': 3},\n",
       "  43: {'b': 2, 'c': 3},\n",
       "  45: {'b': 2, 'c': 3},\n",
       "  46: 999,\n",
       "  48: {'b': 2, 'c': 3},\n",
       "  49: 2,\n",
       "  52: 5,\n",
       "  53: '123',\n",
       "  54: \"{'b': 2, 'c': 3}\",\n",
       "  56: True,\n",
       "  57: True,\n",
       "  58: {'b': 2, 'c': 3},\n",
       "  63: dict_keys(['a', 'b', 'c']),\n",
       "  64: dict_keys(['a', 'b', 'c']),\n",
       "  65: dict_values([1, 2, 3]),\n",
       "  66: dict_values([1, 2, 3]),\n",
       "  68: dict_keys(['c', 'b', 'a']),\n",
       "  69: dict_values([3, 2, 1]),\n",
       "  70: \"{'c': 3, 'b': 2, 'a': 1}\",\n",
       "  71: {'a': 1, 'b': 2, 'c': 3},\n",
       "  72: {'a': 1, 'b': 2, 'c': 3},\n",
       "  76: 1,\n",
       "  77: 2,\n",
       "  79: 12345,\n",
       "  82: 1,\n",
       "  83: 1,\n",
       "  84: {'a': 1, 'b': 2, 'c': 3},\n",
       "  85: 1},\n",
       " '_dh': [\"/Users/reuven/Courses/Current/O'Reilly-2021-q3-first-steps\"],\n",
       " 'In': ['',\n",
       "  \"print('Hello!')\",\n",
       "  '# to create executable Python programs, you can use Pyinstaller\\n# go to https://pyinstaller.org/ for more details',\n",
       "  '# we talked a bit at the end about tuples\\n# tuples are basically immutable lists\\n\\nt = (10, 20, 30, 40, 50)\\ntype(t)',\n",
       "  't = 10, 20, 30, 40, 50\\ntype(t)',\n",
       "  '# no parentheses needed for tuples!  The comma is the most important thing\\nt = 10, 20, 30, 40, 50\\ntype(t)',\n",
       "  \"mylist = [10, 20, 30]\\nx = mylist\\n\\nx  # it'll be [10, 20, 30], of course\",\n",
       "  'x,y,z = mylist',\n",
       "  'x',\n",
       "  'y',\n",
       "  'z',\n",
       "  '# this is known as \"tuple unpacking,\" because the variables on the left\\n# are in a tuple\\n\\n# so long as the data on the right is iterable (i.e., can run in a for loop)\\n# and so long as the number of elements on the right == number of variables on the left\\n# then we\\'re OK!\\n\\nx,y,z = \\'abc\\'\\n\\nx',\n",
       "  'y',\n",
       "  'z',\n",
       "  \"person = ('Reuven', 'Lerner', 46)\\n\\n# this is a tuple describing a person's information (first, last, shoe_size)\",\n",
       "  'first_name, last_name, shoe_size = person',\n",
       "  'first_name',\n",
       "  'last_name',\n",
       "  'shoe_size',\n",
       "  'x = 222\\ny = 444\\n\\nx,y = y,x',\n",
       "  \"x = 222\\ny = 444\\n\\n# (1) in assignment, right side before left side\\n# (2) on the right, we're creating a new tuple from (y,x)\\n# (3) on the left, we're using unpacking to grab two values and assign them to x and y\\n# (4) it's a complete coincidence that x,y is on the left and y,x is on the right\\n# The effect?  We have swapped the variables' values\\nx,y = y,x\",\n",
       "  'x',\n",
       "  'y',\n",
       "  \"# define a new dictionary using {}  (curly braces)\\n# a dict always has pairs of data -- key-value pairs, \\n\\n# (1) use curly braces\\n# (2) the pairs are separated by commas\\n# (3) the keys and values are separated by colons\\n# (4) you can use any type (more or less) for keys and values\\n\\nd = {'a':1, 'b':2, 'c':3}\",\n",
       "  \"# define a new dictionary using {}  (curly braces)\\n# a dict always has pairs of data -- key-value pairs, \\n\\n# (1) use curly braces\\n# (2) the pairs are separated by commas\\n# (3) the keys and values are separated by colons\\n# (4) you can use any type (more or less) for keys and values\\n#   values can be ABSOLUTELY ANYTHING AT ALL -- strings, lists, dicts, etc.\\n\\nd = {'a':1, 'b':2, 'c':3}\",\n",
       "  \"# to retrieve from a dict, we use [] and the key\\nd['a']\",\n",
       "  \"d['b']\",\n",
       "  \"d['c']\",\n",
       "  \"d['x']\",\n",
       "  \"d['x']  # the key 'x' does not exist, so we get an error\",\n",
       "  '# what if I want to find out if a key exists in a dict?\\n# I can use the \"in\" operator\\n# \"in\" *ONLY* looks in the keys!  It never looks at the values!',\n",
       "  \"'a' in d\",\n",
       "  \"'x' in d\",\n",
       "  '1 in d',\n",
       "  \"# Keys must be unique.  If you try to create a dict with a key \\n# that repeats, Python will enforce the uniqueness.\\n\\nd = {'a':1, 'b':2, 'a':3, 'b':4}\\nd\",\n",
       "  '# the keys of a dict can be any IMMUTABLE type -- strings, ints, floats, even tuples\\n# but *not* lists or dicts',\n",
       "  \"# a list or tuple can contain anything, but its indexes are always going to be\\n# integers, starting at 0\\n\\n# a dict's keys can be any ints, or any string, giving us more semantic power\\n# -- our data structure can feel more human\",\n",
       "  \"d = {'a':1, 'b':2, 'c':3}\\nk = 'a'\\nd[k]   # this will retrieve d['a'], because the variable k contains 'a'\",\n",
       "  'total = 0\\nmenu = {\\'sandwich\\':10, \\'tea\\':5, \\'cake\\':3, \\'apple\\':2}\\n\\nwhile True:\\n    order = input(\\'Order: \\').strip()  # get input, remove surrounding whitespace\\n    \\n    if order == \\'\\':      # did we get nothing at all? break from the \"while\" loop\\n        break\\n        \\n    if order in menu:        # is the user\\'s input a key in our \"menu\" dict?\\n        price = menu[order]  # retrieve the price of the user\\'s order\\n        total += price       # add price to total\\n        print(f\\'{order} costs {price}; total is now {total}\\')\\n    else:\\n        print(f\\'Sorry, we are out of {order} today!\\')\\n        \\nprint(f\\'Total is {total}.\\')',\n",
       "  \"# can we modify dictionaries?\\n# that is: are they mutable?\\n\\n# YES WE CAN!\\n\\nd = {}     # empty dict\\nd['a'] = 1 # adds the key-value pair 'a':1 to our dict\\n\\nd\",\n",
       "  \"d['b'] = 2\\nd\",\n",
       "  \"d['c'] = 3\\nd\",\n",
       "  '# there isn\\'t any \"append\" method for dicts, as we saw for lists\\n# we just assign a new key-value pair, and it\\'s added to the dict.\\n\\n# what if we want to revise an existing value?\\n# same thing -- we just assign!\\n\\nd',\n",
       "  \"d['a'] = 999\\nd\",\n",
       "  '# keys must be unique in a dict!\\n# so assigning a new value to an existing key updates the value',\n",
       "  '# can you remove key-value pairs from a dict? yes!\\n# Use the \"pop\" method\\n\\nd',\n",
       "  \"d.pop('a')  # removes the key-value pair with 'a' as the key, and returns the value\",\n",
       "  'a',\n",
       "  'd',\n",
       "  \"d['b']\",\n",
       "  \"d['B']  # completely different key!\",\n",
       "  \"total = 5\\nprint(f'Your total is ${total}')\",\n",
       "  \"x = '5'  # this is a string\\n \\n# how can I get an integer from it?  I call int()\\nint(x)\",\n",
       "  'x = 123  # this in int\\n\\n# how can I turn it into a string?\\nstr(x)   # I get a string back, based on x',\n",
       "  '# Turns out you can use str() on ANYTHING AT ALL in Python\\nstr(d)',\n",
       "  \"counts = {'digits':0, 'vowels':0, 'others':0}\\n\\ns = input('Enter a string: ').strip()\\n\\nfor one_character in s:  # go through s, one character at a time\\n    if one_character.isdigit():   # is one_character one of 0, 1, 2...9?\\n        counts['digits'] += 1\\n    elif one_character in 'aeiou':\\n        counts['vowels'] += 1\\n    else:\\n        counts['others'] += 1\\n        \\nprint(counts)        \",\n",
       "  \"one_character = 'e'\\n\\none_character in 'aeiou'  # search in a string\",\n",
       "  \"one_character in 'a,e,i,o,u'  # still searching in a string, but a longer string\",\n",
       "  'd',\n",
       "  \"print(f'{d['b']}')   # this will not work!\",\n",
       "  'print(f\"{d[\\'b\\']}\")',\n",
       "  \"print(f'{d['b']}')\",\n",
       "  \"print(f'{d[\\\\'b\\\\']}')\",\n",
       "  \"d = {'a':1, 'b':2, 'c':3}\\n\\nd.keys()  # this returns the keys\",\n",
       "  \"d = {'a':1, 'b':2, 'c':3}\\n\\nd.keys()  # this returns the keys -- not really a list, but sorta kinda like one\",\n",
       "  'd.values()',\n",
       "  'd.values()  # returns the values a list-like object',\n",
       "  \"d = {'c':3, 'b':2, 'a':1}\",\n",
       "  'd.keys()',\n",
       "  'd.values()',\n",
       "  'str(d)  # returns a string based on the dict d',\n",
       "  \"# what if I want to create a dict?  I can call dict()\\n# I call it on a list of lists or a list of tuples\\n\\nstuff = [('a', 1), ('b', 2), ('c', 3)]\\ndict(stuff)\",\n",
       "  \"# what if I want to create a dict?  I can call dict()\\n# I call it on a list of lists or a list of tuples\\n\\nstuff = [('a', 1), ('b', 2), ('c', 3)]\\nd = dict(stuff)\\nd\",\n",
       "  \"# Example: Letter counter\\n\\ncounts = {}   # empty dict\\n\\ns = input('Enter a string: ').strip()\\n\\nfor one_character in s:\\n    counts[one_character] += 1  # this won't work!\\n    \\nprint(counts)    \",\n",
       "  \"# Example: Letter counter\\n\\ncounts = {}   # empty dict\\n\\ns = input('Enter a string: ').strip()\\n\\nfor one_character in s:\\n    if one_character in counts:\\n        counts[one_character] += 1     # we've seen one_character before\\n    else:\\n        counts[one_character] = 1      # first time encountering one_character\\n    \\nprint(counts)    \",\n",
       "  \"d = {'a':1, 'b':2, 'c':3}\\n\\nwhile True:\\n    k = input('Enter a key: ').strip()\\n    \\n    if k == '':\\n        break\\n        \\n    elif k in d:\\n        print(f'd[{k}] is {d[k]}')\\n    else:\\n        print(f'{k} is not a key in {d}')\",\n",
       "  \"# shortcut is : the dict.get method\\n\\n# If you call .get on a dict, passing an argument,\\n# it tries to use [] on that argument\\n# if the argument exists as a key, you get the value back\\n# if it doesn't, you get None back\\n\\nd.get('a')   # just like d['a']\",\n",
       "  \"d.get('b')   # just like d['b']\",\n",
       "  \"d.get('x')    # 'x' is not a key in d... so we get back None\",\n",
       "  \"# the get method is a more forgiving way of retrieving values from dicts\\n# if the key doesn't exist, the program won't blow up!\\n\\n# get is even better - you can pass a second argument!\\n# if the key doesn't exist, we get back that argument\\n\\nd.get('x', 12345)\",\n",
       "  '# rewrite with dict.get\\nd = {\\'a\\':1, \\'b\\':2, \\'c\\':3}\\n\\nwhile True:\\n    k = input(\\'Enter a key: \\').strip()\\n    \\n    if k == \\'\\':\\n        break\\n        \\n    print(f\\'d[{k}] is {d.get(k, f\"No such key {k}\")}\\')',\n",
       "  \"# Example: Letter counter\\n\\ncounts = {}   # empty dict\\n\\ns = input('Enter a string: ').strip()\\n\\nfor one_character in s:\\n    counts[one_character] = counts.get(one_character, 0) + 1\\n    \\nprint(counts)    \",\n",
       "  \"# the below code means:\\n\\n# (1) is 'a' a key in d?\\n# (2) if so, then return d['a']\\n# (3) if not, then return 0\\n\\nd.get('a', 0)    \",\n",
       "  \"# (1) is 'a' a key in d?\\n# (2) If so, return d['a']\\n# (3) if not, return [10, 20, 30]\\n\\nd.get('a', [10, 20, 30])\",\n",
       "  'd',\n",
       "  \"d.get('a', 0)  # give me d['a'] if it exists. If it doesn't, give me 0\",\n",
       "  \"rainfall = {}\\n\\nwhile True:\\n    city_name = input('City: ').strip()\\n    \\n    if city_name == '':\\n        break\\n        \\n    mm_rain = input('Rain: ').strip()  # this is a string!\\n    mm_rain = int(mm_rain)    # get an int, assume user input was valid\\n    \\n    if city_name in rainfall:\\n        rainfall[city_name] += mm_rain\\n    else:\\n        rainfall[city_name] = mm_rain\\n        \\nprint(rainfall)        \\n    \\n    \",\n",
       "  \"rainfall = {}\\n\\nwhile city_name = input('City: ').strip():\\n        \\n    mm_rain = input('Rain: ').strip()  # this is a string!\\n    mm_rain = int(mm_rain)    # get an int, assume user input was valid\\n    \\n    rainfall[city_name] = rainfall.get(city_name, 0) + mm_rain\\n        \\nprint(rainfall)    \",\n",
       "  '# if I call the \"globals()\" function, it returns a dict\\n# with all of the global variables in Python!\\n\\n# keys are our variable names\\n# the values are our variable values\\n\\nglobals()'],\n",
       " 'Out': {3: tuple,\n",
       "  4: tuple,\n",
       "  5: tuple,\n",
       "  6: [10, 20, 30],\n",
       "  8: 10,\n",
       "  9: 20,\n",
       "  10: 30,\n",
       "  11: 'a',\n",
       "  12: 'b',\n",
       "  13: 'c',\n",
       "  16: 'Reuven',\n",
       "  17: 'Lerner',\n",
       "  18: 46,\n",
       "  21: 444,\n",
       "  22: 222,\n",
       "  25: 1,\n",
       "  26: 2,\n",
       "  27: 3,\n",
       "  31: True,\n",
       "  32: False,\n",
       "  33: False,\n",
       "  34: {'a': 3, 'b': 4},\n",
       "  37: 1,\n",
       "  39: {'b': 2, 'c': 3},\n",
       "  40: {'b': 2, 'c': 3},\n",
       "  41: {'b': 2, 'c': 3},\n",
       "  42: {'b': 2, 'c': 3},\n",
       "  43: {'b': 2, 'c': 3},\n",
       "  45: {'b': 2, 'c': 3},\n",
       "  46: 999,\n",
       "  48: {'b': 2, 'c': 3},\n",
       "  49: 2,\n",
       "  52: 5,\n",
       "  53: '123',\n",
       "  54: \"{'b': 2, 'c': 3}\",\n",
       "  56: True,\n",
       "  57: True,\n",
       "  58: {'b': 2, 'c': 3},\n",
       "  63: dict_keys(['a', 'b', 'c']),\n",
       "  64: dict_keys(['a', 'b', 'c']),\n",
       "  65: dict_values([1, 2, 3]),\n",
       "  66: dict_values([1, 2, 3]),\n",
       "  68: dict_keys(['c', 'b', 'a']),\n",
       "  69: dict_values([3, 2, 1]),\n",
       "  70: \"{'c': 3, 'b': 2, 'a': 1}\",\n",
       "  71: {'a': 1, 'b': 2, 'c': 3},\n",
       "  72: {'a': 1, 'b': 2, 'c': 3},\n",
       "  76: 1,\n",
       "  77: 2,\n",
       "  79: 12345,\n",
       "  82: 1,\n",
       "  83: 1,\n",
       "  84: {'a': 1, 'b': 2, 'c': 3},\n",
       "  85: 1},\n",
       " 'get_ipython': <bound method InteractiveShell.get_ipython of <ipykernel.zmqshell.ZMQInteractiveShell object at 0x10dffff10>>,\n",
       " 'exit': <IPython.core.autocall.ZMQExitAutocall at 0x10e101c40>,\n",
       " 'quit': <IPython.core.autocall.ZMQExitAutocall at 0x10e101c40>,\n",
       " '_': 1,\n",
       " '__': {'a': 1, 'b': 2, 'c': 3},\n",
       " '___': 1,\n",
       " '_i': \"rainfall = {}\\n\\nwhile city_name = input('City: ').strip():\\n        \\n    mm_rain = input('Rain: ').strip()  # this is a string!\\n    mm_rain = int(mm_rain)    # get an int, assume user input was valid\\n    \\n    rainfall[city_name] = rainfall.get(city_name, 0) + mm_rain\\n        \\nprint(rainfall)    \",\n",
       " '_ii': \"rainfall = {}\\n\\nwhile True:\\n    city_name = input('City: ').strip()\\n    \\n    if city_name == '':\\n        break\\n        \\n    mm_rain = input('Rain: ').strip()  # this is a string!\\n    mm_rain = int(mm_rain)    # get an int, assume user input was valid\\n    \\n    if city_name in rainfall:\\n        rainfall[city_name] += mm_rain\\n    else:\\n        rainfall[city_name] = mm_rain\\n        \\nprint(rainfall)        \\n    \\n    \",\n",
       " '_iii': \"d.get('a', 0)  # give me d['a'] if it exists. If it doesn't, give me 0\",\n",
       " '_i1': \"print('Hello!')\",\n",
       " '_i2': '# to create executable Python programs, you can use Pyinstaller\\n# go to https://pyinstaller.org/ for more details',\n",
       " '_i3': '# we talked a bit at the end about tuples\\n# tuples are basically immutable lists\\n\\nt = (10, 20, 30, 40, 50)\\ntype(t)',\n",
       " 't': (10, 20, 30, 40, 50),\n",
       " '_3': tuple,\n",
       " '_i4': 't = 10, 20, 30, 40, 50\\ntype(t)',\n",
       " '_4': tuple,\n",
       " '_i5': '# no parentheses needed for tuples!  The comma is the most important thing\\nt = 10, 20, 30, 40, 50\\ntype(t)',\n",
       " '_5': tuple,\n",
       " '_i6': \"mylist = [10, 20, 30]\\nx = mylist\\n\\nx  # it'll be [10, 20, 30], of course\",\n",
       " 'mylist': [10, 20, 30],\n",
       " 'x': 123,\n",
       " '_6': [10, 20, 30],\n",
       " '_i7': 'x,y,z = mylist',\n",
       " 'y': 222,\n",
       " 'z': 'c',\n",
       " '_i8': 'x',\n",
       " '_8': 10,\n",
       " '_i9': 'y',\n",
       " '_9': 20,\n",
       " '_i10': 'z',\n",
       " '_10': 30,\n",
       " '_i11': '# this is known as \"tuple unpacking,\" because the variables on the left\\n# are in a tuple\\n\\n# so long as the data on the right is iterable (i.e., can run in a for loop)\\n# and so long as the number of elements on the right == number of variables on the left\\n# then we\\'re OK!\\n\\nx,y,z = \\'abc\\'\\n\\nx',\n",
       " '_11': 'a',\n",
       " '_i12': 'y',\n",
       " '_12': 'b',\n",
       " '_i13': 'z',\n",
       " '_13': 'c',\n",
       " '_i14': \"person = ('Reuven', 'Lerner', 46)\\n\\n# this is a tuple describing a person's information (first, last, shoe_size)\",\n",
       " 'person': ('Reuven', 'Lerner', 46),\n",
       " '_i15': 'first_name, last_name, shoe_size = person',\n",
       " 'first_name': 'Reuven',\n",
       " 'last_name': 'Lerner',\n",
       " 'shoe_size': 46,\n",
       " '_i16': 'first_name',\n",
       " '_16': 'Reuven',\n",
       " '_i17': 'last_name',\n",
       " '_17': 'Lerner',\n",
       " '_i18': 'shoe_size',\n",
       " '_18': 46,\n",
       " '_i19': 'x = 222\\ny = 444\\n\\nx,y = y,x',\n",
       " '_i20': \"x = 222\\ny = 444\\n\\n# (1) in assignment, right side before left side\\n# (2) on the right, we're creating a new tuple from (y,x)\\n# (3) on the left, we're using unpacking to grab two values and assign them to x and y\\n# (4) it's a complete coincidence that x,y is on the left and y,x is on the right\\n# The effect?  We have swapped the variables' values\\nx,y = y,x\",\n",
       " '_i21': 'x',\n",
       " '_21': 444,\n",
       " '_i22': 'y',\n",
       " '_22': 222,\n",
       " '_i23': \"# define a new dictionary using {}  (curly braces)\\n# a dict always has pairs of data -- key-value pairs, \\n\\n# (1) use curly braces\\n# (2) the pairs are separated by commas\\n# (3) the keys and values are separated by colons\\n# (4) you can use any type (more or less) for keys and values\\n\\nd = {'a':1, 'b':2, 'c':3}\",\n",
       " 'd': {'a': 1, 'b': 2, 'c': 3},\n",
       " '_i24': \"# define a new dictionary using {}  (curly braces)\\n# a dict always has pairs of data -- key-value pairs, \\n\\n# (1) use curly braces\\n# (2) the pairs are separated by commas\\n# (3) the keys and values are separated by colons\\n# (4) you can use any type (more or less) for keys and values\\n#   values can be ABSOLUTELY ANYTHING AT ALL -- strings, lists, dicts, etc.\\n\\nd = {'a':1, 'b':2, 'c':3}\",\n",
       " '_i25': \"# to retrieve from a dict, we use [] and the key\\nd['a']\",\n",
       " '_25': 1,\n",
       " '_i26': \"d['b']\",\n",
       " '_26': 2,\n",
       " '_i27': \"d['c']\",\n",
       " '_27': 3,\n",
       " '_i28': \"d['x']\",\n",
       " '_i29': \"d['x']  # the key 'x' does not exist, so we get an error\",\n",
       " '_i30': '# what if I want to find out if a key exists in a dict?\\n# I can use the \"in\" operator\\n# \"in\" *ONLY* looks in the keys!  It never looks at the values!',\n",
       " '_i31': \"'a' in d\",\n",
       " '_31': True,\n",
       " '_i32': \"'x' in d\",\n",
       " '_32': False,\n",
       " '_i33': '1 in d',\n",
       " '_33': False,\n",
       " '_i34': \"# Keys must be unique.  If you try to create a dict with a key \\n# that repeats, Python will enforce the uniqueness.\\n\\nd = {'a':1, 'b':2, 'a':3, 'b':4}\\nd\",\n",
       " '_34': {'a': 3, 'b': 4},\n",
       " '_i35': '# the keys of a dict can be any IMMUTABLE type -- strings, ints, floats, even tuples\\n# but *not* lists or dicts',\n",
       " '_i36': \"# a list or tuple can contain anything, but its indexes are always going to be\\n# integers, starting at 0\\n\\n# a dict's keys can be any ints, or any string, giving us more semantic power\\n# -- our data structure can feel more human\",\n",
       " '_i37': \"d = {'a':1, 'b':2, 'c':3}\\nk = 'a'\\nd[k]   # this will retrieve d['a'], because the variable k contains 'a'\",\n",
       " 'k': '',\n",
       " '_37': 1,\n",
       " '_i38': 'total = 0\\nmenu = {\\'sandwich\\':10, \\'tea\\':5, \\'cake\\':3, \\'apple\\':2}\\n\\nwhile True:\\n    order = input(\\'Order: \\').strip()  # get input, remove surrounding whitespace\\n    \\n    if order == \\'\\':      # did we get nothing at all? break from the \"while\" loop\\n        break\\n        \\n    if order in menu:        # is the user\\'s input a key in our \"menu\" dict?\\n        price = menu[order]  # retrieve the price of the user\\'s order\\n        total += price       # add price to total\\n        print(f\\'{order} costs {price}; total is now {total}\\')\\n    else:\\n        print(f\\'Sorry, we are out of {order} today!\\')\\n        \\nprint(f\\'Total is {total}.\\')',\n",
       " 'total': 5,\n",
       " 'menu': {'sandwich': 10, 'tea': 5, 'cake': 3, 'apple': 2},\n",
       " 'order': '',\n",
       " 'price': 2,\n",
       " '_i39': \"# can we modify dictionaries?\\n# that is: are they mutable?\\n\\n# YES WE CAN!\\n\\nd = {}     # empty dict\\nd['a'] = 1 # adds the key-value pair 'a':1 to our dict\\n\\nd\",\n",
       " '_39': {'b': 2, 'c': 3},\n",
       " '_i40': \"d['b'] = 2\\nd\",\n",
       " '_40': {'b': 2, 'c': 3},\n",
       " '_i41': \"d['c'] = 3\\nd\",\n",
       " '_41': {'b': 2, 'c': 3},\n",
       " '_i42': '# there isn\\'t any \"append\" method for dicts, as we saw for lists\\n# we just assign a new key-value pair, and it\\'s added to the dict.\\n\\n# what if we want to revise an existing value?\\n# same thing -- we just assign!\\n\\nd',\n",
       " '_42': {'b': 2, 'c': 3},\n",
       " '_i43': \"d['a'] = 999\\nd\",\n",
       " '_43': {'b': 2, 'c': 3},\n",
       " '_i44': '# keys must be unique in a dict!\\n# so assigning a new value to an existing key updates the value',\n",
       " '_i45': '# can you remove key-value pairs from a dict? yes!\\n# Use the \"pop\" method\\n\\nd',\n",
       " '_45': {'b': 2, 'c': 3},\n",
       " '_i46': \"d.pop('a')  # removes the key-value pair with 'a' as the key, and returns the value\",\n",
       " '_46': 999,\n",
       " '_i47': 'a',\n",
       " '_i48': 'd',\n",
       " '_48': {'b': 2, 'c': 3},\n",
       " '_i49': \"d['b']\",\n",
       " '_49': 2,\n",
       " '_i50': \"d['B']  # completely different key!\",\n",
       " '_i51': \"total = 5\\nprint(f'Your total is ${total}')\",\n",
       " '_i52': \"x = '5'  # this is a string\\n \\n# how can I get an integer from it?  I call int()\\nint(x)\",\n",
       " '_52': 5,\n",
       " '_i53': 'x = 123  # this in int\\n\\n# how can I turn it into a string?\\nstr(x)   # I get a string back, based on x',\n",
       " '_53': '123',\n",
       " '_i54': '# Turns out you can use str() on ANYTHING AT ALL in Python\\nstr(d)',\n",
       " '_54': \"{'b': 2, 'c': 3}\",\n",
       " '_i55': \"counts = {'digits':0, 'vowels':0, 'others':0}\\n\\ns = input('Enter a string: ').strip()\\n\\nfor one_character in s:  # go through s, one character at a time\\n    if one_character.isdigit():   # is one_character one of 0, 1, 2...9?\\n        counts['digits'] += 1\\n    elif one_character in 'aeiou':\\n        counts['vowels'] += 1\\n    else:\\n        counts['others'] += 1\\n        \\nprint(counts)        \",\n",
       " 'counts': {'h': 1, 'e': 1, 'l': 2, 'o': 1},\n",
       " 's': 'hello',\n",
       " 'one_character': 'o',\n",
       " '_i56': \"one_character = 'e'\\n\\none_character in 'aeiou'  # search in a string\",\n",
       " '_56': True,\n",
       " '_i57': \"one_character in 'a,e,i,o,u'  # still searching in a string, but a longer string\",\n",
       " '_57': True,\n",
       " '_i58': 'd',\n",
       " '_58': {'b': 2, 'c': 3},\n",
       " '_i59': \"print(f'{d['b']}')   # this will not work!\",\n",
       " '_i60': 'print(f\"{d[\\'b\\']}\")',\n",
       " '_i61': \"print(f'{d['b']}')\",\n",
       " '_i62': \"print(f'{d[\\\\'b\\\\']}')\",\n",
       " '_i63': \"d = {'a':1, 'b':2, 'c':3}\\n\\nd.keys()  # this returns the keys\",\n",
       " '_63': dict_keys(['a', 'b', 'c']),\n",
       " '_i64': \"d = {'a':1, 'b':2, 'c':3}\\n\\nd.keys()  # this returns the keys -- not really a list, but sorta kinda like one\",\n",
       " '_64': dict_keys(['a', 'b', 'c']),\n",
       " '_i65': 'd.values()',\n",
       " '_65': dict_values([1, 2, 3]),\n",
       " '_i66': 'd.values()  # returns the values a list-like object',\n",
       " '_66': dict_values([1, 2, 3]),\n",
       " '_i67': \"d = {'c':3, 'b':2, 'a':1}\",\n",
       " '_i68': 'd.keys()',\n",
       " '_68': dict_keys(['c', 'b', 'a']),\n",
       " '_i69': 'd.values()',\n",
       " '_69': dict_values([3, 2, 1]),\n",
       " '_i70': 'str(d)  # returns a string based on the dict d',\n",
       " '_70': \"{'c': 3, 'b': 2, 'a': 1}\",\n",
       " '_i71': \"# what if I want to create a dict?  I can call dict()\\n# I call it on a list of lists or a list of tuples\\n\\nstuff = [('a', 1), ('b', 2), ('c', 3)]\\ndict(stuff)\",\n",
       " 'stuff': [('a', 1), ('b', 2), ('c', 3)],\n",
       " '_71': {'a': 1, 'b': 2, 'c': 3},\n",
       " '_i72': \"# what if I want to create a dict?  I can call dict()\\n# I call it on a list of lists or a list of tuples\\n\\nstuff = [('a', 1), ('b', 2), ('c', 3)]\\nd = dict(stuff)\\nd\",\n",
       " '_72': {'a': 1, 'b': 2, 'c': 3},\n",
       " '_i73': \"# Example: Letter counter\\n\\ncounts = {}   # empty dict\\n\\ns = input('Enter a string: ').strip()\\n\\nfor one_character in s:\\n    counts[one_character] += 1  # this won't work!\\n    \\nprint(counts)    \",\n",
       " '_i74': \"# Example: Letter counter\\n\\ncounts = {}   # empty dict\\n\\ns = input('Enter a string: ').strip()\\n\\nfor one_character in s:\\n    if one_character in counts:\\n        counts[one_character] += 1     # we've seen one_character before\\n    else:\\n        counts[one_character] = 1      # first time encountering one_character\\n    \\nprint(counts)    \",\n",
       " '_i75': \"d = {'a':1, 'b':2, 'c':3}\\n\\nwhile True:\\n    k = input('Enter a key: ').strip()\\n    \\n    if k == '':\\n        break\\n        \\n    elif k in d:\\n        print(f'd[{k}] is {d[k]}')\\n    else:\\n        print(f'{k} is not a key in {d}')\",\n",
       " '_i76': \"# shortcut is : the dict.get method\\n\\n# If you call .get on a dict, passing an argument,\\n# it tries to use [] on that argument\\n# if the argument exists as a key, you get the value back\\n# if it doesn't, you get None back\\n\\nd.get('a')   # just like d['a']\",\n",
       " '_76': 1,\n",
       " '_i77': \"d.get('b')   # just like d['b']\",\n",
       " '_77': 2,\n",
       " '_i78': \"d.get('x')    # 'x' is not a key in d... so we get back None\",\n",
       " '_i79': \"# the get method is a more forgiving way of retrieving values from dicts\\n# if the key doesn't exist, the program won't blow up!\\n\\n# get is even better - you can pass a second argument!\\n# if the key doesn't exist, we get back that argument\\n\\nd.get('x', 12345)\",\n",
       " '_79': 12345,\n",
       " '_i80': '# rewrite with dict.get\\nd = {\\'a\\':1, \\'b\\':2, \\'c\\':3}\\n\\nwhile True:\\n    k = input(\\'Enter a key: \\').strip()\\n    \\n    if k == \\'\\':\\n        break\\n        \\n    print(f\\'d[{k}] is {d.get(k, f\"No such key {k}\")}\\')',\n",
       " '_i81': \"# Example: Letter counter\\n\\ncounts = {}   # empty dict\\n\\ns = input('Enter a string: ').strip()\\n\\nfor one_character in s:\\n    counts[one_character] = counts.get(one_character, 0) + 1\\n    \\nprint(counts)    \",\n",
       " '_i82': \"# the below code means:\\n\\n# (1) is 'a' a key in d?\\n# (2) if so, then return d['a']\\n# (3) if not, then return 0\\n\\nd.get('a', 0)    \",\n",
       " '_82': 1,\n",
       " '_i83': \"# (1) is 'a' a key in d?\\n# (2) If so, return d['a']\\n# (3) if not, return [10, 20, 30]\\n\\nd.get('a', [10, 20, 30])\",\n",
       " '_83': 1,\n",
       " '_i84': 'd',\n",
       " '_84': {'a': 1, 'b': 2, 'c': 3},\n",
       " '_i85': \"d.get('a', 0)  # give me d['a'] if it exists. If it doesn't, give me 0\",\n",
       " '_85': 1,\n",
       " '_i86': \"rainfall = {}\\n\\nwhile True:\\n    city_name = input('City: ').strip()\\n    \\n    if city_name == '':\\n        break\\n        \\n    mm_rain = input('Rain: ').strip()  # this is a string!\\n    mm_rain = int(mm_rain)    # get an int, assume user input was valid\\n    \\n    if city_name in rainfall:\\n        rainfall[city_name] += mm_rain\\n    else:\\n        rainfall[city_name] = mm_rain\\n        \\nprint(rainfall)        \\n    \\n    \",\n",
       " 'rainfall': {'a': 8, 'b': 4},\n",
       " 'city_name': '',\n",
       " 'mm_rain': 3,\n",
       " '_i87': \"rainfall = {}\\n\\nwhile city_name = input('City: ').strip():\\n        \\n    mm_rain = input('Rain: ').strip()  # this is a string!\\n    mm_rain = int(mm_rain)    # get an int, assume user input was valid\\n    \\n    rainfall[city_name] = rainfall.get(city_name, 0) + mm_rain\\n        \\nprint(rainfall)    \",\n",
       " '_i88': '# if I call the \"globals()\" function, it returns a dict\\n# with all of the global variables in Python!\\n\\n# keys are our variable names\\n# the values are our variable values\\n\\nglobals()'}"
      ]
     },
     "execution_count": 88,
     "metadata": {},
     "output_type": "execute_result"
    }
   ],
   "source": [
    "# if I call the \"globals()\" function, it returns a dict\n",
    "# with all of the global variables in Python!\n",
    "\n",
    "# keys are our variable names\n",
    "# the values are our variable values\n",
    "\n",
    "globals()"
   ]
  },
  {
   "cell_type": "code",
   "execution_count": null,
   "metadata": {},
   "outputs": [],
   "source": [
    "print(d)"
   ]
  },
  {
   "cell_type": "code",
   "execution_count": 92,
   "metadata": {},
   "outputs": [
    {
     "name": "stdout",
     "output_type": "stream",
     "text": [
      "a\n",
      "b\n",
      "c\n",
      "d\n"
     ]
    }
   ],
   "source": [
    "# we can loop over a string:\n",
    "for one_item in 'abcd':\n",
    "    print(one_item)"
   ]
  },
  {
   "cell_type": "code",
   "execution_count": 93,
   "metadata": {},
   "outputs": [
    {
     "name": "stdout",
     "output_type": "stream",
     "text": [
      "10\n",
      "20\n",
      "30\n"
     ]
    }
   ],
   "source": [
    "# we can loop over a list:\n",
    "for one_item in [10, 20, 30]:\n",
    "    print(one_item)"
   ]
  },
  {
   "cell_type": "code",
   "execution_count": 94,
   "metadata": {},
   "outputs": [
    {
     "name": "stdout",
     "output_type": "stream",
     "text": [
      "a\n",
      "b\n",
      "c\n"
     ]
    }
   ],
   "source": [
    "# what happens if we loop over a dict?\n",
    "d = {'a':1, 'b':2, 'c':3}\n",
    "\n",
    "# we get the *keys* from the dict!\n",
    "for one_item in d:\n",
    "    print(one_item)"
   ]
  },
  {
   "cell_type": "code",
   "execution_count": 95,
   "metadata": {},
   "outputs": [
    {
     "name": "stdout",
     "output_type": "stream",
     "text": [
      "a: 1\n",
      "b: 2\n",
      "c: 3\n"
     ]
    }
   ],
   "source": [
    "# To print my dict, I can say this:\n",
    "\n",
    "for one_key in d:\n",
    "    print(f'{one_key}: {d[one_key]}')"
   ]
  },
  {
   "cell_type": "code",
   "execution_count": 97,
   "metadata": {},
   "outputs": [
    {
     "name": "stdout",
     "output_type": "stream",
     "text": [
      "a: 1\n",
      "b: 2\n",
      "c: 3\n"
     ]
    }
   ],
   "source": [
    "# could I instead do this:\n",
    "\n",
    "# this will work, but it is slower and has no advantage\n",
    "for one_key in d.keys():\n",
    "    print(f'{one_key}: {d[one_key]}')"
   ]
  },
  {
   "cell_type": "code",
   "execution_count": 98,
   "metadata": {},
   "outputs": [
    {
     "name": "stdout",
     "output_type": "stream",
     "text": [
      "('a', 1)\n",
      "('b', 2)\n",
      "('c', 3)\n"
     ]
    }
   ],
   "source": [
    "# there is a method, items(), which returns a list of tuples (keys and values)\n",
    "\n",
    "for t in d.items():\n",
    "    print(t)"
   ]
  },
  {
   "cell_type": "code",
   "execution_count": 100,
   "metadata": {},
   "outputs": [
    {
     "name": "stdout",
     "output_type": "stream",
     "text": [
      "a: 1\n",
      "b: 2\n",
      "c: 3\n"
     ]
    }
   ],
   "source": [
    "# getting each key-value tuple from d\n",
    "# printing each key-value pair\n",
    "for t in d.items():\n",
    "    print(f'{t[0]}: {t[1]}')"
   ]
  },
  {
   "cell_type": "code",
   "execution_count": 101,
   "metadata": {},
   "outputs": [
    {
     "name": "stdout",
     "output_type": "stream",
     "text": [
      "a: 1\n",
      "b: 2\n",
      "c: 3\n"
     ]
    }
   ],
   "source": [
    "# I use tuple unpacking to turn each iteration on d.items() into key-value variables\n",
    "for key,value in d.items():\n",
    "    print(f'{key}: {value}')"
   ]
  },
  {
   "cell_type": "code",
   "execution_count": 103,
   "metadata": {},
   "outputs": [
    {
     "name": "stdout",
     "output_type": "stream",
     "text": [
      "0: a\n",
      "1: b\n",
      "2: c\n"
     ]
    }
   ],
   "source": [
    "# enumerate returns a tuple (index, value) with each iteration\n",
    "# we can use unpacking to retrieve and separate them\n",
    "\n",
    "for index, one_letter in enumerate('abc'):\n",
    "    print(f'{index}: {one_letter}')"
   ]
  },
  {
   "cell_type": "code",
   "execution_count": 104,
   "metadata": {},
   "outputs": [
    {
     "data": {
      "text/plain": [
       "'edcba'"
      ]
     },
     "execution_count": 104,
     "metadata": {},
     "output_type": "execute_result"
    }
   ],
   "source": [
    "s = 'abcde'\n",
    "s[::-1]  # returns a new string -- s in reverse"
   ]
  },
  {
   "cell_type": "code",
   "execution_count": 105,
   "metadata": {},
   "outputs": [
    {
     "name": "stdout",
     "output_type": "stream",
     "text": [
      "a: 1\n",
      "b: 2\n",
      "c: 3\n",
      "d: 2\n",
      "e: 5\n",
      "f: 2\n",
      "g: 6\n",
      "h: 2\n"
     ]
    }
   ],
   "source": [
    "d = {'a':1, 'b':2, 'c':3, 'd':2, 'e':5, 'f':2, 'g':6, 'h':2}\n",
    "\n",
    "for key, value in d.items():\n",
    "    print(f'{key}: {value}')"
   ]
  },
  {
   "cell_type": "code",
   "execution_count": 106,
   "metadata": {},
   "outputs": [
    {
     "ename": "RuntimeError",
     "evalue": "dictionary changed size during iteration",
     "output_type": "error",
     "traceback": [
      "\u001b[0;31m---------------------------------------------------------------------------\u001b[0m",
      "\u001b[0;31mRuntimeError\u001b[0m                              Traceback (most recent call last)",
      "\u001b[0;32m<ipython-input-106-1a44e8d9e302>\u001b[0m in \u001b[0;36m<module>\u001b[0;34m\u001b[0m\n\u001b[1;32m      5\u001b[0m \u001b[0mvalue_to_remove\u001b[0m \u001b[0;34m=\u001b[0m \u001b[0;36m2\u001b[0m\u001b[0;34m\u001b[0m\u001b[0;34m\u001b[0m\u001b[0m\n\u001b[1;32m      6\u001b[0m \u001b[0;34m\u001b[0m\u001b[0m\n\u001b[0;32m----> 7\u001b[0;31m \u001b[0;32mfor\u001b[0m \u001b[0mkey\u001b[0m\u001b[0;34m,\u001b[0m \u001b[0mvalue\u001b[0m \u001b[0;32min\u001b[0m \u001b[0md\u001b[0m\u001b[0;34m.\u001b[0m\u001b[0mitems\u001b[0m\u001b[0;34m(\u001b[0m\u001b[0;34m)\u001b[0m\u001b[0;34m:\u001b[0m\u001b[0;34m\u001b[0m\u001b[0;34m\u001b[0m\u001b[0m\n\u001b[0m\u001b[1;32m      8\u001b[0m     \u001b[0;32mif\u001b[0m \u001b[0mvalue\u001b[0m \u001b[0;34m==\u001b[0m \u001b[0mvalue_to_remove\u001b[0m\u001b[0;34m:\u001b[0m\u001b[0;34m\u001b[0m\u001b[0;34m\u001b[0m\u001b[0m\n\u001b[1;32m      9\u001b[0m         \u001b[0md\u001b[0m\u001b[0;34m.\u001b[0m\u001b[0mpop\u001b[0m\u001b[0;34m(\u001b[0m\u001b[0mkey\u001b[0m\u001b[0;34m)\u001b[0m\u001b[0;34m\u001b[0m\u001b[0;34m\u001b[0m\u001b[0m\n",
      "\u001b[0;31mRuntimeError\u001b[0m: dictionary changed size during iteration"
     ]
    }
   ],
   "source": [
    "# I'm going to iterate over the dict\n",
    "# whenever I see the value 2, I will pop that key from the dict\n",
    "\n",
    "d = {'a':1, 'b':2, 'c':3, 'd':2, 'e':5, 'f':2, 'g':6, 'h':2}\n",
    "value_to_remove = 2\n",
    "\n",
    "for key, value in d.items():\n",
    "    if value == value_to_remove:\n",
    "        d.pop(key)\n",
    "        \n",
    "print(d)        "
   ]
  },
  {
   "cell_type": "code",
   "execution_count": 107,
   "metadata": {},
   "outputs": [
    {
     "name": "stdout",
     "output_type": "stream",
     "text": [
      "{'a': 1, 'c': 3, 'e': 5, 'g': 6}\n"
     ]
    }
   ],
   "source": [
    "# Try again, using a list of keys to remove, and then iterate over that\n",
    "\n",
    "d = {'a':1, 'b':2, 'c':3, 'd':2, 'e':5, 'f':2, 'g':6, 'h':2}\n",
    "value_to_remove = 2\n",
    "keys_to_remove = []\n",
    "\n",
    "for key, value in d.items():\n",
    "    if value == value_to_remove:\n",
    "        keys_to_remove.append(key)\n",
    "        \n",
    "for one_key in keys_to_remove:\n",
    "    d.pop(one_key)\n",
    "        \n",
    "print(d)        "
   ]
  },
  {
   "cell_type": "code",
   "execution_count": 108,
   "metadata": {},
   "outputs": [],
   "source": [
    "d = {'a':0, 'b':1, 'c':0, 'd':1}\n",
    "\n",
    "# how many keys have 0 values, and how many have 1 values?\n",
    "zeroes = 0\n",
    "ones = 0\n",
    "\n",
    "for key, value in d.items():\n",
    "    if value == 1:\n",
    "        ones += 1\n",
    "    elif value == 0:\n",
    "        zeroes += 1\n",
    "    else:\n",
    "        print(f'Bad value {value}')"
   ]
  },
  {
   "cell_type": "code",
   "execution_count": 109,
   "metadata": {},
   "outputs": [
    {
     "data": {
      "text/plain": [
       "2"
      ]
     },
     "execution_count": 109,
     "metadata": {},
     "output_type": "execute_result"
    }
   ],
   "source": [
    "zeroes"
   ]
  },
  {
   "cell_type": "code",
   "execution_count": 110,
   "metadata": {},
   "outputs": [
    {
     "data": {
      "text/plain": [
       "2"
      ]
     },
     "execution_count": 110,
     "metadata": {},
     "output_type": "execute_result"
    }
   ],
   "source": [
    "ones"
   ]
  },
  {
   "cell_type": "markdown",
   "metadata": {},
   "source": [
    "# Searching in data structures\n",
    "\n",
    "If I have a list, and want to know if a value is in the list, I can use `in`. Python needs to go through each element in the list to see if it matches our search target.  Once we find it, Python can stop.\n",
    "\n",
    "The longer the list, the longer Python potentially needs to search.  This is described as `O(n)` in computer science.  \n",
    "\n",
    "If I have a dict, and want to know if something is a key in the dict, I can use `in`. Python finds keys in constant time, which we write as `O(1)`.  It doesn't matter how  many key-value pairs you have! "
   ]
  },
  {
   "cell_type": "markdown",
   "metadata": {},
   "source": [
    "# Files!\n",
    "\n",
    "We are going to deal with plain-text files, which often have a `.txt` extension. Can Python handle fancier file types? Absolutely. But you need patience and/or special libraries to work with them, and we don't have those tonight.\n",
    "\n",
    "To work with a file, we'll need to \"open\" it:\n",
    "\n",
    "- We call `open` on a filename\n",
    "- This asks the operating system to open the file on our behalf.  \n",
    "- We get a \"file-like object\" back.  Some languages would call this a \"file handle.\" Some would just call it a file object.\n",
    "- We use that file object to read data, or to write data.\n",
    "- When we're done with the file object, we close it.  That releases resources on the computer."
   ]
  },
  {
   "cell_type": "code",
   "execution_count": 111,
   "metadata": {},
   "outputs": [
    {
     "data": {
      "text/plain": [
       "_io.TextIOWrapper"
      ]
     },
     "execution_count": 111,
     "metadata": {},
     "output_type": "execute_result"
    }
   ],
   "source": [
    "# Example: Reading from /etc/passwd, which is a standard Unix file.\n",
    "\n",
    "# opening a file without specifying read/write, means: read\n",
    "f = open('/etc/passwd')  # opening a file, getting a file object back\n",
    "type(f)"
   ]
  },
  {
   "cell_type": "code",
   "execution_count": 112,
   "metadata": {},
   "outputs": [
    {
     "data": {
      "text/plain": [
       "<_io.TextIOWrapper name='/etc/passwd' mode='r' encoding='UTF-8'>"
      ]
     },
     "execution_count": 112,
     "metadata": {},
     "output_type": "execute_result"
    }
   ],
   "source": [
    "f"
   ]
  },
  {
   "cell_type": "code",
   "execution_count": 114,
   "metadata": {},
   "outputs": [
    {
     "data": {
      "text/plain": [
       "''"
      ]
     },
     "execution_count": 114,
     "metadata": {},
     "output_type": "execute_result"
    }
   ],
   "source": [
    "# how can I read from the file?  I could use the read() method\n",
    "\n",
    "f.read()    # return a string with the file's contents since the last read()"
   ]
  },
  {
   "cell_type": "code",
   "execution_count": null,
   "metadata": {},
   "outputs": [],
   "source": []
  }
 ],
 "metadata": {
  "kernelspec": {
   "display_name": "Python 3",
   "language": "python",
   "name": "python3"
  },
  "language_info": {
   "codemirror_mode": {
    "name": "ipython",
    "version": 3
   },
   "file_extension": ".py",
   "mimetype": "text/x-python",
   "name": "python",
   "nbconvert_exporter": "python",
   "pygments_lexer": "ipython3",
   "version": "3.9.6"
  }
 },
 "nbformat": 4,
 "nbformat_minor": 4
}
