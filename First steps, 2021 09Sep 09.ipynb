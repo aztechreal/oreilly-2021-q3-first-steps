{
 "cells": [
  {
   "cell_type": "markdown",
   "metadata": {},
   "source": [
    "# Modules!\n",
    "\n",
    "1. Challenge question\n",
    "2. What are modules?\n",
    "3. What is `import`, and how does it work?\n",
    "4. Developing a module\n",
    "5. Python's standard library\n",
    "6. Modules vs. packages\n",
    "7. PyPI\n",
    "8. `pip` and installing packages from PyPI"
   ]
  },
  {
   "cell_type": "code",
   "execution_count": 2,
   "metadata": {},
   "outputs": [
    {
     "name": "stdout",
     "output_type": "stream",
     "text": [
      "reuven\r\n"
     ]
    }
   ],
   "source": [
    "!whoami"
   ]
  },
  {
   "cell_type": "markdown",
   "metadata": {},
   "source": [
    "# Python Skills Challenge: Functions\n",
    "\n",
    "In this challenge, you are to write a function `count_ips`. The function will take a single argument, a string naming a logfile from a Web server.  The function will return a Python dict, in which the keys are IP addresses from the file, and the values represent the number of times each IP address made a request from the site.\n",
    "\n",
    "Here are the first few lines from the sort of logfile the function should expect:\n",
    "\n",
    "```\n",
    "67.218.116.165 - - [30/Jan/2010:00:03:18 +0200] \"GET /robots.txt HTTP/1.0\" 200 99 \"-\" \"Mozilla/5.0 (Twiceler-0.9 http://www.cuil.com/twiceler/robot.html)\"\n",
    "66.249.71.65 - - [30/Jan/2010:00:12:06 +0200] \"GET /browse/one_node/1557 HTTP/1.1\" 200 39208 \"-\" \"Mozilla/5.0 (compatible; Googlebot/2.1; +http://www.google.com/bot.html)\"\n",
    "65.55.106.183 - - [30/Jan/2010:01:29:23 +0200] \"GET /robots.txt HTTP/1.1\" 200 99 \"-\" \"msnbot/2.0b (+http://search.msn.com/msnbot.htm)\"\n",
    "65.55.106.183 - - [30/Jan/2010:01:30:06 +0200] \"GET /browse/one_model/2162 HTTP/1.1\" 200 2181 \"-\" \"msnbot/2.0b (+http://search.msn.com/msnbot.htm)\"\n",
    "66.249.71.65 - - [30/Jan/2010:02:07:14 +0200] \"GET /browse/browse_applet_tab/2593 HTTP/1.1\" 200 10305 \"-\" \"Mozilla/5.0 (compatible; Googlebot/2.1; +http://www.google.com/bot.html)\"\n",
    "```\n",
    "\n",
    "Notice that each line of the file starts with an IP address, and then has (among other things) the timestamp at which the request was made, the actual request, and an indication of what browser was used to make the request.\n",
    "\n",
    "If the file is empty, then the returned dictionary should be empty.\n",
    "\n",
    "This Katacoda challenge system will test your function against a file, `logfile.txt`, that is in the current `/root` directory. When the function returns the correct values, you will see an indication of this.\n",
    "\n",
    "Good luck!\n"
   ]
  },
  {
   "cell_type": "code",
   "execution_count": 7,
   "metadata": {},
   "outputs": [
    {
     "name": "stdout",
     "output_type": "stream",
     "text": [
      "155 172 135 148 181 187 159 172 178 170 172 135 148 178 189 177 177 178 177 177 135 139 178 178 177 155 169 159 150 164 177 176 171 171 172 171 134 127 178 171 172 191 191 176 178 134 146 178 134 176 163 178 198 176 190 187 183 193 183 199 196 187 195 184 184 187 196 190 192 190 195 196 192 192 197 190 195 177 178 135 148 178 176 166 177 320 320 176 178 176 156 176 168 177 177 177 135 145 177 173 176 133 178 134 147 174 155 172 228 176 177 125 176 159 176 166 177 176 152 134 148 154 147 139 148 156 156 156 156 156 156 150 149 155 156 156 156 155 151 142 178 176 156 177 179 171 180 179 125 177 180 178 178 178 177 177 179 172 176 177 176 177 178 177 181 176 178 178 176 171 178 240 236 249 252 284 282 274 272 272 277 274 277 278 279 178 134 125 139 177 176 177 177 179 178 134 141 176 178 178 178 176 178 178 172 171 "
     ]
    },
    {
     "data": {
      "text/plain": [
       "{}"
      ]
     },
     "execution_count": 7,
     "metadata": {},
     "output_type": "execute_result"
    }
   ],
   "source": [
    "# set the filename we're reading from\n",
    "# (same as logfile.txt in the challenge -- this is the name on my system and GitHub)\n",
    "filename = 'mini-access-log.txt'  \n",
    "\n",
    "# define the function \n",
    "def count_ips(infilename):\n",
    "\n",
    "    # setup\n",
    "    output = {}\n",
    "    \n",
    "    # processing\n",
    "    for one_line in open(infilename):\n",
    "        print(len(one_line), end=' ')   # don't go down one line after each print\n",
    "    \n",
    "    # output\n",
    "    return output\n",
    "\n",
    "# run the function\n",
    "count_ips(filename)"
   ]
  },
  {
   "cell_type": "code",
   "execution_count": null,
   "metadata": {},
   "outputs": [],
   "source": []
  }
 ],
 "metadata": {
  "kernelspec": {
   "display_name": "Python 3",
   "language": "python",
   "name": "python3"
  },
  "language_info": {
   "codemirror_mode": {
    "name": "ipython",
    "version": 3
   },
   "file_extension": ".py",
   "mimetype": "text/x-python",
   "name": "python",
   "nbconvert_exporter": "python",
   "pygments_lexer": "ipython3",
   "version": "3.9.7"
  }
 },
 "nbformat": 4,
 "nbformat_minor": 4
}
